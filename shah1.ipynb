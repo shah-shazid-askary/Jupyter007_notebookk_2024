{
 "cells": [
  {
   "cell_type": "code",
   "execution_count": 1,
   "id": "27831594-af12-4ac3-b482-1213bfa82c7f",
   "metadata": {},
   "outputs": [],
   "source": [
    "import numpy as np\n",
    "import pandas as pd"
   ]
  },
  {
   "cell_type": "code",
   "execution_count": 2,
   "id": "d06004b6-ae29-47aa-94c7-7062765d1e49",
   "metadata": {},
   "outputs": [],
   "source": [
    "dict1 = {\n",
    "    \"name\":['harry', 'rohan', 'skillf', 'shubh'],\n",
    "    \"mark\":[93, 34, 24,17],\n",
    "    \"city\":['dhaka', 'khulna', 'kushtia', 'kolkata'],\n",
    "}"
   ]
  },
  {
   "cell_type": "code",
   "execution_count": 3,
   "id": "af33e1a0-ec37-43be-a0b1-d156e1bc4fa1",
   "metadata": {},
   "outputs": [],
   "source": [
    "df = pd.DataFrame(dict1)"
   ]
  },
  {
   "cell_type": "code",
   "execution_count": 4,
   "id": "3d5b8363-a519-4f5f-903d-da799b41d4da",
   "metadata": {},
   "outputs": [
    {
     "data": {
      "text/html": [
       "<div>\n",
       "<style scoped>\n",
       "    .dataframe tbody tr th:only-of-type {\n",
       "        vertical-align: middle;\n",
       "    }\n",
       "\n",
       "    .dataframe tbody tr th {\n",
       "        vertical-align: top;\n",
       "    }\n",
       "\n",
       "    .dataframe thead th {\n",
       "        text-align: right;\n",
       "    }\n",
       "</style>\n",
       "<table border=\"1\" class=\"dataframe\">\n",
       "  <thead>\n",
       "    <tr style=\"text-align: right;\">\n",
       "      <th></th>\n",
       "      <th>name</th>\n",
       "      <th>mark</th>\n",
       "      <th>city</th>\n",
       "    </tr>\n",
       "  </thead>\n",
       "  <tbody>\n",
       "    <tr>\n",
       "      <th>0</th>\n",
       "      <td>harry</td>\n",
       "      <td>93</td>\n",
       "      <td>dhaka</td>\n",
       "    </tr>\n",
       "    <tr>\n",
       "      <th>1</th>\n",
       "      <td>rohan</td>\n",
       "      <td>34</td>\n",
       "      <td>khulna</td>\n",
       "    </tr>\n",
       "    <tr>\n",
       "      <th>2</th>\n",
       "      <td>skillf</td>\n",
       "      <td>24</td>\n",
       "      <td>kushtia</td>\n",
       "    </tr>\n",
       "    <tr>\n",
       "      <th>3</th>\n",
       "      <td>shubh</td>\n",
       "      <td>17</td>\n",
       "      <td>kolkata</td>\n",
       "    </tr>\n",
       "  </tbody>\n",
       "</table>\n",
       "</div>"
      ],
      "text/plain": [
       "     name  mark     city\n",
       "0   harry    93    dhaka\n",
       "1   rohan    34   khulna\n",
       "2  skillf    24  kushtia\n",
       "3   shubh    17  kolkata"
      ]
     },
     "execution_count": 4,
     "metadata": {},
     "output_type": "execute_result"
    }
   ],
   "source": [
    "df"
   ]
  },
  {
   "cell_type": "code",
   "execution_count": 5,
   "id": "4297d1d1-8eb8-44bd-9d3b-1f47f13b36a4",
   "metadata": {},
   "outputs": [],
   "source": [
    "df.to_csv('friends.csv')"
   ]
  },
  {
   "cell_type": "code",
   "execution_count": 6,
   "id": "9b8af350-ea5f-425b-8b60-09a163600a74",
   "metadata": {},
   "outputs": [],
   "source": [
    "df.to_csv('friends_index_false.csv', index=False)"
   ]
  },
  {
   "cell_type": "code",
   "execution_count": 7,
   "id": "33306a1a-c597-4565-b848-251138face87",
   "metadata": {},
   "outputs": [
    {
     "data": {
      "text/html": [
       "<div>\n",
       "<style scoped>\n",
       "    .dataframe tbody tr th:only-of-type {\n",
       "        vertical-align: middle;\n",
       "    }\n",
       "\n",
       "    .dataframe tbody tr th {\n",
       "        vertical-align: top;\n",
       "    }\n",
       "\n",
       "    .dataframe thead th {\n",
       "        text-align: right;\n",
       "    }\n",
       "</style>\n",
       "<table border=\"1\" class=\"dataframe\">\n",
       "  <thead>\n",
       "    <tr style=\"text-align: right;\">\n",
       "      <th></th>\n",
       "      <th>name</th>\n",
       "      <th>mark</th>\n",
       "      <th>city</th>\n",
       "    </tr>\n",
       "  </thead>\n",
       "  <tbody>\n",
       "    <tr>\n",
       "      <th>0</th>\n",
       "      <td>harry</td>\n",
       "      <td>93</td>\n",
       "      <td>dhaka</td>\n",
       "    </tr>\n",
       "    <tr>\n",
       "      <th>1</th>\n",
       "      <td>rohan</td>\n",
       "      <td>34</td>\n",
       "      <td>khulna</td>\n",
       "    </tr>\n",
       "  </tbody>\n",
       "</table>\n",
       "</div>"
      ],
      "text/plain": [
       "    name  mark    city\n",
       "0  harry    93   dhaka\n",
       "1  rohan    34  khulna"
      ]
     },
     "execution_count": 7,
     "metadata": {},
     "output_type": "execute_result"
    }
   ],
   "source": [
    "df.head(2)"
   ]
  },
  {
   "cell_type": "code",
   "execution_count": 8,
   "id": "487663f2-a2ab-4979-92f2-d517e89b66de",
   "metadata": {},
   "outputs": [
    {
     "data": {
      "text/html": [
       "<div>\n",
       "<style scoped>\n",
       "    .dataframe tbody tr th:only-of-type {\n",
       "        vertical-align: middle;\n",
       "    }\n",
       "\n",
       "    .dataframe tbody tr th {\n",
       "        vertical-align: top;\n",
       "    }\n",
       "\n",
       "    .dataframe thead th {\n",
       "        text-align: right;\n",
       "    }\n",
       "</style>\n",
       "<table border=\"1\" class=\"dataframe\">\n",
       "  <thead>\n",
       "    <tr style=\"text-align: right;\">\n",
       "      <th></th>\n",
       "      <th>name</th>\n",
       "      <th>mark</th>\n",
       "      <th>city</th>\n",
       "    </tr>\n",
       "  </thead>\n",
       "  <tbody>\n",
       "    <tr>\n",
       "      <th>2</th>\n",
       "      <td>skillf</td>\n",
       "      <td>24</td>\n",
       "      <td>kushtia</td>\n",
       "    </tr>\n",
       "    <tr>\n",
       "      <th>3</th>\n",
       "      <td>shubh</td>\n",
       "      <td>17</td>\n",
       "      <td>kolkata</td>\n",
       "    </tr>\n",
       "  </tbody>\n",
       "</table>\n",
       "</div>"
      ],
      "text/plain": [
       "     name  mark     city\n",
       "2  skillf    24  kushtia\n",
       "3   shubh    17  kolkata"
      ]
     },
     "execution_count": 8,
     "metadata": {},
     "output_type": "execute_result"
    }
   ],
   "source": [
    "df.tail(2)"
   ]
  },
  {
   "cell_type": "code",
   "execution_count": 9,
   "id": "b90fbade-e603-4dc6-a3b1-d03b95411137",
   "metadata": {},
   "outputs": [
    {
     "data": {
      "text/html": [
       "<div>\n",
       "<style scoped>\n",
       "    .dataframe tbody tr th:only-of-type {\n",
       "        vertical-align: middle;\n",
       "    }\n",
       "\n",
       "    .dataframe tbody tr th {\n",
       "        vertical-align: top;\n",
       "    }\n",
       "\n",
       "    .dataframe thead th {\n",
       "        text-align: right;\n",
       "    }\n",
       "</style>\n",
       "<table border=\"1\" class=\"dataframe\">\n",
       "  <thead>\n",
       "    <tr style=\"text-align: right;\">\n",
       "      <th></th>\n",
       "      <th>mark</th>\n",
       "    </tr>\n",
       "  </thead>\n",
       "  <tbody>\n",
       "    <tr>\n",
       "      <th>count</th>\n",
       "      <td>4.000000</td>\n",
       "    </tr>\n",
       "    <tr>\n",
       "      <th>mean</th>\n",
       "      <td>42.000000</td>\n",
       "    </tr>\n",
       "    <tr>\n",
       "      <th>std</th>\n",
       "      <td>34.708308</td>\n",
       "    </tr>\n",
       "    <tr>\n",
       "      <th>min</th>\n",
       "      <td>17.000000</td>\n",
       "    </tr>\n",
       "    <tr>\n",
       "      <th>25%</th>\n",
       "      <td>22.250000</td>\n",
       "    </tr>\n",
       "    <tr>\n",
       "      <th>50%</th>\n",
       "      <td>29.000000</td>\n",
       "    </tr>\n",
       "    <tr>\n",
       "      <th>75%</th>\n",
       "      <td>48.750000</td>\n",
       "    </tr>\n",
       "    <tr>\n",
       "      <th>max</th>\n",
       "      <td>93.000000</td>\n",
       "    </tr>\n",
       "  </tbody>\n",
       "</table>\n",
       "</div>"
      ],
      "text/plain": [
       "            mark\n",
       "count   4.000000\n",
       "mean   42.000000\n",
       "std    34.708308\n",
       "min    17.000000\n",
       "25%    22.250000\n",
       "50%    29.000000\n",
       "75%    48.750000\n",
       "max    93.000000"
      ]
     },
     "execution_count": 9,
     "metadata": {},
     "output_type": "execute_result"
    }
   ],
   "source": [
    "df.describe()"
   ]
  },
  {
   "cell_type": "code",
   "execution_count": 10,
   "id": "3ab3127a-22bd-49ad-8815-427ca0ec8fac",
   "metadata": {},
   "outputs": [],
   "source": [
    "shah = pd.read_csv('shah.csv')"
   ]
  },
  {
   "cell_type": "code",
   "execution_count": 11,
   "id": "07b13aaf-abf4-4035-a1ae-c5e68f6e7767",
   "metadata": {},
   "outputs": [
    {
     "data": {
      "text/html": [
       "<div>\n",
       "<style scoped>\n",
       "    .dataframe tbody tr th:only-of-type {\n",
       "        vertical-align: middle;\n",
       "    }\n",
       "\n",
       "    .dataframe tbody tr th {\n",
       "        vertical-align: top;\n",
       "    }\n",
       "\n",
       "    .dataframe thead th {\n",
       "        text-align: right;\n",
       "    }\n",
       "</style>\n",
       "<table border=\"1\" class=\"dataframe\">\n",
       "  <thead>\n",
       "    <tr style=\"text-align: right;\">\n",
       "      <th></th>\n",
       "      <th>Unnamed: 0.1</th>\n",
       "      <th>Unnamed: 0</th>\n",
       "      <th>name</th>\n",
       "      <th>mark</th>\n",
       "      <th>city</th>\n",
       "    </tr>\n",
       "  </thead>\n",
       "  <tbody>\n",
       "    <tr>\n",
       "      <th>0</th>\n",
       "      <td>0</td>\n",
       "      <td>0</td>\n",
       "      <td>harry</td>\n",
       "      <td>99</td>\n",
       "      <td>dhaka</td>\n",
       "    </tr>\n",
       "    <tr>\n",
       "      <th>1</th>\n",
       "      <td>1</td>\n",
       "      <td>1</td>\n",
       "      <td>rohan</td>\n",
       "      <td>34</td>\n",
       "      <td>khulna</td>\n",
       "    </tr>\n",
       "    <tr>\n",
       "      <th>2</th>\n",
       "      <td>2</td>\n",
       "      <td>2</td>\n",
       "      <td>skillf</td>\n",
       "      <td>24</td>\n",
       "      <td>kushtia</td>\n",
       "    </tr>\n",
       "    <tr>\n",
       "      <th>3</th>\n",
       "      <td>3</td>\n",
       "      <td>3</td>\n",
       "      <td>shubh</td>\n",
       "      <td>17</td>\n",
       "      <td>kolkata</td>\n",
       "    </tr>\n",
       "  </tbody>\n",
       "</table>\n",
       "</div>"
      ],
      "text/plain": [
       "   Unnamed: 0.1  Unnamed: 0    name  mark     city\n",
       "0             0           0   harry    99    dhaka\n",
       "1             1           1   rohan    34   khulna\n",
       "2             2           2  skillf    24  kushtia\n",
       "3             3           3   shubh    17  kolkata"
      ]
     },
     "execution_count": 11,
     "metadata": {},
     "output_type": "execute_result"
    }
   ],
   "source": [
    "shah"
   ]
  },
  {
   "cell_type": "code",
   "execution_count": 12,
   "id": "986313e7-7280-4a53-8bee-a4b430e5d980",
   "metadata": {},
   "outputs": [
    {
     "data": {
      "text/plain": [
       "0      dhaka\n",
       "1     khulna\n",
       "2    kushtia\n",
       "3    kolkata\n",
       "Name: city, dtype: object"
      ]
     },
     "execution_count": 12,
     "metadata": {},
     "output_type": "execute_result"
    }
   ],
   "source": [
    "shah['city']"
   ]
  },
  {
   "cell_type": "code",
   "execution_count": 13,
   "id": "7dab3082-8e04-4ace-ba69-ccc3cfbcf24e",
   "metadata": {},
   "outputs": [
    {
     "data": {
      "text/plain": [
       "99"
      ]
     },
     "execution_count": 13,
     "metadata": {},
     "output_type": "execute_result"
    }
   ],
   "source": [
    "shah['mark'][0]"
   ]
  },
  {
   "cell_type": "code",
   "execution_count": 14,
   "id": "72494c94-c418-40c3-af3c-15fd6073e4ed",
   "metadata": {},
   "outputs": [
    {
     "name": "stderr",
     "output_type": "stream",
     "text": [
      "C:\\Users\\Shah\\AppData\\Local\\Temp\\ipykernel_12776\\2909341055.py:1: FutureWarning: ChainedAssignmentError: behaviour will change in pandas 3.0!\n",
      "You are setting values through chained assignment. Currently this works in certain cases, but when using Copy-on-Write (which will become the default behaviour in pandas 3.0) this will never work to update the original DataFrame or Series, because the intermediate object on which we are setting values will behave as a copy.\n",
      "A typical example is when you are setting values in a column of a DataFrame, like:\n",
      "\n",
      "df[\"col\"][row_indexer] = value\n",
      "\n",
      "Use `df.loc[row_indexer, \"col\"] = values` instead, to perform the assignment in a single step and ensure this keeps updating the original `df`.\n",
      "\n",
      "See the caveats in the documentation: https://pandas.pydata.org/pandas-docs/stable/user_guide/indexing.html#returning-a-view-versus-a-copy\n",
      "\n",
      "  shah['mark'][0] = 99\n",
      "C:\\Users\\Shah\\AppData\\Local\\Temp\\ipykernel_12776\\2909341055.py:1: SettingWithCopyWarning: \n",
      "A value is trying to be set on a copy of a slice from a DataFrame\n",
      "\n",
      "See the caveats in the documentation: https://pandas.pydata.org/pandas-docs/stable/user_guide/indexing.html#returning-a-view-versus-a-copy\n",
      "  shah['mark'][0] = 99\n"
     ]
    }
   ],
   "source": [
    "shah['mark'][0] = 99"
   ]
  },
  {
   "cell_type": "code",
   "execution_count": 15,
   "id": "ab105421-b3b6-437a-881a-c231cc6eb0e2",
   "metadata": {},
   "outputs": [
    {
     "data": {
      "text/html": [
       "<div>\n",
       "<style scoped>\n",
       "    .dataframe tbody tr th:only-of-type {\n",
       "        vertical-align: middle;\n",
       "    }\n",
       "\n",
       "    .dataframe tbody tr th {\n",
       "        vertical-align: top;\n",
       "    }\n",
       "\n",
       "    .dataframe thead th {\n",
       "        text-align: right;\n",
       "    }\n",
       "</style>\n",
       "<table border=\"1\" class=\"dataframe\">\n",
       "  <thead>\n",
       "    <tr style=\"text-align: right;\">\n",
       "      <th></th>\n",
       "      <th>Unnamed: 0.1</th>\n",
       "      <th>Unnamed: 0</th>\n",
       "      <th>name</th>\n",
       "      <th>mark</th>\n",
       "      <th>city</th>\n",
       "    </tr>\n",
       "  </thead>\n",
       "  <tbody>\n",
       "    <tr>\n",
       "      <th>0</th>\n",
       "      <td>0</td>\n",
       "      <td>0</td>\n",
       "      <td>harry</td>\n",
       "      <td>99</td>\n",
       "      <td>dhaka</td>\n",
       "    </tr>\n",
       "    <tr>\n",
       "      <th>1</th>\n",
       "      <td>1</td>\n",
       "      <td>1</td>\n",
       "      <td>rohan</td>\n",
       "      <td>34</td>\n",
       "      <td>khulna</td>\n",
       "    </tr>\n",
       "    <tr>\n",
       "      <th>2</th>\n",
       "      <td>2</td>\n",
       "      <td>2</td>\n",
       "      <td>skillf</td>\n",
       "      <td>24</td>\n",
       "      <td>kushtia</td>\n",
       "    </tr>\n",
       "    <tr>\n",
       "      <th>3</th>\n",
       "      <td>3</td>\n",
       "      <td>3</td>\n",
       "      <td>shubh</td>\n",
       "      <td>17</td>\n",
       "      <td>kolkata</td>\n",
       "    </tr>\n",
       "  </tbody>\n",
       "</table>\n",
       "</div>"
      ],
      "text/plain": [
       "   Unnamed: 0.1  Unnamed: 0    name  mark     city\n",
       "0             0           0   harry    99    dhaka\n",
       "1             1           1   rohan    34   khulna\n",
       "2             2           2  skillf    24  kushtia\n",
       "3             3           3   shubh    17  kolkata"
      ]
     },
     "execution_count": 15,
     "metadata": {},
     "output_type": "execute_result"
    }
   ],
   "source": [
    "shah"
   ]
  },
  {
   "cell_type": "code",
   "execution_count": 16,
   "id": "52d61a30-7ff6-4ee9-b741-f2a61aa412a3",
   "metadata": {},
   "outputs": [],
   "source": [
    "shah.to_csv('shah.csv')"
   ]
  },
  {
   "cell_type": "code",
   "execution_count": 17,
   "id": "e38b815a-f0a5-44d9-91ac-2dcf228586ab",
   "metadata": {},
   "outputs": [],
   "source": [
    "shah.index = ['1st', '2nd', '3rd', '4th']"
   ]
  },
  {
   "cell_type": "code",
   "execution_count": 18,
   "id": "beb203c4-6257-4f2c-a4cf-0a16b25f4d92",
   "metadata": {},
   "outputs": [
    {
     "data": {
      "text/html": [
       "<div>\n",
       "<style scoped>\n",
       "    .dataframe tbody tr th:only-of-type {\n",
       "        vertical-align: middle;\n",
       "    }\n",
       "\n",
       "    .dataframe tbody tr th {\n",
       "        vertical-align: top;\n",
       "    }\n",
       "\n",
       "    .dataframe thead th {\n",
       "        text-align: right;\n",
       "    }\n",
       "</style>\n",
       "<table border=\"1\" class=\"dataframe\">\n",
       "  <thead>\n",
       "    <tr style=\"text-align: right;\">\n",
       "      <th></th>\n",
       "      <th>Unnamed: 0.1</th>\n",
       "      <th>Unnamed: 0</th>\n",
       "      <th>name</th>\n",
       "      <th>mark</th>\n",
       "      <th>city</th>\n",
       "    </tr>\n",
       "  </thead>\n",
       "  <tbody>\n",
       "    <tr>\n",
       "      <th>1st</th>\n",
       "      <td>0</td>\n",
       "      <td>0</td>\n",
       "      <td>harry</td>\n",
       "      <td>99</td>\n",
       "      <td>dhaka</td>\n",
       "    </tr>\n",
       "    <tr>\n",
       "      <th>2nd</th>\n",
       "      <td>1</td>\n",
       "      <td>1</td>\n",
       "      <td>rohan</td>\n",
       "      <td>34</td>\n",
       "      <td>khulna</td>\n",
       "    </tr>\n",
       "    <tr>\n",
       "      <th>3rd</th>\n",
       "      <td>2</td>\n",
       "      <td>2</td>\n",
       "      <td>skillf</td>\n",
       "      <td>24</td>\n",
       "      <td>kushtia</td>\n",
       "    </tr>\n",
       "    <tr>\n",
       "      <th>4th</th>\n",
       "      <td>3</td>\n",
       "      <td>3</td>\n",
       "      <td>shubh</td>\n",
       "      <td>17</td>\n",
       "      <td>kolkata</td>\n",
       "    </tr>\n",
       "  </tbody>\n",
       "</table>\n",
       "</div>"
      ],
      "text/plain": [
       "     Unnamed: 0.1  Unnamed: 0    name  mark     city\n",
       "1st             0           0   harry    99    dhaka\n",
       "2nd             1           1   rohan    34   khulna\n",
       "3rd             2           2  skillf    24  kushtia\n",
       "4th             3           3   shubh    17  kolkata"
      ]
     },
     "execution_count": 18,
     "metadata": {},
     "output_type": "execute_result"
    }
   ],
   "source": [
    "shah"
   ]
  },
  {
   "cell_type": "code",
   "execution_count": 19,
   "id": "9d51a4cf-7759-42e4-b4ac-4faf28f09208",
   "metadata": {},
   "outputs": [
    {
     "name": "stdout",
     "output_type": "stream",
     "text": [
      "shazid\n"
     ]
    }
   ],
   "source": [
    "print(\"shazid\")"
   ]
  },
  {
   "cell_type": "code",
   "execution_count": 22,
   "id": "cad2ed6f-4b6c-4662-8c8e-7a1004f6fddb",
   "metadata": {},
   "outputs": [],
   "source": [
    "ser = pd.Series(np.random.rand(34))"
   ]
  },
  {
   "cell_type": "code",
   "execution_count": 24,
   "id": "256b8cad-e14f-497c-bc35-49dbd2bc87b1",
   "metadata": {},
   "outputs": [
    {
     "data": {
      "text/plain": [
       "pandas.core.series.Series"
      ]
     },
     "execution_count": 24,
     "metadata": {},
     "output_type": "execute_result"
    }
   ],
   "source": [
    "type(ser)"
   ]
  },
  {
   "cell_type": "code",
   "execution_count": 25,
   "id": "406657c3-97f9-4fd8-82c4-bec5ace7ab2d",
   "metadata": {},
   "outputs": [],
   "source": [
    "newdf= pd.DataFrame(np.random.rand(334,5), index=np.arange(334))"
   ]
  },
  {
   "cell_type": "code",
   "execution_count": 32,
   "id": "9d2a1595-e0e8-4d22-97d3-551d74f7bbbe",
   "metadata": {},
   "outputs": [
    {
     "data": {
      "text/html": [
       "<div>\n",
       "<style scoped>\n",
       "    .dataframe tbody tr th:only-of-type {\n",
       "        vertical-align: middle;\n",
       "    }\n",
       "\n",
       "    .dataframe tbody tr th {\n",
       "        vertical-align: top;\n",
       "    }\n",
       "\n",
       "    .dataframe thead th {\n",
       "        text-align: right;\n",
       "    }\n",
       "</style>\n",
       "<table border=\"1\" class=\"dataframe\">\n",
       "  <thead>\n",
       "    <tr style=\"text-align: right;\">\n",
       "      <th></th>\n",
       "      <th>0</th>\n",
       "      <th>1</th>\n",
       "      <th>2</th>\n",
       "      <th>3</th>\n",
       "      <th>4</th>\n",
       "    </tr>\n",
       "  </thead>\n",
       "  <tbody>\n",
       "    <tr>\n",
       "      <th>0</th>\n",
       "      <td>0.982308</td>\n",
       "      <td>0.283467</td>\n",
       "      <td>0.558325</td>\n",
       "      <td>0.099521</td>\n",
       "      <td>0.580030</td>\n",
       "    </tr>\n",
       "    <tr>\n",
       "      <th>1</th>\n",
       "      <td>0.758037</td>\n",
       "      <td>0.819420</td>\n",
       "      <td>0.084669</td>\n",
       "      <td>0.956381</td>\n",
       "      <td>0.762292</td>\n",
       "    </tr>\n",
       "    <tr>\n",
       "      <th>2</th>\n",
       "      <td>0.045291</td>\n",
       "      <td>0.670764</td>\n",
       "      <td>0.995318</td>\n",
       "      <td>0.810501</td>\n",
       "      <td>0.432487</td>\n",
       "    </tr>\n",
       "    <tr>\n",
       "      <th>3</th>\n",
       "      <td>0.775309</td>\n",
       "      <td>0.447354</td>\n",
       "      <td>0.277670</td>\n",
       "      <td>0.799304</td>\n",
       "      <td>0.752667</td>\n",
       "    </tr>\n",
       "    <tr>\n",
       "      <th>4</th>\n",
       "      <td>0.406862</td>\n",
       "      <td>0.580318</td>\n",
       "      <td>0.516866</td>\n",
       "      <td>0.925759</td>\n",
       "      <td>0.404664</td>\n",
       "    </tr>\n",
       "  </tbody>\n",
       "</table>\n",
       "</div>"
      ],
      "text/plain": [
       "          0         1         2         3         4\n",
       "0  0.982308  0.283467  0.558325  0.099521  0.580030\n",
       "1  0.758037  0.819420  0.084669  0.956381  0.762292\n",
       "2  0.045291  0.670764  0.995318  0.810501  0.432487\n",
       "3  0.775309  0.447354  0.277670  0.799304  0.752667\n",
       "4  0.406862  0.580318  0.516866  0.925759  0.404664"
      ]
     },
     "execution_count": 32,
     "metadata": {},
     "output_type": "execute_result"
    }
   ],
   "source": [
    "type(newdf)\n",
    "newdf.head()"
   ]
  },
  {
   "cell_type": "code",
   "execution_count": 30,
   "id": "db9e00cd-10ee-46df-a315-7b09bd36d9ac",
   "metadata": {},
   "outputs": [
    {
     "data": {
      "text/html": [
       "<div>\n",
       "<style scoped>\n",
       "    .dataframe tbody tr th:only-of-type {\n",
       "        vertical-align: middle;\n",
       "    }\n",
       "\n",
       "    .dataframe tbody tr th {\n",
       "        vertical-align: top;\n",
       "    }\n",
       "\n",
       "    .dataframe thead th {\n",
       "        text-align: right;\n",
       "    }\n",
       "</style>\n",
       "<table border=\"1\" class=\"dataframe\">\n",
       "  <thead>\n",
       "    <tr style=\"text-align: right;\">\n",
       "      <th></th>\n",
       "      <th>0</th>\n",
       "      <th>1</th>\n",
       "      <th>2</th>\n",
       "      <th>3</th>\n",
       "      <th>4</th>\n",
       "    </tr>\n",
       "  </thead>\n",
       "  <tbody>\n",
       "    <tr>\n",
       "      <th>count</th>\n",
       "      <td>334.000000</td>\n",
       "      <td>334.000000</td>\n",
       "      <td>334.000000</td>\n",
       "      <td>334.000000</td>\n",
       "      <td>334.000000</td>\n",
       "    </tr>\n",
       "    <tr>\n",
       "      <th>mean</th>\n",
       "      <td>0.472086</td>\n",
       "      <td>0.477036</td>\n",
       "      <td>0.484826</td>\n",
       "      <td>0.514729</td>\n",
       "      <td>0.498421</td>\n",
       "    </tr>\n",
       "    <tr>\n",
       "      <th>std</th>\n",
       "      <td>0.286235</td>\n",
       "      <td>0.295580</td>\n",
       "      <td>0.291457</td>\n",
       "      <td>0.297916</td>\n",
       "      <td>0.293207</td>\n",
       "    </tr>\n",
       "    <tr>\n",
       "      <th>min</th>\n",
       "      <td>0.000649</td>\n",
       "      <td>0.003174</td>\n",
       "      <td>0.000233</td>\n",
       "      <td>0.000531</td>\n",
       "      <td>0.000267</td>\n",
       "    </tr>\n",
       "    <tr>\n",
       "      <th>25%</th>\n",
       "      <td>0.231194</td>\n",
       "      <td>0.221135</td>\n",
       "      <td>0.243900</td>\n",
       "      <td>0.252407</td>\n",
       "      <td>0.237193</td>\n",
       "    </tr>\n",
       "    <tr>\n",
       "      <th>50%</th>\n",
       "      <td>0.465986</td>\n",
       "      <td>0.452543</td>\n",
       "      <td>0.474677</td>\n",
       "      <td>0.554424</td>\n",
       "      <td>0.499734</td>\n",
       "    </tr>\n",
       "    <tr>\n",
       "      <th>75%</th>\n",
       "      <td>0.701253</td>\n",
       "      <td>0.725445</td>\n",
       "      <td>0.734483</td>\n",
       "      <td>0.761267</td>\n",
       "      <td>0.747929</td>\n",
       "    </tr>\n",
       "    <tr>\n",
       "      <th>max</th>\n",
       "      <td>0.997682</td>\n",
       "      <td>0.998913</td>\n",
       "      <td>0.998764</td>\n",
       "      <td>0.999733</td>\n",
       "      <td>0.997650</td>\n",
       "    </tr>\n",
       "  </tbody>\n",
       "</table>\n",
       "</div>"
      ],
      "text/plain": [
       "                0           1           2           3           4\n",
       "count  334.000000  334.000000  334.000000  334.000000  334.000000\n",
       "mean     0.472086    0.477036    0.484826    0.514729    0.498421\n",
       "std      0.286235    0.295580    0.291457    0.297916    0.293207\n",
       "min      0.000649    0.003174    0.000233    0.000531    0.000267\n",
       "25%      0.231194    0.221135    0.243900    0.252407    0.237193\n",
       "50%      0.465986    0.452543    0.474677    0.554424    0.499734\n",
       "75%      0.701253    0.725445    0.734483    0.761267    0.747929\n",
       "max      0.997682    0.998913    0.998764    0.999733    0.997650"
      ]
     },
     "execution_count": 30,
     "metadata": {},
     "output_type": "execute_result"
    }
   ],
   "source": [
    "newdf.describe()"
   ]
  },
  {
   "cell_type": "code",
   "execution_count": 31,
   "id": "f9096b6e-af59-4ebc-8da9-2e9bcd8841e6",
   "metadata": {},
   "outputs": [
    {
     "data": {
      "text/plain": [
       "0    float64\n",
       "1    float64\n",
       "2    float64\n",
       "3    float64\n",
       "4    float64\n",
       "dtype: object"
      ]
     },
     "execution_count": 31,
     "metadata": {},
     "output_type": "execute_result"
    }
   ],
   "source": [
    "newdf.dtypes"
   ]
  },
  {
   "cell_type": "code",
   "execution_count": 33,
   "id": "20a0dac6-a80b-4dfe-a877-47bf39c63205",
   "metadata": {},
   "outputs": [
    {
     "name": "stderr",
     "output_type": "stream",
     "text": [
      "C:\\Users\\Shah\\AppData\\Local\\Temp\\ipykernel_12776\\3669502842.py:1: FutureWarning: ChainedAssignmentError: behaviour will change in pandas 3.0!\n",
      "You are setting values through chained assignment. Currently this works in certain cases, but when using Copy-on-Write (which will become the default behaviour in pandas 3.0) this will never work to update the original DataFrame or Series, because the intermediate object on which we are setting values will behave as a copy.\n",
      "A typical example is when you are setting values in a column of a DataFrame, like:\n",
      "\n",
      "df[\"col\"][row_indexer] = value\n",
      "\n",
      "Use `df.loc[row_indexer, \"col\"] = values` instead, to perform the assignment in a single step and ensure this keeps updating the original `df`.\n",
      "\n",
      "See the caveats in the documentation: https://pandas.pydata.org/pandas-docs/stable/user_guide/indexing.html#returning-a-view-versus-a-copy\n",
      "\n",
      "  newdf[0][0] = \"shah\"\n",
      "C:\\Users\\Shah\\AppData\\Local\\Temp\\ipykernel_12776\\3669502842.py:1: FutureWarning: Setting an item of incompatible dtype is deprecated and will raise an error in a future version of pandas. Value 'shah' has dtype incompatible with float64, please explicitly cast to a compatible dtype first.\n",
      "  newdf[0][0] = \"shah\"\n"
     ]
    }
   ],
   "source": [
    "new[0][0] = \"shah\""
   ]
  },
  {
   "cell_type": "code",
   "execution_count": 35,
   "id": "af8b56fc-57b0-4a31-bdf9-1bddaff594a0",
   "metadata": {},
   "outputs": [
    {
     "data": {
      "text/plain": [
       "0     object\n",
       "1    float64\n",
       "2    float64\n",
       "3    float64\n",
       "4    float64\n",
       "dtype: object"
      ]
     },
     "execution_count": 35,
     "metadata": {},
     "output_type": "execute_result"
    }
   ],
   "source": [
    "newdf.dtypes"
   ]
  },
  {
   "cell_type": "code",
   "execution_count": 36,
   "id": "168a68a4-f02e-4167-a427-942a16cd2973",
   "metadata": {},
   "outputs": [
    {
     "data": {
      "text/html": [
       "<div>\n",
       "<style scoped>\n",
       "    .dataframe tbody tr th:only-of-type {\n",
       "        vertical-align: middle;\n",
       "    }\n",
       "\n",
       "    .dataframe tbody tr th {\n",
       "        vertical-align: top;\n",
       "    }\n",
       "\n",
       "    .dataframe thead th {\n",
       "        text-align: right;\n",
       "    }\n",
       "</style>\n",
       "<table border=\"1\" class=\"dataframe\">\n",
       "  <thead>\n",
       "    <tr style=\"text-align: right;\">\n",
       "      <th></th>\n",
       "      <th>0</th>\n",
       "      <th>1</th>\n",
       "      <th>2</th>\n",
       "      <th>3</th>\n",
       "      <th>4</th>\n",
       "    </tr>\n",
       "  </thead>\n",
       "  <tbody>\n",
       "    <tr>\n",
       "      <th>0</th>\n",
       "      <td>shah</td>\n",
       "      <td>0.283467</td>\n",
       "      <td>0.558325</td>\n",
       "      <td>0.099521</td>\n",
       "      <td>0.580030</td>\n",
       "    </tr>\n",
       "    <tr>\n",
       "      <th>1</th>\n",
       "      <td>0.758037</td>\n",
       "      <td>0.819420</td>\n",
       "      <td>0.084669</td>\n",
       "      <td>0.956381</td>\n",
       "      <td>0.762292</td>\n",
       "    </tr>\n",
       "    <tr>\n",
       "      <th>2</th>\n",
       "      <td>0.045291</td>\n",
       "      <td>0.670764</td>\n",
       "      <td>0.995318</td>\n",
       "      <td>0.810501</td>\n",
       "      <td>0.432487</td>\n",
       "    </tr>\n",
       "    <tr>\n",
       "      <th>3</th>\n",
       "      <td>0.775309</td>\n",
       "      <td>0.447354</td>\n",
       "      <td>0.277670</td>\n",
       "      <td>0.799304</td>\n",
       "      <td>0.752667</td>\n",
       "    </tr>\n",
       "    <tr>\n",
       "      <th>4</th>\n",
       "      <td>0.406862</td>\n",
       "      <td>0.580318</td>\n",
       "      <td>0.516866</td>\n",
       "      <td>0.925759</td>\n",
       "      <td>0.404664</td>\n",
       "    </tr>\n",
       "  </tbody>\n",
       "</table>\n",
       "</div>"
      ],
      "text/plain": [
       "          0         1         2         3         4\n",
       "0      shah  0.283467  0.558325  0.099521  0.580030\n",
       "1  0.758037  0.819420  0.084669  0.956381  0.762292\n",
       "2  0.045291  0.670764  0.995318  0.810501  0.432487\n",
       "3  0.775309  0.447354  0.277670  0.799304  0.752667\n",
       "4  0.406862  0.580318  0.516866  0.925759  0.404664"
      ]
     },
     "execution_count": 36,
     "metadata": {},
     "output_type": "execute_result"
    }
   ],
   "source": [
    "newdf.head()"
   ]
  },
  {
   "cell_type": "code",
   "execution_count": 37,
   "id": "4ddc13de-22f7-492f-959d-8425e085a59f",
   "metadata": {},
   "outputs": [
    {
     "data": {
      "text/plain": [
       "Index([  0,   1,   2,   3,   4,   5,   6,   7,   8,   9,\n",
       "       ...\n",
       "       324, 325, 326, 327, 328, 329, 330, 331, 332, 333],\n",
       "      dtype='int32', length=334)"
      ]
     },
     "execution_count": 37,
     "metadata": {},
     "output_type": "execute_result"
    }
   ],
   "source": [
    "newdf.index"
   ]
  },
  {
   "cell_type": "code",
   "execution_count": 39,
   "id": "c1eea204-a94a-4eb8-8b8f-9cd974dac2de",
   "metadata": {},
   "outputs": [
    {
     "data": {
      "text/plain": [
       "RangeIndex(start=0, stop=5, step=1)"
      ]
     },
     "execution_count": 39,
     "metadata": {},
     "output_type": "execute_result"
    }
   ],
   "source": [
    "newdf.columns"
   ]
  },
  {
   "cell_type": "code",
   "execution_count": 43,
   "id": "1de8665e-1229-4ba3-a4dd-15bf4f24551e",
   "metadata": {},
   "outputs": [
    {
     "data": {
      "text/plain": [
       "array([[0.5, 0.2834670455555838, 0.558325149426977, 0.09952147340967388,\n",
       "        0.5800296249405198],\n",
       "       [0.7580365519219289, 0.8194201890973482, 0.08466872618746046,\n",
       "        0.9563811822794697, 0.7622915109014915],\n",
       "       [0.045291104472533705, 0.6707636683384393, 0.9953177780037582,\n",
       "        0.8105013031725551, 0.43248732903133813],\n",
       "       ...,\n",
       "       [0.22613551513832397, 0.01841123422097135, 0.6705039432222472,\n",
       "        0.4947461928396527, 0.33061597854585],\n",
       "       [0.20854318603517574, 0.08057702238235764, 0.1710177824667023,\n",
       "        0.7509010684402381, 0.9419170305720507],\n",
       "       [0.557432433591376, 0.1422113978803461, 0.270363983220096,\n",
       "        0.07075185138718543, 0.8520544963201458]], dtype=object)"
      ]
     },
     "execution_count": 43,
     "metadata": {},
     "output_type": "execute_result"
    }
   ],
   "source": [
    "newdf.to_numpy()"
   ]
  },
  {
   "cell_type": "code",
   "execution_count": 41,
   "id": "7874af1e-b22f-499f-bad6-124b20ea958a",
   "metadata": {},
   "outputs": [],
   "source": [
    "newdf[0][0] = 0.5"
   ]
  },
  {
   "cell_type": "code",
   "execution_count": 42,
   "id": "0f1d9209-60c1-4f6f-9ef3-0f37c266e85c",
   "metadata": {},
   "outputs": [
    {
     "data": {
      "text/html": [
       "<div>\n",
       "<style scoped>\n",
       "    .dataframe tbody tr th:only-of-type {\n",
       "        vertical-align: middle;\n",
       "    }\n",
       "\n",
       "    .dataframe tbody tr th {\n",
       "        vertical-align: top;\n",
       "    }\n",
       "\n",
       "    .dataframe thead th {\n",
       "        text-align: right;\n",
       "    }\n",
       "</style>\n",
       "<table border=\"1\" class=\"dataframe\">\n",
       "  <thead>\n",
       "    <tr style=\"text-align: right;\">\n",
       "      <th></th>\n",
       "      <th>0</th>\n",
       "      <th>1</th>\n",
       "      <th>2</th>\n",
       "      <th>3</th>\n",
       "      <th>4</th>\n",
       "    </tr>\n",
       "  </thead>\n",
       "  <tbody>\n",
       "    <tr>\n",
       "      <th>0</th>\n",
       "      <td>0.5</td>\n",
       "      <td>0.283467</td>\n",
       "      <td>0.558325</td>\n",
       "      <td>0.099521</td>\n",
       "      <td>0.580030</td>\n",
       "    </tr>\n",
       "    <tr>\n",
       "      <th>1</th>\n",
       "      <td>0.758037</td>\n",
       "      <td>0.819420</td>\n",
       "      <td>0.084669</td>\n",
       "      <td>0.956381</td>\n",
       "      <td>0.762292</td>\n",
       "    </tr>\n",
       "    <tr>\n",
       "      <th>2</th>\n",
       "      <td>0.045291</td>\n",
       "      <td>0.670764</td>\n",
       "      <td>0.995318</td>\n",
       "      <td>0.810501</td>\n",
       "      <td>0.432487</td>\n",
       "    </tr>\n",
       "    <tr>\n",
       "      <th>3</th>\n",
       "      <td>0.775309</td>\n",
       "      <td>0.447354</td>\n",
       "      <td>0.277670</td>\n",
       "      <td>0.799304</td>\n",
       "      <td>0.752667</td>\n",
       "    </tr>\n",
       "    <tr>\n",
       "      <th>4</th>\n",
       "      <td>0.406862</td>\n",
       "      <td>0.580318</td>\n",
       "      <td>0.516866</td>\n",
       "      <td>0.925759</td>\n",
       "      <td>0.404664</td>\n",
       "    </tr>\n",
       "  </tbody>\n",
       "</table>\n",
       "</div>"
      ],
      "text/plain": [
       "          0         1         2         3         4\n",
       "0       0.5  0.283467  0.558325  0.099521  0.580030\n",
       "1  0.758037  0.819420  0.084669  0.956381  0.762292\n",
       "2  0.045291  0.670764  0.995318  0.810501  0.432487\n",
       "3  0.775309  0.447354  0.277670  0.799304  0.752667\n",
       "4  0.406862  0.580318  0.516866  0.925759  0.404664"
      ]
     },
     "execution_count": 42,
     "metadata": {},
     "output_type": "execute_result"
    }
   ],
   "source": [
    "newdf.head()"
   ]
  },
  {
   "cell_type": "code",
   "execution_count": 44,
   "id": "b32f8079-0c3b-4ead-a600-a3259a8c8703",
   "metadata": {},
   "outputs": [
    {
     "data": {
      "text/html": [
       "<div>\n",
       "<style scoped>\n",
       "    .dataframe tbody tr th:only-of-type {\n",
       "        vertical-align: middle;\n",
       "    }\n",
       "\n",
       "    .dataframe tbody tr th {\n",
       "        vertical-align: top;\n",
       "    }\n",
       "\n",
       "    .dataframe thead th {\n",
       "        text-align: right;\n",
       "    }\n",
       "</style>\n",
       "<table border=\"1\" class=\"dataframe\">\n",
       "  <thead>\n",
       "    <tr style=\"text-align: right;\">\n",
       "      <th></th>\n",
       "      <th>0</th>\n",
       "      <th>1</th>\n",
       "      <th>2</th>\n",
       "      <th>3</th>\n",
       "      <th>4</th>\n",
       "      <th>5</th>\n",
       "      <th>6</th>\n",
       "      <th>7</th>\n",
       "      <th>8</th>\n",
       "      <th>9</th>\n",
       "      <th>...</th>\n",
       "      <th>324</th>\n",
       "      <th>325</th>\n",
       "      <th>326</th>\n",
       "      <th>327</th>\n",
       "      <th>328</th>\n",
       "      <th>329</th>\n",
       "      <th>330</th>\n",
       "      <th>331</th>\n",
       "      <th>332</th>\n",
       "      <th>333</th>\n",
       "    </tr>\n",
       "  </thead>\n",
       "  <tbody>\n",
       "    <tr>\n",
       "      <th>0</th>\n",
       "      <td>0.5</td>\n",
       "      <td>0.758037</td>\n",
       "      <td>0.045291</td>\n",
       "      <td>0.775309</td>\n",
       "      <td>0.406862</td>\n",
       "      <td>0.883702</td>\n",
       "      <td>0.177297</td>\n",
       "      <td>0.320164</td>\n",
       "      <td>0.001111</td>\n",
       "      <td>0.865264</td>\n",
       "      <td>...</td>\n",
       "      <td>0.171172</td>\n",
       "      <td>0.648261</td>\n",
       "      <td>0.591477</td>\n",
       "      <td>0.427773</td>\n",
       "      <td>0.293981</td>\n",
       "      <td>0.660409</td>\n",
       "      <td>0.217587</td>\n",
       "      <td>0.226136</td>\n",
       "      <td>0.208543</td>\n",
       "      <td>0.557432</td>\n",
       "    </tr>\n",
       "    <tr>\n",
       "      <th>1</th>\n",
       "      <td>0.283467</td>\n",
       "      <td>0.81942</td>\n",
       "      <td>0.670764</td>\n",
       "      <td>0.447354</td>\n",
       "      <td>0.580318</td>\n",
       "      <td>0.564304</td>\n",
       "      <td>0.874482</td>\n",
       "      <td>0.761728</td>\n",
       "      <td>0.292914</td>\n",
       "      <td>0.197245</td>\n",
       "      <td>...</td>\n",
       "      <td>0.336937</td>\n",
       "      <td>0.18304</td>\n",
       "      <td>0.472969</td>\n",
       "      <td>0.802031</td>\n",
       "      <td>0.930177</td>\n",
       "      <td>0.4131</td>\n",
       "      <td>0.674201</td>\n",
       "      <td>0.018411</td>\n",
       "      <td>0.080577</td>\n",
       "      <td>0.142211</td>\n",
       "    </tr>\n",
       "    <tr>\n",
       "      <th>2</th>\n",
       "      <td>0.558325</td>\n",
       "      <td>0.084669</td>\n",
       "      <td>0.995318</td>\n",
       "      <td>0.27767</td>\n",
       "      <td>0.516866</td>\n",
       "      <td>0.551848</td>\n",
       "      <td>0.565028</td>\n",
       "      <td>0.756568</td>\n",
       "      <td>0.328437</td>\n",
       "      <td>0.983371</td>\n",
       "      <td>...</td>\n",
       "      <td>0.503186</td>\n",
       "      <td>0.656747</td>\n",
       "      <td>0.081019</td>\n",
       "      <td>0.738827</td>\n",
       "      <td>0.682216</td>\n",
       "      <td>0.245654</td>\n",
       "      <td>0.72944</td>\n",
       "      <td>0.670504</td>\n",
       "      <td>0.171018</td>\n",
       "      <td>0.270364</td>\n",
       "    </tr>\n",
       "    <tr>\n",
       "      <th>3</th>\n",
       "      <td>0.099521</td>\n",
       "      <td>0.956381</td>\n",
       "      <td>0.810501</td>\n",
       "      <td>0.799304</td>\n",
       "      <td>0.925759</td>\n",
       "      <td>0.358962</td>\n",
       "      <td>0.295315</td>\n",
       "      <td>0.679912</td>\n",
       "      <td>0.482612</td>\n",
       "      <td>0.513827</td>\n",
       "      <td>...</td>\n",
       "      <td>0.676744</td>\n",
       "      <td>0.348518</td>\n",
       "      <td>0.467115</td>\n",
       "      <td>0.701941</td>\n",
       "      <td>0.241116</td>\n",
       "      <td>0.782361</td>\n",
       "      <td>0.825213</td>\n",
       "      <td>0.494746</td>\n",
       "      <td>0.750901</td>\n",
       "      <td>0.070752</td>\n",
       "    </tr>\n",
       "    <tr>\n",
       "      <th>4</th>\n",
       "      <td>0.58003</td>\n",
       "      <td>0.762292</td>\n",
       "      <td>0.432487</td>\n",
       "      <td>0.752667</td>\n",
       "      <td>0.404664</td>\n",
       "      <td>0.375629</td>\n",
       "      <td>0.306449</td>\n",
       "      <td>0.451921</td>\n",
       "      <td>0.31483</td>\n",
       "      <td>0.043389</td>\n",
       "      <td>...</td>\n",
       "      <td>0.027918</td>\n",
       "      <td>0.085681</td>\n",
       "      <td>0.443153</td>\n",
       "      <td>0.130911</td>\n",
       "      <td>0.722072</td>\n",
       "      <td>0.293122</td>\n",
       "      <td>0.18329</td>\n",
       "      <td>0.330616</td>\n",
       "      <td>0.941917</td>\n",
       "      <td>0.852054</td>\n",
       "    </tr>\n",
       "  </tbody>\n",
       "</table>\n",
       "<p>5 rows × 334 columns</p>\n",
       "</div>"
      ],
      "text/plain": [
       "        0         1         2         3         4         5         6    \\\n",
       "0       0.5  0.758037  0.045291  0.775309  0.406862  0.883702  0.177297   \n",
       "1  0.283467   0.81942  0.670764  0.447354  0.580318  0.564304  0.874482   \n",
       "2  0.558325  0.084669  0.995318   0.27767  0.516866  0.551848  0.565028   \n",
       "3  0.099521  0.956381  0.810501  0.799304  0.925759  0.358962  0.295315   \n",
       "4   0.58003  0.762292  0.432487  0.752667  0.404664  0.375629  0.306449   \n",
       "\n",
       "        7         8         9    ...       324       325       326       327  \\\n",
       "0  0.320164  0.001111  0.865264  ...  0.171172  0.648261  0.591477  0.427773   \n",
       "1  0.761728  0.292914  0.197245  ...  0.336937   0.18304  0.472969  0.802031   \n",
       "2  0.756568  0.328437  0.983371  ...  0.503186  0.656747  0.081019  0.738827   \n",
       "3  0.679912  0.482612  0.513827  ...  0.676744  0.348518  0.467115  0.701941   \n",
       "4  0.451921   0.31483  0.043389  ...  0.027918  0.085681  0.443153  0.130911   \n",
       "\n",
       "        328       329       330       331       332       333  \n",
       "0  0.293981  0.660409  0.217587  0.226136  0.208543  0.557432  \n",
       "1  0.930177    0.4131  0.674201  0.018411  0.080577  0.142211  \n",
       "2  0.682216  0.245654   0.72944  0.670504  0.171018  0.270364  \n",
       "3  0.241116  0.782361  0.825213  0.494746  0.750901  0.070752  \n",
       "4  0.722072  0.293122   0.18329  0.330616  0.941917  0.852054  \n",
       "\n",
       "[5 rows x 334 columns]"
      ]
     },
     "execution_count": 44,
     "metadata": {},
     "output_type": "execute_result"
    }
   ],
   "source": [
    "newdf.T"
   ]
  },
  {
   "cell_type": "code",
   "execution_count": 46,
   "id": "02c3c4fe-8226-4685-9843-63c2e4d40f0e",
   "metadata": {},
   "outputs": [
    {
     "data": {
      "text/html": [
       "<div>\n",
       "<style scoped>\n",
       "    .dataframe tbody tr th:only-of-type {\n",
       "        vertical-align: middle;\n",
       "    }\n",
       "\n",
       "    .dataframe tbody tr th {\n",
       "        vertical-align: top;\n",
       "    }\n",
       "\n",
       "    .dataframe thead th {\n",
       "        text-align: right;\n",
       "    }\n",
       "</style>\n",
       "<table border=\"1\" class=\"dataframe\">\n",
       "  <thead>\n",
       "    <tr style=\"text-align: right;\">\n",
       "      <th></th>\n",
       "      <th>0</th>\n",
       "      <th>1</th>\n",
       "      <th>2</th>\n",
       "      <th>3</th>\n",
       "      <th>4</th>\n",
       "    </tr>\n",
       "  </thead>\n",
       "  <tbody>\n",
       "    <tr>\n",
       "      <th>0</th>\n",
       "      <td>0.5</td>\n",
       "      <td>0.283467</td>\n",
       "      <td>0.558325</td>\n",
       "      <td>0.099521</td>\n",
       "      <td>0.580030</td>\n",
       "    </tr>\n",
       "    <tr>\n",
       "      <th>1</th>\n",
       "      <td>0.758037</td>\n",
       "      <td>0.819420</td>\n",
       "      <td>0.084669</td>\n",
       "      <td>0.956381</td>\n",
       "      <td>0.762292</td>\n",
       "    </tr>\n",
       "    <tr>\n",
       "      <th>2</th>\n",
       "      <td>0.045291</td>\n",
       "      <td>0.670764</td>\n",
       "      <td>0.995318</td>\n",
       "      <td>0.810501</td>\n",
       "      <td>0.432487</td>\n",
       "    </tr>\n",
       "    <tr>\n",
       "      <th>3</th>\n",
       "      <td>0.775309</td>\n",
       "      <td>0.447354</td>\n",
       "      <td>0.277670</td>\n",
       "      <td>0.799304</td>\n",
       "      <td>0.752667</td>\n",
       "    </tr>\n",
       "    <tr>\n",
       "      <th>4</th>\n",
       "      <td>0.406862</td>\n",
       "      <td>0.580318</td>\n",
       "      <td>0.516866</td>\n",
       "      <td>0.925759</td>\n",
       "      <td>0.404664</td>\n",
       "    </tr>\n",
       "  </tbody>\n",
       "</table>\n",
       "</div>"
      ],
      "text/plain": [
       "          0         1         2         3         4\n",
       "0       0.5  0.283467  0.558325  0.099521  0.580030\n",
       "1  0.758037  0.819420  0.084669  0.956381  0.762292\n",
       "2  0.045291  0.670764  0.995318  0.810501  0.432487\n",
       "3  0.775309  0.447354  0.277670  0.799304  0.752667\n",
       "4  0.406862  0.580318  0.516866  0.925759  0.404664"
      ]
     },
     "execution_count": 46,
     "metadata": {},
     "output_type": "execute_result"
    }
   ],
   "source": [
    "newdf.head()"
   ]
  },
  {
   "cell_type": "code",
   "execution_count": 48,
   "id": "973deb05-bd79-4ac5-82f3-6f6cf0760d5d",
   "metadata": {},
   "outputs": [
    {
     "data": {
      "text/html": [
       "<div>\n",
       "<style scoped>\n",
       "    .dataframe tbody tr th:only-of-type {\n",
       "        vertical-align: middle;\n",
       "    }\n",
       "\n",
       "    .dataframe tbody tr th {\n",
       "        vertical-align: top;\n",
       "    }\n",
       "\n",
       "    .dataframe thead th {\n",
       "        text-align: right;\n",
       "    }\n",
       "</style>\n",
       "<table border=\"1\" class=\"dataframe\">\n",
       "  <thead>\n",
       "    <tr style=\"text-align: right;\">\n",
       "      <th></th>\n",
       "      <th>4</th>\n",
       "      <th>3</th>\n",
       "      <th>2</th>\n",
       "      <th>1</th>\n",
       "      <th>0</th>\n",
       "    </tr>\n",
       "  </thead>\n",
       "  <tbody>\n",
       "    <tr>\n",
       "      <th>0</th>\n",
       "      <td>0.580030</td>\n",
       "      <td>0.099521</td>\n",
       "      <td>0.558325</td>\n",
       "      <td>0.283467</td>\n",
       "      <td>0.5</td>\n",
       "    </tr>\n",
       "    <tr>\n",
       "      <th>1</th>\n",
       "      <td>0.762292</td>\n",
       "      <td>0.956381</td>\n",
       "      <td>0.084669</td>\n",
       "      <td>0.819420</td>\n",
       "      <td>0.758037</td>\n",
       "    </tr>\n",
       "    <tr>\n",
       "      <th>2</th>\n",
       "      <td>0.432487</td>\n",
       "      <td>0.810501</td>\n",
       "      <td>0.995318</td>\n",
       "      <td>0.670764</td>\n",
       "      <td>0.045291</td>\n",
       "    </tr>\n",
       "    <tr>\n",
       "      <th>3</th>\n",
       "      <td>0.752667</td>\n",
       "      <td>0.799304</td>\n",
       "      <td>0.277670</td>\n",
       "      <td>0.447354</td>\n",
       "      <td>0.775309</td>\n",
       "    </tr>\n",
       "    <tr>\n",
       "      <th>4</th>\n",
       "      <td>0.404664</td>\n",
       "      <td>0.925759</td>\n",
       "      <td>0.516866</td>\n",
       "      <td>0.580318</td>\n",
       "      <td>0.406862</td>\n",
       "    </tr>\n",
       "    <tr>\n",
       "      <th>...</th>\n",
       "      <td>...</td>\n",
       "      <td>...</td>\n",
       "      <td>...</td>\n",
       "      <td>...</td>\n",
       "      <td>...</td>\n",
       "    </tr>\n",
       "    <tr>\n",
       "      <th>329</th>\n",
       "      <td>0.293122</td>\n",
       "      <td>0.782361</td>\n",
       "      <td>0.245654</td>\n",
       "      <td>0.413100</td>\n",
       "      <td>0.660409</td>\n",
       "    </tr>\n",
       "    <tr>\n",
       "      <th>330</th>\n",
       "      <td>0.183290</td>\n",
       "      <td>0.825213</td>\n",
       "      <td>0.729440</td>\n",
       "      <td>0.674201</td>\n",
       "      <td>0.217587</td>\n",
       "    </tr>\n",
       "    <tr>\n",
       "      <th>331</th>\n",
       "      <td>0.330616</td>\n",
       "      <td>0.494746</td>\n",
       "      <td>0.670504</td>\n",
       "      <td>0.018411</td>\n",
       "      <td>0.226136</td>\n",
       "    </tr>\n",
       "    <tr>\n",
       "      <th>332</th>\n",
       "      <td>0.941917</td>\n",
       "      <td>0.750901</td>\n",
       "      <td>0.171018</td>\n",
       "      <td>0.080577</td>\n",
       "      <td>0.208543</td>\n",
       "    </tr>\n",
       "    <tr>\n",
       "      <th>333</th>\n",
       "      <td>0.852054</td>\n",
       "      <td>0.070752</td>\n",
       "      <td>0.270364</td>\n",
       "      <td>0.142211</td>\n",
       "      <td>0.557432</td>\n",
       "    </tr>\n",
       "  </tbody>\n",
       "</table>\n",
       "<p>334 rows × 5 columns</p>\n",
       "</div>"
      ],
      "text/plain": [
       "            4         3         2         1         0\n",
       "0    0.580030  0.099521  0.558325  0.283467       0.5\n",
       "1    0.762292  0.956381  0.084669  0.819420  0.758037\n",
       "2    0.432487  0.810501  0.995318  0.670764  0.045291\n",
       "3    0.752667  0.799304  0.277670  0.447354  0.775309\n",
       "4    0.404664  0.925759  0.516866  0.580318  0.406862\n",
       "..        ...       ...       ...       ...       ...\n",
       "329  0.293122  0.782361  0.245654  0.413100  0.660409\n",
       "330  0.183290  0.825213  0.729440  0.674201  0.217587\n",
       "331  0.330616  0.494746  0.670504  0.018411  0.226136\n",
       "332  0.941917  0.750901  0.171018  0.080577  0.208543\n",
       "333  0.852054  0.070752  0.270364  0.142211  0.557432\n",
       "\n",
       "[334 rows x 5 columns]"
      ]
     },
     "execution_count": 48,
     "metadata": {},
     "output_type": "execute_result"
    }
   ],
   "source": [
    "newdf.sort_index(axis=1, ascending=False)"
   ]
  },
  {
   "cell_type": "code",
   "execution_count": 49,
   "id": "d0eca2b9-198b-48ce-b423-82765183c713",
   "metadata": {},
   "outputs": [
    {
     "data": {
      "text/html": [
       "<div>\n",
       "<style scoped>\n",
       "    .dataframe tbody tr th:only-of-type {\n",
       "        vertical-align: middle;\n",
       "    }\n",
       "\n",
       "    .dataframe tbody tr th {\n",
       "        vertical-align: top;\n",
       "    }\n",
       "\n",
       "    .dataframe thead th {\n",
       "        text-align: right;\n",
       "    }\n",
       "</style>\n",
       "<table border=\"1\" class=\"dataframe\">\n",
       "  <thead>\n",
       "    <tr style=\"text-align: right;\">\n",
       "      <th></th>\n",
       "      <th>0</th>\n",
       "      <th>1</th>\n",
       "      <th>2</th>\n",
       "      <th>3</th>\n",
       "      <th>4</th>\n",
       "    </tr>\n",
       "  </thead>\n",
       "  <tbody>\n",
       "    <tr>\n",
       "      <th>0</th>\n",
       "      <td>0.5</td>\n",
       "      <td>0.283467</td>\n",
       "      <td>0.558325</td>\n",
       "      <td>0.099521</td>\n",
       "      <td>0.580030</td>\n",
       "    </tr>\n",
       "    <tr>\n",
       "      <th>1</th>\n",
       "      <td>0.758037</td>\n",
       "      <td>0.819420</td>\n",
       "      <td>0.084669</td>\n",
       "      <td>0.956381</td>\n",
       "      <td>0.762292</td>\n",
       "    </tr>\n",
       "    <tr>\n",
       "      <th>2</th>\n",
       "      <td>0.045291</td>\n",
       "      <td>0.670764</td>\n",
       "      <td>0.995318</td>\n",
       "      <td>0.810501</td>\n",
       "      <td>0.432487</td>\n",
       "    </tr>\n",
       "    <tr>\n",
       "      <th>3</th>\n",
       "      <td>0.775309</td>\n",
       "      <td>0.447354</td>\n",
       "      <td>0.277670</td>\n",
       "      <td>0.799304</td>\n",
       "      <td>0.752667</td>\n",
       "    </tr>\n",
       "    <tr>\n",
       "      <th>4</th>\n",
       "      <td>0.406862</td>\n",
       "      <td>0.580318</td>\n",
       "      <td>0.516866</td>\n",
       "      <td>0.925759</td>\n",
       "      <td>0.404664</td>\n",
       "    </tr>\n",
       "  </tbody>\n",
       "</table>\n",
       "</div>"
      ],
      "text/plain": [
       "          0         1         2         3         4\n",
       "0       0.5  0.283467  0.558325  0.099521  0.580030\n",
       "1  0.758037  0.819420  0.084669  0.956381  0.762292\n",
       "2  0.045291  0.670764  0.995318  0.810501  0.432487\n",
       "3  0.775309  0.447354  0.277670  0.799304  0.752667\n",
       "4  0.406862  0.580318  0.516866  0.925759  0.404664"
      ]
     },
     "execution_count": 49,
     "metadata": {},
     "output_type": "execute_result"
    }
   ],
   "source": [
    "newdf.head()"
   ]
  },
  {
   "cell_type": "code",
   "execution_count": 51,
   "id": "625f2789-153e-4169-95ea-8b0102c7a0a8",
   "metadata": {},
   "outputs": [
    {
     "data": {
      "text/plain": [
       "pandas.core.series.Series"
      ]
     },
     "execution_count": 51,
     "metadata": {},
     "output_type": "execute_result"
    }
   ],
   "source": [
    "type(newdf[0])"
   ]
  },
  {
   "cell_type": "code",
   "execution_count": 56,
   "id": "c9ada8cf-ca76-427d-b02f-80297d004dc3",
   "metadata": {},
   "outputs": [],
   "source": [
    "newdf2 =newdf.copy()"
   ]
  },
  {
   "cell_type": "code",
   "execution_count": 57,
   "id": "6d901674-5e15-48e0-9be5-5c1a08ecaac4",
   "metadata": {},
   "outputs": [
    {
     "name": "stderr",
     "output_type": "stream",
     "text": [
      "C:\\Users\\Shah\\AppData\\Local\\Temp\\ipykernel_12776\\570901836.py:1: FutureWarning: ChainedAssignmentError: behaviour will change in pandas 3.0!\n",
      "You are setting values through chained assignment. Currently this works in certain cases, but when using Copy-on-Write (which will become the default behaviour in pandas 3.0) this will never work to update the original DataFrame or Series, because the intermediate object on which we are setting values will behave as a copy.\n",
      "A typical example is when you are setting values in a column of a DataFrame, like:\n",
      "\n",
      "df[\"col\"][row_indexer] = value\n",
      "\n",
      "Use `df.loc[row_indexer, \"col\"] = values` instead, to perform the assignment in a single step and ensure this keeps updating the original `df`.\n",
      "\n",
      "See the caveats in the documentation: https://pandas.pydata.org/pandas-docs/stable/user_guide/indexing.html#returning-a-view-versus-a-copy\n",
      "\n",
      "  newdf2[0][0] = 9785\n",
      "C:\\Users\\Shah\\AppData\\Local\\Temp\\ipykernel_12776\\570901836.py:1: SettingWithCopyWarning: \n",
      "A value is trying to be set on a copy of a slice from a DataFrame\n",
      "\n",
      "See the caveats in the documentation: https://pandas.pydata.org/pandas-docs/stable/user_guide/indexing.html#returning-a-view-versus-a-copy\n",
      "  newdf2[0][0] = 9785\n"
     ]
    }
   ],
   "source": [
    "newdf2[0][0] = 9785"
   ]
  },
  {
   "cell_type": "code",
   "execution_count": 58,
   "id": "f09b156a-8260-4b95-b9d8-93514b0fca1c",
   "metadata": {},
   "outputs": [
    {
     "data": {
      "text/html": [
       "<div>\n",
       "<style scoped>\n",
       "    .dataframe tbody tr th:only-of-type {\n",
       "        vertical-align: middle;\n",
       "    }\n",
       "\n",
       "    .dataframe tbody tr th {\n",
       "        vertical-align: top;\n",
       "    }\n",
       "\n",
       "    .dataframe thead th {\n",
       "        text-align: right;\n",
       "    }\n",
       "</style>\n",
       "<table border=\"1\" class=\"dataframe\">\n",
       "  <thead>\n",
       "    <tr style=\"text-align: right;\">\n",
       "      <th></th>\n",
       "      <th>0</th>\n",
       "      <th>1</th>\n",
       "      <th>2</th>\n",
       "      <th>3</th>\n",
       "      <th>4</th>\n",
       "    </tr>\n",
       "  </thead>\n",
       "  <tbody>\n",
       "    <tr>\n",
       "      <th>0</th>\n",
       "      <td>9784</td>\n",
       "      <td>0.283467</td>\n",
       "      <td>0.558325</td>\n",
       "      <td>0.099521</td>\n",
       "      <td>0.580030</td>\n",
       "    </tr>\n",
       "    <tr>\n",
       "      <th>1</th>\n",
       "      <td>0.758037</td>\n",
       "      <td>0.819420</td>\n",
       "      <td>0.084669</td>\n",
       "      <td>0.956381</td>\n",
       "      <td>0.762292</td>\n",
       "    </tr>\n",
       "    <tr>\n",
       "      <th>2</th>\n",
       "      <td>0.045291</td>\n",
       "      <td>0.670764</td>\n",
       "      <td>0.995318</td>\n",
       "      <td>0.810501</td>\n",
       "      <td>0.432487</td>\n",
       "    </tr>\n",
       "    <tr>\n",
       "      <th>3</th>\n",
       "      <td>0.775309</td>\n",
       "      <td>0.447354</td>\n",
       "      <td>0.277670</td>\n",
       "      <td>0.799304</td>\n",
       "      <td>0.752667</td>\n",
       "    </tr>\n",
       "    <tr>\n",
       "      <th>4</th>\n",
       "      <td>0.406862</td>\n",
       "      <td>0.580318</td>\n",
       "      <td>0.516866</td>\n",
       "      <td>0.925759</td>\n",
       "      <td>0.404664</td>\n",
       "    </tr>\n",
       "    <tr>\n",
       "      <th>...</th>\n",
       "      <td>...</td>\n",
       "      <td>...</td>\n",
       "      <td>...</td>\n",
       "      <td>...</td>\n",
       "      <td>...</td>\n",
       "    </tr>\n",
       "    <tr>\n",
       "      <th>329</th>\n",
       "      <td>0.660409</td>\n",
       "      <td>0.413100</td>\n",
       "      <td>0.245654</td>\n",
       "      <td>0.782361</td>\n",
       "      <td>0.293122</td>\n",
       "    </tr>\n",
       "    <tr>\n",
       "      <th>330</th>\n",
       "      <td>0.217587</td>\n",
       "      <td>0.674201</td>\n",
       "      <td>0.729440</td>\n",
       "      <td>0.825213</td>\n",
       "      <td>0.183290</td>\n",
       "    </tr>\n",
       "    <tr>\n",
       "      <th>331</th>\n",
       "      <td>0.226136</td>\n",
       "      <td>0.018411</td>\n",
       "      <td>0.670504</td>\n",
       "      <td>0.494746</td>\n",
       "      <td>0.330616</td>\n",
       "    </tr>\n",
       "    <tr>\n",
       "      <th>332</th>\n",
       "      <td>0.208543</td>\n",
       "      <td>0.080577</td>\n",
       "      <td>0.171018</td>\n",
       "      <td>0.750901</td>\n",
       "      <td>0.941917</td>\n",
       "    </tr>\n",
       "    <tr>\n",
       "      <th>333</th>\n",
       "      <td>0.557432</td>\n",
       "      <td>0.142211</td>\n",
       "      <td>0.270364</td>\n",
       "      <td>0.070752</td>\n",
       "      <td>0.852054</td>\n",
       "    </tr>\n",
       "  </tbody>\n",
       "</table>\n",
       "<p>334 rows × 5 columns</p>\n",
       "</div>"
      ],
      "text/plain": [
       "            0         1         2         3         4\n",
       "0        9784  0.283467  0.558325  0.099521  0.580030\n",
       "1    0.758037  0.819420  0.084669  0.956381  0.762292\n",
       "2    0.045291  0.670764  0.995318  0.810501  0.432487\n",
       "3    0.775309  0.447354  0.277670  0.799304  0.752667\n",
       "4    0.406862  0.580318  0.516866  0.925759  0.404664\n",
       "..        ...       ...       ...       ...       ...\n",
       "329  0.660409  0.413100  0.245654  0.782361  0.293122\n",
       "330  0.217587  0.674201  0.729440  0.825213  0.183290\n",
       "331  0.226136  0.018411  0.670504  0.494746  0.330616\n",
       "332  0.208543  0.080577  0.171018  0.750901  0.941917\n",
       "333  0.557432  0.142211  0.270364  0.070752  0.852054\n",
       "\n",
       "[334 rows x 5 columns]"
      ]
     },
     "execution_count": 58,
     "metadata": {},
     "output_type": "execute_result"
    }
   ],
   "source": [
    "newdf"
   ]
  },
  {
   "cell_type": "code",
   "execution_count": null,
   "id": "dbe9eeec-3684-4911-a649-6dd118782be2",
   "metadata": {},
   "outputs": [],
   "source": []
  }
 ],
 "metadata": {
  "kernelspec": {
   "display_name": "Python 3 (ipykernel)",
   "language": "python",
   "name": "python3"
  },
  "language_info": {
   "codemirror_mode": {
    "name": "ipython",
    "version": 3
   },
   "file_extension": ".py",
   "mimetype": "text/x-python",
   "name": "python",
   "nbconvert_exporter": "python",
   "pygments_lexer": "ipython3",
   "version": "3.12.4"
  }
 },
 "nbformat": 4,
 "nbformat_minor": 5
}
