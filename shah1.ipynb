{
 "cells": [
  {
   "cell_type": "code",
   "execution_count": 2,
   "id": "27831594-af12-4ac3-b482-1213bfa82c7f",
   "metadata": {},
   "outputs": [],
   "source": [
    "import numpy as np\n",
    "import pandas as pd"
   ]
  },
  {
   "cell_type": "code",
   "execution_count": 3,
   "id": "d06004b6-ae29-47aa-94c7-7062765d1e49",
   "metadata": {},
   "outputs": [],
   "source": [
    "dict1 = {\n",
    "    \"name\":['harry', 'rohan', 'skillf', 'shubh'],\n",
    "    \"mark\":[93, 34, 24,17],\n",
    "    \"city\":['dhaka', 'khulna', 'kushtia', 'kolkata'],\n",
    "}"
   ]
  },
  {
   "cell_type": "code",
   "execution_count": 4,
   "id": "af33e1a0-ec37-43be-a0b1-d156e1bc4fa1",
   "metadata": {},
   "outputs": [],
   "source": [
    "df = pd.DataFrame(dict1)"
   ]
  },
  {
   "cell_type": "code",
   "execution_count": 5,
   "id": "3d5b8363-a519-4f5f-903d-da799b41d4da",
   "metadata": {},
   "outputs": [
    {
     "data": {
      "text/html": [
       "<div>\n",
       "<style scoped>\n",
       "    .dataframe tbody tr th:only-of-type {\n",
       "        vertical-align: middle;\n",
       "    }\n",
       "\n",
       "    .dataframe tbody tr th {\n",
       "        vertical-align: top;\n",
       "    }\n",
       "\n",
       "    .dataframe thead th {\n",
       "        text-align: right;\n",
       "    }\n",
       "</style>\n",
       "<table border=\"1\" class=\"dataframe\">\n",
       "  <thead>\n",
       "    <tr style=\"text-align: right;\">\n",
       "      <th></th>\n",
       "      <th>name</th>\n",
       "      <th>mark</th>\n",
       "      <th>city</th>\n",
       "    </tr>\n",
       "  </thead>\n",
       "  <tbody>\n",
       "    <tr>\n",
       "      <th>0</th>\n",
       "      <td>harry</td>\n",
       "      <td>93</td>\n",
       "      <td>dhaka</td>\n",
       "    </tr>\n",
       "    <tr>\n",
       "      <th>1</th>\n",
       "      <td>rohan</td>\n",
       "      <td>34</td>\n",
       "      <td>khulna</td>\n",
       "    </tr>\n",
       "    <tr>\n",
       "      <th>2</th>\n",
       "      <td>skillf</td>\n",
       "      <td>24</td>\n",
       "      <td>kushtia</td>\n",
       "    </tr>\n",
       "    <tr>\n",
       "      <th>3</th>\n",
       "      <td>shubh</td>\n",
       "      <td>17</td>\n",
       "      <td>kolkata</td>\n",
       "    </tr>\n",
       "  </tbody>\n",
       "</table>\n",
       "</div>"
      ],
      "text/plain": [
       "     name  mark     city\n",
       "0   harry    93    dhaka\n",
       "1   rohan    34   khulna\n",
       "2  skillf    24  kushtia\n",
       "3   shubh    17  kolkata"
      ]
     },
     "execution_count": 5,
     "metadata": {},
     "output_type": "execute_result"
    }
   ],
   "source": [
    "df"
   ]
  },
  {
   "cell_type": "code",
   "execution_count": 6,
   "id": "4297d1d1-8eb8-44bd-9d3b-1f47f13b36a4",
   "metadata": {},
   "outputs": [],
   "source": [
    "df.to_csv('friends.csv')"
   ]
  },
  {
   "cell_type": "code",
   "execution_count": 7,
   "id": "9b8af350-ea5f-425b-8b60-09a163600a74",
   "metadata": {},
   "outputs": [],
   "source": [
    "df.to_csv('friends_index_false.csv', index=False)"
   ]
  },
  {
   "cell_type": "code",
   "execution_count": 8,
   "id": "33306a1a-c597-4565-b848-251138face87",
   "metadata": {},
   "outputs": [
    {
     "data": {
      "text/html": [
       "<div>\n",
       "<style scoped>\n",
       "    .dataframe tbody tr th:only-of-type {\n",
       "        vertical-align: middle;\n",
       "    }\n",
       "\n",
       "    .dataframe tbody tr th {\n",
       "        vertical-align: top;\n",
       "    }\n",
       "\n",
       "    .dataframe thead th {\n",
       "        text-align: right;\n",
       "    }\n",
       "</style>\n",
       "<table border=\"1\" class=\"dataframe\">\n",
       "  <thead>\n",
       "    <tr style=\"text-align: right;\">\n",
       "      <th></th>\n",
       "      <th>name</th>\n",
       "      <th>mark</th>\n",
       "      <th>city</th>\n",
       "    </tr>\n",
       "  </thead>\n",
       "  <tbody>\n",
       "    <tr>\n",
       "      <th>0</th>\n",
       "      <td>harry</td>\n",
       "      <td>93</td>\n",
       "      <td>dhaka</td>\n",
       "    </tr>\n",
       "    <tr>\n",
       "      <th>1</th>\n",
       "      <td>rohan</td>\n",
       "      <td>34</td>\n",
       "      <td>khulna</td>\n",
       "    </tr>\n",
       "  </tbody>\n",
       "</table>\n",
       "</div>"
      ],
      "text/plain": [
       "    name  mark    city\n",
       "0  harry    93   dhaka\n",
       "1  rohan    34  khulna"
      ]
     },
     "execution_count": 8,
     "metadata": {},
     "output_type": "execute_result"
    }
   ],
   "source": [
    "df.head(2)"
   ]
  },
  {
   "cell_type": "code",
   "execution_count": 9,
   "id": "487663f2-a2ab-4979-92f2-d517e89b66de",
   "metadata": {},
   "outputs": [
    {
     "data": {
      "text/html": [
       "<div>\n",
       "<style scoped>\n",
       "    .dataframe tbody tr th:only-of-type {\n",
       "        vertical-align: middle;\n",
       "    }\n",
       "\n",
       "    .dataframe tbody tr th {\n",
       "        vertical-align: top;\n",
       "    }\n",
       "\n",
       "    .dataframe thead th {\n",
       "        text-align: right;\n",
       "    }\n",
       "</style>\n",
       "<table border=\"1\" class=\"dataframe\">\n",
       "  <thead>\n",
       "    <tr style=\"text-align: right;\">\n",
       "      <th></th>\n",
       "      <th>name</th>\n",
       "      <th>mark</th>\n",
       "      <th>city</th>\n",
       "    </tr>\n",
       "  </thead>\n",
       "  <tbody>\n",
       "    <tr>\n",
       "      <th>2</th>\n",
       "      <td>skillf</td>\n",
       "      <td>24</td>\n",
       "      <td>kushtia</td>\n",
       "    </tr>\n",
       "    <tr>\n",
       "      <th>3</th>\n",
       "      <td>shubh</td>\n",
       "      <td>17</td>\n",
       "      <td>kolkata</td>\n",
       "    </tr>\n",
       "  </tbody>\n",
       "</table>\n",
       "</div>"
      ],
      "text/plain": [
       "     name  mark     city\n",
       "2  skillf    24  kushtia\n",
       "3   shubh    17  kolkata"
      ]
     },
     "execution_count": 9,
     "metadata": {},
     "output_type": "execute_result"
    }
   ],
   "source": [
    "df.tail(2)"
   ]
  },
  {
   "cell_type": "code",
   "execution_count": 10,
   "id": "b90fbade-e603-4dc6-a3b1-d03b95411137",
   "metadata": {},
   "outputs": [
    {
     "data": {
      "text/html": [
       "<div>\n",
       "<style scoped>\n",
       "    .dataframe tbody tr th:only-of-type {\n",
       "        vertical-align: middle;\n",
       "    }\n",
       "\n",
       "    .dataframe tbody tr th {\n",
       "        vertical-align: top;\n",
       "    }\n",
       "\n",
       "    .dataframe thead th {\n",
       "        text-align: right;\n",
       "    }\n",
       "</style>\n",
       "<table border=\"1\" class=\"dataframe\">\n",
       "  <thead>\n",
       "    <tr style=\"text-align: right;\">\n",
       "      <th></th>\n",
       "      <th>mark</th>\n",
       "    </tr>\n",
       "  </thead>\n",
       "  <tbody>\n",
       "    <tr>\n",
       "      <th>count</th>\n",
       "      <td>4.000000</td>\n",
       "    </tr>\n",
       "    <tr>\n",
       "      <th>mean</th>\n",
       "      <td>42.000000</td>\n",
       "    </tr>\n",
       "    <tr>\n",
       "      <th>std</th>\n",
       "      <td>34.708308</td>\n",
       "    </tr>\n",
       "    <tr>\n",
       "      <th>min</th>\n",
       "      <td>17.000000</td>\n",
       "    </tr>\n",
       "    <tr>\n",
       "      <th>25%</th>\n",
       "      <td>22.250000</td>\n",
       "    </tr>\n",
       "    <tr>\n",
       "      <th>50%</th>\n",
       "      <td>29.000000</td>\n",
       "    </tr>\n",
       "    <tr>\n",
       "      <th>75%</th>\n",
       "      <td>48.750000</td>\n",
       "    </tr>\n",
       "    <tr>\n",
       "      <th>max</th>\n",
       "      <td>93.000000</td>\n",
       "    </tr>\n",
       "  </tbody>\n",
       "</table>\n",
       "</div>"
      ],
      "text/plain": [
       "            mark\n",
       "count   4.000000\n",
       "mean   42.000000\n",
       "std    34.708308\n",
       "min    17.000000\n",
       "25%    22.250000\n",
       "50%    29.000000\n",
       "75%    48.750000\n",
       "max    93.000000"
      ]
     },
     "execution_count": 10,
     "metadata": {},
     "output_type": "execute_result"
    }
   ],
   "source": [
    "df.describe()"
   ]
  },
  {
   "cell_type": "code",
   "execution_count": 11,
   "id": "3ab3127a-22bd-49ad-8815-427ca0ec8fac",
   "metadata": {},
   "outputs": [],
   "source": [
    "shah = pd.read_csv('shah.csv')"
   ]
  },
  {
   "cell_type": "code",
   "execution_count": 12,
   "id": "07b13aaf-abf4-4035-a1ae-c5e68f6e7767",
   "metadata": {},
   "outputs": [
    {
     "data": {
      "text/html": [
       "<div>\n",
       "<style scoped>\n",
       "    .dataframe tbody tr th:only-of-type {\n",
       "        vertical-align: middle;\n",
       "    }\n",
       "\n",
       "    .dataframe tbody tr th {\n",
       "        vertical-align: top;\n",
       "    }\n",
       "\n",
       "    .dataframe thead th {\n",
       "        text-align: right;\n",
       "    }\n",
       "</style>\n",
       "<table border=\"1\" class=\"dataframe\">\n",
       "  <thead>\n",
       "    <tr style=\"text-align: right;\">\n",
       "      <th></th>\n",
       "      <th>Unnamed: 0.3</th>\n",
       "      <th>Unnamed: 0.2</th>\n",
       "      <th>Unnamed: 0.1</th>\n",
       "      <th>Unnamed: 0</th>\n",
       "      <th>name</th>\n",
       "      <th>mark</th>\n",
       "      <th>city</th>\n",
       "    </tr>\n",
       "  </thead>\n",
       "  <tbody>\n",
       "    <tr>\n",
       "      <th>0</th>\n",
       "      <td>0</td>\n",
       "      <td>0</td>\n",
       "      <td>0</td>\n",
       "      <td>0</td>\n",
       "      <td>harry</td>\n",
       "      <td>99</td>\n",
       "      <td>dhaka</td>\n",
       "    </tr>\n",
       "    <tr>\n",
       "      <th>1</th>\n",
       "      <td>1</td>\n",
       "      <td>1</td>\n",
       "      <td>1</td>\n",
       "      <td>1</td>\n",
       "      <td>rohan</td>\n",
       "      <td>34</td>\n",
       "      <td>khulna</td>\n",
       "    </tr>\n",
       "    <tr>\n",
       "      <th>2</th>\n",
       "      <td>2</td>\n",
       "      <td>2</td>\n",
       "      <td>2</td>\n",
       "      <td>2</td>\n",
       "      <td>skillf</td>\n",
       "      <td>24</td>\n",
       "      <td>kushtia</td>\n",
       "    </tr>\n",
       "    <tr>\n",
       "      <th>3</th>\n",
       "      <td>3</td>\n",
       "      <td>3</td>\n",
       "      <td>3</td>\n",
       "      <td>3</td>\n",
       "      <td>shubh</td>\n",
       "      <td>17</td>\n",
       "      <td>kolkata</td>\n",
       "    </tr>\n",
       "  </tbody>\n",
       "</table>\n",
       "</div>"
      ],
      "text/plain": [
       "   Unnamed: 0.3  Unnamed: 0.2  Unnamed: 0.1  Unnamed: 0    name  mark     city\n",
       "0             0             0             0           0   harry    99    dhaka\n",
       "1             1             1             1           1   rohan    34   khulna\n",
       "2             2             2             2           2  skillf    24  kushtia\n",
       "3             3             3             3           3   shubh    17  kolkata"
      ]
     },
     "execution_count": 12,
     "metadata": {},
     "output_type": "execute_result"
    }
   ],
   "source": [
    "shah"
   ]
  },
  {
   "cell_type": "code",
   "execution_count": 13,
   "id": "986313e7-7280-4a53-8bee-a4b430e5d980",
   "metadata": {},
   "outputs": [
    {
     "data": {
      "text/plain": [
       "0      dhaka\n",
       "1     khulna\n",
       "2    kushtia\n",
       "3    kolkata\n",
       "Name: city, dtype: object"
      ]
     },
     "execution_count": 13,
     "metadata": {},
     "output_type": "execute_result"
    }
   ],
   "source": [
    "shah['city']"
   ]
  },
  {
   "cell_type": "code",
   "execution_count": 14,
   "id": "7dab3082-8e04-4ace-ba69-ccc3cfbcf24e",
   "metadata": {},
   "outputs": [
    {
     "data": {
      "text/plain": [
       "99"
      ]
     },
     "execution_count": 14,
     "metadata": {},
     "output_type": "execute_result"
    }
   ],
   "source": [
    "shah['mark'][0]"
   ]
  },
  {
   "cell_type": "code",
   "execution_count": 15,
   "id": "72494c94-c418-40c3-af3c-15fd6073e4ed",
   "metadata": {},
   "outputs": [
    {
     "name": "stderr",
     "output_type": "stream",
     "text": [
      "C:\\Users\\Shah\\AppData\\Local\\Temp\\ipykernel_6856\\2909341055.py:1: FutureWarning: ChainedAssignmentError: behaviour will change in pandas 3.0!\n",
      "You are setting values through chained assignment. Currently this works in certain cases, but when using Copy-on-Write (which will become the default behaviour in pandas 3.0) this will never work to update the original DataFrame or Series, because the intermediate object on which we are setting values will behave as a copy.\n",
      "A typical example is when you are setting values in a column of a DataFrame, like:\n",
      "\n",
      "df[\"col\"][row_indexer] = value\n",
      "\n",
      "Use `df.loc[row_indexer, \"col\"] = values` instead, to perform the assignment in a single step and ensure this keeps updating the original `df`.\n",
      "\n",
      "See the caveats in the documentation: https://pandas.pydata.org/pandas-docs/stable/user_guide/indexing.html#returning-a-view-versus-a-copy\n",
      "\n",
      "  shah['mark'][0] = 99\n",
      "C:\\Users\\Shah\\AppData\\Local\\Temp\\ipykernel_6856\\2909341055.py:1: SettingWithCopyWarning: \n",
      "A value is trying to be set on a copy of a slice from a DataFrame\n",
      "\n",
      "See the caveats in the documentation: https://pandas.pydata.org/pandas-docs/stable/user_guide/indexing.html#returning-a-view-versus-a-copy\n",
      "  shah['mark'][0] = 99\n"
     ]
    }
   ],
   "source": [
    "shah['mark'][0] = 99"
   ]
  },
  {
   "cell_type": "code",
   "execution_count": 16,
   "id": "ab105421-b3b6-437a-881a-c231cc6eb0e2",
   "metadata": {},
   "outputs": [
    {
     "data": {
      "text/html": [
       "<div>\n",
       "<style scoped>\n",
       "    .dataframe tbody tr th:only-of-type {\n",
       "        vertical-align: middle;\n",
       "    }\n",
       "\n",
       "    .dataframe tbody tr th {\n",
       "        vertical-align: top;\n",
       "    }\n",
       "\n",
       "    .dataframe thead th {\n",
       "        text-align: right;\n",
       "    }\n",
       "</style>\n",
       "<table border=\"1\" class=\"dataframe\">\n",
       "  <thead>\n",
       "    <tr style=\"text-align: right;\">\n",
       "      <th></th>\n",
       "      <th>Unnamed: 0.3</th>\n",
       "      <th>Unnamed: 0.2</th>\n",
       "      <th>Unnamed: 0.1</th>\n",
       "      <th>Unnamed: 0</th>\n",
       "      <th>name</th>\n",
       "      <th>mark</th>\n",
       "      <th>city</th>\n",
       "    </tr>\n",
       "  </thead>\n",
       "  <tbody>\n",
       "    <tr>\n",
       "      <th>0</th>\n",
       "      <td>0</td>\n",
       "      <td>0</td>\n",
       "      <td>0</td>\n",
       "      <td>0</td>\n",
       "      <td>harry</td>\n",
       "      <td>99</td>\n",
       "      <td>dhaka</td>\n",
       "    </tr>\n",
       "    <tr>\n",
       "      <th>1</th>\n",
       "      <td>1</td>\n",
       "      <td>1</td>\n",
       "      <td>1</td>\n",
       "      <td>1</td>\n",
       "      <td>rohan</td>\n",
       "      <td>34</td>\n",
       "      <td>khulna</td>\n",
       "    </tr>\n",
       "    <tr>\n",
       "      <th>2</th>\n",
       "      <td>2</td>\n",
       "      <td>2</td>\n",
       "      <td>2</td>\n",
       "      <td>2</td>\n",
       "      <td>skillf</td>\n",
       "      <td>24</td>\n",
       "      <td>kushtia</td>\n",
       "    </tr>\n",
       "    <tr>\n",
       "      <th>3</th>\n",
       "      <td>3</td>\n",
       "      <td>3</td>\n",
       "      <td>3</td>\n",
       "      <td>3</td>\n",
       "      <td>shubh</td>\n",
       "      <td>17</td>\n",
       "      <td>kolkata</td>\n",
       "    </tr>\n",
       "  </tbody>\n",
       "</table>\n",
       "</div>"
      ],
      "text/plain": [
       "   Unnamed: 0.3  Unnamed: 0.2  Unnamed: 0.1  Unnamed: 0    name  mark     city\n",
       "0             0             0             0           0   harry    99    dhaka\n",
       "1             1             1             1           1   rohan    34   khulna\n",
       "2             2             2             2           2  skillf    24  kushtia\n",
       "3             3             3             3           3   shubh    17  kolkata"
      ]
     },
     "execution_count": 16,
     "metadata": {},
     "output_type": "execute_result"
    }
   ],
   "source": [
    "shah"
   ]
  },
  {
   "cell_type": "code",
   "execution_count": 17,
   "id": "52d61a30-7ff6-4ee9-b741-f2a61aa412a3",
   "metadata": {},
   "outputs": [],
   "source": [
    "shah.to_csv('shah.csv')"
   ]
  },
  {
   "cell_type": "code",
   "execution_count": 18,
   "id": "e38b815a-f0a5-44d9-91ac-2dcf228586ab",
   "metadata": {},
   "outputs": [],
   "source": [
    "shah.index = ['1st', '2nd', '3rd', '4th']"
   ]
  },
  {
   "cell_type": "code",
   "execution_count": 19,
   "id": "beb203c4-6257-4f2c-a4cf-0a16b25f4d92",
   "metadata": {},
   "outputs": [
    {
     "data": {
      "text/html": [
       "<div>\n",
       "<style scoped>\n",
       "    .dataframe tbody tr th:only-of-type {\n",
       "        vertical-align: middle;\n",
       "    }\n",
       "\n",
       "    .dataframe tbody tr th {\n",
       "        vertical-align: top;\n",
       "    }\n",
       "\n",
       "    .dataframe thead th {\n",
       "        text-align: right;\n",
       "    }\n",
       "</style>\n",
       "<table border=\"1\" class=\"dataframe\">\n",
       "  <thead>\n",
       "    <tr style=\"text-align: right;\">\n",
       "      <th></th>\n",
       "      <th>Unnamed: 0.3</th>\n",
       "      <th>Unnamed: 0.2</th>\n",
       "      <th>Unnamed: 0.1</th>\n",
       "      <th>Unnamed: 0</th>\n",
       "      <th>name</th>\n",
       "      <th>mark</th>\n",
       "      <th>city</th>\n",
       "    </tr>\n",
       "  </thead>\n",
       "  <tbody>\n",
       "    <tr>\n",
       "      <th>1st</th>\n",
       "      <td>0</td>\n",
       "      <td>0</td>\n",
       "      <td>0</td>\n",
       "      <td>0</td>\n",
       "      <td>harry</td>\n",
       "      <td>99</td>\n",
       "      <td>dhaka</td>\n",
       "    </tr>\n",
       "    <tr>\n",
       "      <th>2nd</th>\n",
       "      <td>1</td>\n",
       "      <td>1</td>\n",
       "      <td>1</td>\n",
       "      <td>1</td>\n",
       "      <td>rohan</td>\n",
       "      <td>34</td>\n",
       "      <td>khulna</td>\n",
       "    </tr>\n",
       "    <tr>\n",
       "      <th>3rd</th>\n",
       "      <td>2</td>\n",
       "      <td>2</td>\n",
       "      <td>2</td>\n",
       "      <td>2</td>\n",
       "      <td>skillf</td>\n",
       "      <td>24</td>\n",
       "      <td>kushtia</td>\n",
       "    </tr>\n",
       "    <tr>\n",
       "      <th>4th</th>\n",
       "      <td>3</td>\n",
       "      <td>3</td>\n",
       "      <td>3</td>\n",
       "      <td>3</td>\n",
       "      <td>shubh</td>\n",
       "      <td>17</td>\n",
       "      <td>kolkata</td>\n",
       "    </tr>\n",
       "  </tbody>\n",
       "</table>\n",
       "</div>"
      ],
      "text/plain": [
       "     Unnamed: 0.3  Unnamed: 0.2  Unnamed: 0.1  Unnamed: 0    name  mark  \\\n",
       "1st             0             0             0           0   harry    99   \n",
       "2nd             1             1             1           1   rohan    34   \n",
       "3rd             2             2             2           2  skillf    24   \n",
       "4th             3             3             3           3   shubh    17   \n",
       "\n",
       "        city  \n",
       "1st    dhaka  \n",
       "2nd   khulna  \n",
       "3rd  kushtia  \n",
       "4th  kolkata  "
      ]
     },
     "execution_count": 19,
     "metadata": {},
     "output_type": "execute_result"
    }
   ],
   "source": [
    "shah"
   ]
  },
  {
   "cell_type": "code",
   "execution_count": 20,
   "id": "9d51a4cf-7759-42e4-b4ac-4faf28f09208",
   "metadata": {},
   "outputs": [
    {
     "name": "stdout",
     "output_type": "stream",
     "text": [
      "shazid\n"
     ]
    }
   ],
   "source": [
    "print(\"shazid\")"
   ]
  },
  {
   "cell_type": "code",
   "execution_count": 21,
   "id": "cad2ed6f-4b6c-4662-8c8e-7a1004f6fddb",
   "metadata": {},
   "outputs": [],
   "source": [
    "ser = pd.Series(np.random.rand(34))"
   ]
  },
  {
   "cell_type": "code",
   "execution_count": 22,
   "id": "256b8cad-e14f-497c-bc35-49dbd2bc87b1",
   "metadata": {},
   "outputs": [
    {
     "data": {
      "text/plain": [
       "pandas.core.series.Series"
      ]
     },
     "execution_count": 22,
     "metadata": {},
     "output_type": "execute_result"
    }
   ],
   "source": [
    "type(ser)"
   ]
  },
  {
   "cell_type": "code",
   "execution_count": 23,
   "id": "406657c3-97f9-4fd8-82c4-bec5ace7ab2d",
   "metadata": {},
   "outputs": [],
   "source": [
    "newdf= pd.DataFrame(np.random.rand(334,5), index=np.arange(334))"
   ]
  },
  {
   "cell_type": "code",
   "execution_count": 24,
   "id": "9d2a1595-e0e8-4d22-97d3-551d74f7bbbe",
   "metadata": {},
   "outputs": [
    {
     "data": {
      "text/html": [
       "<div>\n",
       "<style scoped>\n",
       "    .dataframe tbody tr th:only-of-type {\n",
       "        vertical-align: middle;\n",
       "    }\n",
       "\n",
       "    .dataframe tbody tr th {\n",
       "        vertical-align: top;\n",
       "    }\n",
       "\n",
       "    .dataframe thead th {\n",
       "        text-align: right;\n",
       "    }\n",
       "</style>\n",
       "<table border=\"1\" class=\"dataframe\">\n",
       "  <thead>\n",
       "    <tr style=\"text-align: right;\">\n",
       "      <th></th>\n",
       "      <th>0</th>\n",
       "      <th>1</th>\n",
       "      <th>2</th>\n",
       "      <th>3</th>\n",
       "      <th>4</th>\n",
       "    </tr>\n",
       "  </thead>\n",
       "  <tbody>\n",
       "    <tr>\n",
       "      <th>0</th>\n",
       "      <td>0.282066</td>\n",
       "      <td>0.779639</td>\n",
       "      <td>0.559650</td>\n",
       "      <td>0.909436</td>\n",
       "      <td>0.717646</td>\n",
       "    </tr>\n",
       "    <tr>\n",
       "      <th>1</th>\n",
       "      <td>0.893185</td>\n",
       "      <td>0.702782</td>\n",
       "      <td>0.338949</td>\n",
       "      <td>0.131913</td>\n",
       "      <td>0.997212</td>\n",
       "    </tr>\n",
       "    <tr>\n",
       "      <th>2</th>\n",
       "      <td>0.501297</td>\n",
       "      <td>0.521812</td>\n",
       "      <td>0.096023</td>\n",
       "      <td>0.658269</td>\n",
       "      <td>0.042815</td>\n",
       "    </tr>\n",
       "    <tr>\n",
       "      <th>3</th>\n",
       "      <td>0.721650</td>\n",
       "      <td>0.393218</td>\n",
       "      <td>0.171786</td>\n",
       "      <td>0.463134</td>\n",
       "      <td>0.715370</td>\n",
       "    </tr>\n",
       "    <tr>\n",
       "      <th>4</th>\n",
       "      <td>0.448710</td>\n",
       "      <td>0.600996</td>\n",
       "      <td>0.188458</td>\n",
       "      <td>0.220085</td>\n",
       "      <td>0.110507</td>\n",
       "    </tr>\n",
       "  </tbody>\n",
       "</table>\n",
       "</div>"
      ],
      "text/plain": [
       "          0         1         2         3         4\n",
       "0  0.282066  0.779639  0.559650  0.909436  0.717646\n",
       "1  0.893185  0.702782  0.338949  0.131913  0.997212\n",
       "2  0.501297  0.521812  0.096023  0.658269  0.042815\n",
       "3  0.721650  0.393218  0.171786  0.463134  0.715370\n",
       "4  0.448710  0.600996  0.188458  0.220085  0.110507"
      ]
     },
     "execution_count": 24,
     "metadata": {},
     "output_type": "execute_result"
    }
   ],
   "source": [
    "type(newdf)\n",
    "newdf.head()"
   ]
  },
  {
   "cell_type": "code",
   "execution_count": 25,
   "id": "db9e00cd-10ee-46df-a315-7b09bd36d9ac",
   "metadata": {},
   "outputs": [
    {
     "data": {
      "text/html": [
       "<div>\n",
       "<style scoped>\n",
       "    .dataframe tbody tr th:only-of-type {\n",
       "        vertical-align: middle;\n",
       "    }\n",
       "\n",
       "    .dataframe tbody tr th {\n",
       "        vertical-align: top;\n",
       "    }\n",
       "\n",
       "    .dataframe thead th {\n",
       "        text-align: right;\n",
       "    }\n",
       "</style>\n",
       "<table border=\"1\" class=\"dataframe\">\n",
       "  <thead>\n",
       "    <tr style=\"text-align: right;\">\n",
       "      <th></th>\n",
       "      <th>0</th>\n",
       "      <th>1</th>\n",
       "      <th>2</th>\n",
       "      <th>3</th>\n",
       "      <th>4</th>\n",
       "    </tr>\n",
       "  </thead>\n",
       "  <tbody>\n",
       "    <tr>\n",
       "      <th>count</th>\n",
       "      <td>334.000000</td>\n",
       "      <td>334.000000</td>\n",
       "      <td>334.000000</td>\n",
       "      <td>334.000000</td>\n",
       "      <td>334.000000</td>\n",
       "    </tr>\n",
       "    <tr>\n",
       "      <th>mean</th>\n",
       "      <td>0.508096</td>\n",
       "      <td>0.483542</td>\n",
       "      <td>0.491396</td>\n",
       "      <td>0.466363</td>\n",
       "      <td>0.494699</td>\n",
       "    </tr>\n",
       "    <tr>\n",
       "      <th>std</th>\n",
       "      <td>0.303091</td>\n",
       "      <td>0.278128</td>\n",
       "      <td>0.294076</td>\n",
       "      <td>0.282907</td>\n",
       "      <td>0.297265</td>\n",
       "    </tr>\n",
       "    <tr>\n",
       "      <th>min</th>\n",
       "      <td>0.000800</td>\n",
       "      <td>0.002218</td>\n",
       "      <td>0.000251</td>\n",
       "      <td>0.009981</td>\n",
       "      <td>0.000616</td>\n",
       "    </tr>\n",
       "    <tr>\n",
       "      <th>25%</th>\n",
       "      <td>0.250188</td>\n",
       "      <td>0.268285</td>\n",
       "      <td>0.224565</td>\n",
       "      <td>0.231262</td>\n",
       "      <td>0.242196</td>\n",
       "    </tr>\n",
       "    <tr>\n",
       "      <th>50%</th>\n",
       "      <td>0.498958</td>\n",
       "      <td>0.466585</td>\n",
       "      <td>0.504224</td>\n",
       "      <td>0.429867</td>\n",
       "      <td>0.500894</td>\n",
       "    </tr>\n",
       "    <tr>\n",
       "      <th>75%</th>\n",
       "      <td>0.774694</td>\n",
       "      <td>0.721590</td>\n",
       "      <td>0.730087</td>\n",
       "      <td>0.694504</td>\n",
       "      <td>0.767831</td>\n",
       "    </tr>\n",
       "    <tr>\n",
       "      <th>max</th>\n",
       "      <td>0.999732</td>\n",
       "      <td>0.998032</td>\n",
       "      <td>0.999334</td>\n",
       "      <td>0.994541</td>\n",
       "      <td>0.997212</td>\n",
       "    </tr>\n",
       "  </tbody>\n",
       "</table>\n",
       "</div>"
      ],
      "text/plain": [
       "                0           1           2           3           4\n",
       "count  334.000000  334.000000  334.000000  334.000000  334.000000\n",
       "mean     0.508096    0.483542    0.491396    0.466363    0.494699\n",
       "std      0.303091    0.278128    0.294076    0.282907    0.297265\n",
       "min      0.000800    0.002218    0.000251    0.009981    0.000616\n",
       "25%      0.250188    0.268285    0.224565    0.231262    0.242196\n",
       "50%      0.498958    0.466585    0.504224    0.429867    0.500894\n",
       "75%      0.774694    0.721590    0.730087    0.694504    0.767831\n",
       "max      0.999732    0.998032    0.999334    0.994541    0.997212"
      ]
     },
     "execution_count": 25,
     "metadata": {},
     "output_type": "execute_result"
    }
   ],
   "source": [
    "newdf.describe()"
   ]
  },
  {
   "cell_type": "code",
   "execution_count": 26,
   "id": "f9096b6e-af59-4ebc-8da9-2e9bcd8841e6",
   "metadata": {},
   "outputs": [
    {
     "data": {
      "text/plain": [
       "0    float64\n",
       "1    float64\n",
       "2    float64\n",
       "3    float64\n",
       "4    float64\n",
       "dtype: object"
      ]
     },
     "execution_count": 26,
     "metadata": {},
     "output_type": "execute_result"
    }
   ],
   "source": [
    "newdf.dtypes"
   ]
  },
  {
   "cell_type": "code",
   "execution_count": 27,
   "id": "20a0dac6-a80b-4dfe-a877-47bf39c63205",
   "metadata": {},
   "outputs": [
    {
     "ename": "NameError",
     "evalue": "name 'new' is not defined",
     "output_type": "error",
     "traceback": [
      "\u001b[1;31m---------------------------------------------------------------------------\u001b[0m",
      "\u001b[1;31mNameError\u001b[0m                                 Traceback (most recent call last)",
      "Cell \u001b[1;32mIn[27], line 1\u001b[0m\n\u001b[1;32m----> 1\u001b[0m \u001b[43mnew\u001b[49m[\u001b[38;5;241m0\u001b[39m][\u001b[38;5;241m0\u001b[39m] \u001b[38;5;241m=\u001b[39m \u001b[38;5;124m\"\u001b[39m\u001b[38;5;124mshah\u001b[39m\u001b[38;5;124m\"\u001b[39m\n",
      "\u001b[1;31mNameError\u001b[0m: name 'new' is not defined"
     ]
    }
   ],
   "source": [
    "new[0][0] = \"shah\""
   ]
  },
  {
   "cell_type": "code",
   "execution_count": 60,
   "id": "af8b56fc-57b0-4a31-bdf9-1bddaff594a0",
   "metadata": {},
   "outputs": [
    {
     "data": {
      "text/plain": [
       "0    float64\n",
       "1    float64\n",
       "2    float64\n",
       "3    float64\n",
       "4    float64\n",
       "dtype: object"
      ]
     },
     "execution_count": 60,
     "metadata": {},
     "output_type": "execute_result"
    }
   ],
   "source": [
    "newdf.dtypes"
   ]
  },
  {
   "cell_type": "code",
   "execution_count": 62,
   "id": "168a68a4-f02e-4167-a427-942a16cd2973",
   "metadata": {},
   "outputs": [
    {
     "data": {
      "text/html": [
       "<div>\n",
       "<style scoped>\n",
       "    .dataframe tbody tr th:only-of-type {\n",
       "        vertical-align: middle;\n",
       "    }\n",
       "\n",
       "    .dataframe tbody tr th {\n",
       "        vertical-align: top;\n",
       "    }\n",
       "\n",
       "    .dataframe thead th {\n",
       "        text-align: right;\n",
       "    }\n",
       "</style>\n",
       "<table border=\"1\" class=\"dataframe\">\n",
       "  <thead>\n",
       "    <tr style=\"text-align: right;\">\n",
       "      <th></th>\n",
       "      <th>0</th>\n",
       "      <th>1</th>\n",
       "      <th>2</th>\n",
       "      <th>3</th>\n",
       "      <th>4</th>\n",
       "    </tr>\n",
       "  </thead>\n",
       "  <tbody>\n",
       "    <tr>\n",
       "      <th>0</th>\n",
       "      <td>0.282066</td>\n",
       "      <td>0.779639</td>\n",
       "      <td>0.559650</td>\n",
       "      <td>0.909436</td>\n",
       "      <td>0.717646</td>\n",
       "    </tr>\n",
       "    <tr>\n",
       "      <th>1</th>\n",
       "      <td>0.893185</td>\n",
       "      <td>0.702782</td>\n",
       "      <td>0.338949</td>\n",
       "      <td>0.131913</td>\n",
       "      <td>0.997212</td>\n",
       "    </tr>\n",
       "    <tr>\n",
       "      <th>2</th>\n",
       "      <td>0.501297</td>\n",
       "      <td>0.521812</td>\n",
       "      <td>0.096023</td>\n",
       "      <td>0.658269</td>\n",
       "      <td>0.042815</td>\n",
       "    </tr>\n",
       "    <tr>\n",
       "      <th>3</th>\n",
       "      <td>0.721650</td>\n",
       "      <td>0.393218</td>\n",
       "      <td>0.171786</td>\n",
       "      <td>0.463134</td>\n",
       "      <td>0.715370</td>\n",
       "    </tr>\n",
       "    <tr>\n",
       "      <th>4</th>\n",
       "      <td>0.448710</td>\n",
       "      <td>0.600996</td>\n",
       "      <td>0.188458</td>\n",
       "      <td>0.220085</td>\n",
       "      <td>0.110507</td>\n",
       "    </tr>\n",
       "  </tbody>\n",
       "</table>\n",
       "</div>"
      ],
      "text/plain": [
       "          0         1         2         3         4\n",
       "0  0.282066  0.779639  0.559650  0.909436  0.717646\n",
       "1  0.893185  0.702782  0.338949  0.131913  0.997212\n",
       "2  0.501297  0.521812  0.096023  0.658269  0.042815\n",
       "3  0.721650  0.393218  0.171786  0.463134  0.715370\n",
       "4  0.448710  0.600996  0.188458  0.220085  0.110507"
      ]
     },
     "execution_count": 62,
     "metadata": {},
     "output_type": "execute_result"
    }
   ],
   "source": [
    "newdf.head()"
   ]
  },
  {
   "cell_type": "code",
   "execution_count": 64,
   "id": "4ddc13de-22f7-492f-959d-8425e085a59f",
   "metadata": {},
   "outputs": [
    {
     "data": {
      "text/plain": [
       "Index([  0,   1,   2,   3,   4,   5,   6,   7,   8,   9,\n",
       "       ...\n",
       "       324, 325, 326, 327, 328, 329, 330, 331, 332, 333],\n",
       "      dtype='int32', length=334)"
      ]
     },
     "execution_count": 64,
     "metadata": {},
     "output_type": "execute_result"
    }
   ],
   "source": [
    "newdf.index"
   ]
  },
  {
   "cell_type": "code",
   "execution_count": 66,
   "id": "c1eea204-a94a-4eb8-8b8f-9cd974dac2de",
   "metadata": {},
   "outputs": [
    {
     "data": {
      "text/plain": [
       "RangeIndex(start=0, stop=5, step=1)"
      ]
     },
     "execution_count": 66,
     "metadata": {},
     "output_type": "execute_result"
    }
   ],
   "source": [
    "newdf.columns"
   ]
  },
  {
   "cell_type": "code",
   "execution_count": 68,
   "id": "1de8665e-1229-4ba3-a4dd-15bf4f24551e",
   "metadata": {},
   "outputs": [
    {
     "data": {
      "text/plain": [
       "array([[0.28206602, 0.77963853, 0.55965025, 0.90943567, 0.71764558],\n",
       "       [0.89318516, 0.70278151, 0.33894871, 0.13191271, 0.99721153],\n",
       "       [0.5012969 , 0.52181247, 0.09602303, 0.65826909, 0.04281528],\n",
       "       ...,\n",
       "       [0.95618424, 0.88781099, 0.99720775, 0.4388993 , 0.45182743],\n",
       "       [0.10348274, 0.76751058, 0.69358697, 0.41545368, 0.0543294 ],\n",
       "       [0.45011234, 0.04440934, 0.26189438, 0.64136795, 0.35296648]])"
      ]
     },
     "execution_count": 68,
     "metadata": {},
     "output_type": "execute_result"
    }
   ],
   "source": [
    "newdf.to_numpy()"
   ]
  },
  {
   "cell_type": "code",
   "execution_count": 70,
   "id": "7874af1e-b22f-499f-bad6-124b20ea958a",
   "metadata": {},
   "outputs": [
    {
     "name": "stderr",
     "output_type": "stream",
     "text": [
      "C:\\Users\\Shah\\AppData\\Local\\Temp\\ipykernel_6856\\4123818660.py:1: FutureWarning: ChainedAssignmentError: behaviour will change in pandas 3.0!\n",
      "You are setting values through chained assignment. Currently this works in certain cases, but when using Copy-on-Write (which will become the default behaviour in pandas 3.0) this will never work to update the original DataFrame or Series, because the intermediate object on which we are setting values will behave as a copy.\n",
      "A typical example is when you are setting values in a column of a DataFrame, like:\n",
      "\n",
      "df[\"col\"][row_indexer] = value\n",
      "\n",
      "Use `df.loc[row_indexer, \"col\"] = values` instead, to perform the assignment in a single step and ensure this keeps updating the original `df`.\n",
      "\n",
      "See the caveats in the documentation: https://pandas.pydata.org/pandas-docs/stable/user_guide/indexing.html#returning-a-view-versus-a-copy\n",
      "\n",
      "  newdf[0][0] = 0.5\n"
     ]
    }
   ],
   "source": [
    "newdf[0][0] = 0.5"
   ]
  },
  {
   "cell_type": "code",
   "execution_count": 72,
   "id": "0f1d9209-60c1-4f6f-9ef3-0f37c266e85c",
   "metadata": {},
   "outputs": [
    {
     "data": {
      "text/html": [
       "<div>\n",
       "<style scoped>\n",
       "    .dataframe tbody tr th:only-of-type {\n",
       "        vertical-align: middle;\n",
       "    }\n",
       "\n",
       "    .dataframe tbody tr th {\n",
       "        vertical-align: top;\n",
       "    }\n",
       "\n",
       "    .dataframe thead th {\n",
       "        text-align: right;\n",
       "    }\n",
       "</style>\n",
       "<table border=\"1\" class=\"dataframe\">\n",
       "  <thead>\n",
       "    <tr style=\"text-align: right;\">\n",
       "      <th></th>\n",
       "      <th>0</th>\n",
       "      <th>1</th>\n",
       "      <th>2</th>\n",
       "      <th>3</th>\n",
       "      <th>4</th>\n",
       "    </tr>\n",
       "  </thead>\n",
       "  <tbody>\n",
       "    <tr>\n",
       "      <th>0</th>\n",
       "      <td>0.500000</td>\n",
       "      <td>0.779639</td>\n",
       "      <td>0.559650</td>\n",
       "      <td>0.909436</td>\n",
       "      <td>0.717646</td>\n",
       "    </tr>\n",
       "    <tr>\n",
       "      <th>1</th>\n",
       "      <td>0.893185</td>\n",
       "      <td>0.702782</td>\n",
       "      <td>0.338949</td>\n",
       "      <td>0.131913</td>\n",
       "      <td>0.997212</td>\n",
       "    </tr>\n",
       "    <tr>\n",
       "      <th>2</th>\n",
       "      <td>0.501297</td>\n",
       "      <td>0.521812</td>\n",
       "      <td>0.096023</td>\n",
       "      <td>0.658269</td>\n",
       "      <td>0.042815</td>\n",
       "    </tr>\n",
       "    <tr>\n",
       "      <th>3</th>\n",
       "      <td>0.721650</td>\n",
       "      <td>0.393218</td>\n",
       "      <td>0.171786</td>\n",
       "      <td>0.463134</td>\n",
       "      <td>0.715370</td>\n",
       "    </tr>\n",
       "    <tr>\n",
       "      <th>4</th>\n",
       "      <td>0.448710</td>\n",
       "      <td>0.600996</td>\n",
       "      <td>0.188458</td>\n",
       "      <td>0.220085</td>\n",
       "      <td>0.110507</td>\n",
       "    </tr>\n",
       "  </tbody>\n",
       "</table>\n",
       "</div>"
      ],
      "text/plain": [
       "          0         1         2         3         4\n",
       "0  0.500000  0.779639  0.559650  0.909436  0.717646\n",
       "1  0.893185  0.702782  0.338949  0.131913  0.997212\n",
       "2  0.501297  0.521812  0.096023  0.658269  0.042815\n",
       "3  0.721650  0.393218  0.171786  0.463134  0.715370\n",
       "4  0.448710  0.600996  0.188458  0.220085  0.110507"
      ]
     },
     "execution_count": 72,
     "metadata": {},
     "output_type": "execute_result"
    }
   ],
   "source": [
    "newdf.head()"
   ]
  },
  {
   "cell_type": "code",
   "execution_count": 74,
   "id": "b32f8079-0c3b-4ead-a600-a3259a8c8703",
   "metadata": {},
   "outputs": [
    {
     "data": {
      "text/html": [
       "<div>\n",
       "<style scoped>\n",
       "    .dataframe tbody tr th:only-of-type {\n",
       "        vertical-align: middle;\n",
       "    }\n",
       "\n",
       "    .dataframe tbody tr th {\n",
       "        vertical-align: top;\n",
       "    }\n",
       "\n",
       "    .dataframe thead th {\n",
       "        text-align: right;\n",
       "    }\n",
       "</style>\n",
       "<table border=\"1\" class=\"dataframe\">\n",
       "  <thead>\n",
       "    <tr style=\"text-align: right;\">\n",
       "      <th></th>\n",
       "      <th>0</th>\n",
       "      <th>1</th>\n",
       "      <th>2</th>\n",
       "      <th>3</th>\n",
       "      <th>4</th>\n",
       "      <th>5</th>\n",
       "      <th>6</th>\n",
       "      <th>7</th>\n",
       "      <th>8</th>\n",
       "      <th>9</th>\n",
       "      <th>...</th>\n",
       "      <th>324</th>\n",
       "      <th>325</th>\n",
       "      <th>326</th>\n",
       "      <th>327</th>\n",
       "      <th>328</th>\n",
       "      <th>329</th>\n",
       "      <th>330</th>\n",
       "      <th>331</th>\n",
       "      <th>332</th>\n",
       "      <th>333</th>\n",
       "    </tr>\n",
       "  </thead>\n",
       "  <tbody>\n",
       "    <tr>\n",
       "      <th>0</th>\n",
       "      <td>0.500000</td>\n",
       "      <td>0.893185</td>\n",
       "      <td>0.501297</td>\n",
       "      <td>0.721650</td>\n",
       "      <td>0.448710</td>\n",
       "      <td>0.697741</td>\n",
       "      <td>0.414610</td>\n",
       "      <td>0.360968</td>\n",
       "      <td>0.492622</td>\n",
       "      <td>0.949275</td>\n",
       "      <td>...</td>\n",
       "      <td>0.833024</td>\n",
       "      <td>0.856659</td>\n",
       "      <td>0.980325</td>\n",
       "      <td>0.314258</td>\n",
       "      <td>0.044837</td>\n",
       "      <td>0.287965</td>\n",
       "      <td>0.130640</td>\n",
       "      <td>0.956184</td>\n",
       "      <td>0.103483</td>\n",
       "      <td>0.450112</td>\n",
       "    </tr>\n",
       "    <tr>\n",
       "      <th>1</th>\n",
       "      <td>0.779639</td>\n",
       "      <td>0.702782</td>\n",
       "      <td>0.521812</td>\n",
       "      <td>0.393218</td>\n",
       "      <td>0.600996</td>\n",
       "      <td>0.175737</td>\n",
       "      <td>0.445912</td>\n",
       "      <td>0.118800</td>\n",
       "      <td>0.842760</td>\n",
       "      <td>0.486864</td>\n",
       "      <td>...</td>\n",
       "      <td>0.076437</td>\n",
       "      <td>0.608289</td>\n",
       "      <td>0.386723</td>\n",
       "      <td>0.731625</td>\n",
       "      <td>0.412760</td>\n",
       "      <td>0.835604</td>\n",
       "      <td>0.475514</td>\n",
       "      <td>0.887811</td>\n",
       "      <td>0.767511</td>\n",
       "      <td>0.044409</td>\n",
       "    </tr>\n",
       "    <tr>\n",
       "      <th>2</th>\n",
       "      <td>0.559650</td>\n",
       "      <td>0.338949</td>\n",
       "      <td>0.096023</td>\n",
       "      <td>0.171786</td>\n",
       "      <td>0.188458</td>\n",
       "      <td>0.959889</td>\n",
       "      <td>0.741110</td>\n",
       "      <td>0.212658</td>\n",
       "      <td>0.999334</td>\n",
       "      <td>0.190196</td>\n",
       "      <td>...</td>\n",
       "      <td>0.945817</td>\n",
       "      <td>0.383159</td>\n",
       "      <td>0.118408</td>\n",
       "      <td>0.620434</td>\n",
       "      <td>0.032135</td>\n",
       "      <td>0.928888</td>\n",
       "      <td>0.179453</td>\n",
       "      <td>0.997208</td>\n",
       "      <td>0.693587</td>\n",
       "      <td>0.261894</td>\n",
       "    </tr>\n",
       "    <tr>\n",
       "      <th>3</th>\n",
       "      <td>0.909436</td>\n",
       "      <td>0.131913</td>\n",
       "      <td>0.658269</td>\n",
       "      <td>0.463134</td>\n",
       "      <td>0.220085</td>\n",
       "      <td>0.914644</td>\n",
       "      <td>0.363152</td>\n",
       "      <td>0.659900</td>\n",
       "      <td>0.970884</td>\n",
       "      <td>0.270317</td>\n",
       "      <td>...</td>\n",
       "      <td>0.041860</td>\n",
       "      <td>0.117469</td>\n",
       "      <td>0.228595</td>\n",
       "      <td>0.100592</td>\n",
       "      <td>0.291574</td>\n",
       "      <td>0.130187</td>\n",
       "      <td>0.412287</td>\n",
       "      <td>0.438899</td>\n",
       "      <td>0.415454</td>\n",
       "      <td>0.641368</td>\n",
       "    </tr>\n",
       "    <tr>\n",
       "      <th>4</th>\n",
       "      <td>0.717646</td>\n",
       "      <td>0.997212</td>\n",
       "      <td>0.042815</td>\n",
       "      <td>0.715370</td>\n",
       "      <td>0.110507</td>\n",
       "      <td>0.687463</td>\n",
       "      <td>0.240107</td>\n",
       "      <td>0.086986</td>\n",
       "      <td>0.415728</td>\n",
       "      <td>0.708951</td>\n",
       "      <td>...</td>\n",
       "      <td>0.541469</td>\n",
       "      <td>0.591788</td>\n",
       "      <td>0.832052</td>\n",
       "      <td>0.298574</td>\n",
       "      <td>0.873793</td>\n",
       "      <td>0.341904</td>\n",
       "      <td>0.324832</td>\n",
       "      <td>0.451827</td>\n",
       "      <td>0.054329</td>\n",
       "      <td>0.352966</td>\n",
       "    </tr>\n",
       "  </tbody>\n",
       "</table>\n",
       "<p>5 rows × 334 columns</p>\n",
       "</div>"
      ],
      "text/plain": [
       "        0         1         2         3         4         5         6    \\\n",
       "0  0.500000  0.893185  0.501297  0.721650  0.448710  0.697741  0.414610   \n",
       "1  0.779639  0.702782  0.521812  0.393218  0.600996  0.175737  0.445912   \n",
       "2  0.559650  0.338949  0.096023  0.171786  0.188458  0.959889  0.741110   \n",
       "3  0.909436  0.131913  0.658269  0.463134  0.220085  0.914644  0.363152   \n",
       "4  0.717646  0.997212  0.042815  0.715370  0.110507  0.687463  0.240107   \n",
       "\n",
       "        7         8         9    ...       324       325       326       327  \\\n",
       "0  0.360968  0.492622  0.949275  ...  0.833024  0.856659  0.980325  0.314258   \n",
       "1  0.118800  0.842760  0.486864  ...  0.076437  0.608289  0.386723  0.731625   \n",
       "2  0.212658  0.999334  0.190196  ...  0.945817  0.383159  0.118408  0.620434   \n",
       "3  0.659900  0.970884  0.270317  ...  0.041860  0.117469  0.228595  0.100592   \n",
       "4  0.086986  0.415728  0.708951  ...  0.541469  0.591788  0.832052  0.298574   \n",
       "\n",
       "        328       329       330       331       332       333  \n",
       "0  0.044837  0.287965  0.130640  0.956184  0.103483  0.450112  \n",
       "1  0.412760  0.835604  0.475514  0.887811  0.767511  0.044409  \n",
       "2  0.032135  0.928888  0.179453  0.997208  0.693587  0.261894  \n",
       "3  0.291574  0.130187  0.412287  0.438899  0.415454  0.641368  \n",
       "4  0.873793  0.341904  0.324832  0.451827  0.054329  0.352966  \n",
       "\n",
       "[5 rows x 334 columns]"
      ]
     },
     "execution_count": 74,
     "metadata": {},
     "output_type": "execute_result"
    }
   ],
   "source": [
    "newdf.T"
   ]
  },
  {
   "cell_type": "code",
   "execution_count": 76,
   "id": "02c3c4fe-8226-4685-9843-63c2e4d40f0e",
   "metadata": {},
   "outputs": [
    {
     "data": {
      "text/html": [
       "<div>\n",
       "<style scoped>\n",
       "    .dataframe tbody tr th:only-of-type {\n",
       "        vertical-align: middle;\n",
       "    }\n",
       "\n",
       "    .dataframe tbody tr th {\n",
       "        vertical-align: top;\n",
       "    }\n",
       "\n",
       "    .dataframe thead th {\n",
       "        text-align: right;\n",
       "    }\n",
       "</style>\n",
       "<table border=\"1\" class=\"dataframe\">\n",
       "  <thead>\n",
       "    <tr style=\"text-align: right;\">\n",
       "      <th></th>\n",
       "      <th>0</th>\n",
       "      <th>1</th>\n",
       "      <th>2</th>\n",
       "      <th>3</th>\n",
       "      <th>4</th>\n",
       "    </tr>\n",
       "  </thead>\n",
       "  <tbody>\n",
       "    <tr>\n",
       "      <th>0</th>\n",
       "      <td>0.500000</td>\n",
       "      <td>0.779639</td>\n",
       "      <td>0.559650</td>\n",
       "      <td>0.909436</td>\n",
       "      <td>0.717646</td>\n",
       "    </tr>\n",
       "    <tr>\n",
       "      <th>1</th>\n",
       "      <td>0.893185</td>\n",
       "      <td>0.702782</td>\n",
       "      <td>0.338949</td>\n",
       "      <td>0.131913</td>\n",
       "      <td>0.997212</td>\n",
       "    </tr>\n",
       "    <tr>\n",
       "      <th>2</th>\n",
       "      <td>0.501297</td>\n",
       "      <td>0.521812</td>\n",
       "      <td>0.096023</td>\n",
       "      <td>0.658269</td>\n",
       "      <td>0.042815</td>\n",
       "    </tr>\n",
       "    <tr>\n",
       "      <th>3</th>\n",
       "      <td>0.721650</td>\n",
       "      <td>0.393218</td>\n",
       "      <td>0.171786</td>\n",
       "      <td>0.463134</td>\n",
       "      <td>0.715370</td>\n",
       "    </tr>\n",
       "    <tr>\n",
       "      <th>4</th>\n",
       "      <td>0.448710</td>\n",
       "      <td>0.600996</td>\n",
       "      <td>0.188458</td>\n",
       "      <td>0.220085</td>\n",
       "      <td>0.110507</td>\n",
       "    </tr>\n",
       "  </tbody>\n",
       "</table>\n",
       "</div>"
      ],
      "text/plain": [
       "          0         1         2         3         4\n",
       "0  0.500000  0.779639  0.559650  0.909436  0.717646\n",
       "1  0.893185  0.702782  0.338949  0.131913  0.997212\n",
       "2  0.501297  0.521812  0.096023  0.658269  0.042815\n",
       "3  0.721650  0.393218  0.171786  0.463134  0.715370\n",
       "4  0.448710  0.600996  0.188458  0.220085  0.110507"
      ]
     },
     "execution_count": 76,
     "metadata": {},
     "output_type": "execute_result"
    }
   ],
   "source": [
    "newdf.head()"
   ]
  },
  {
   "cell_type": "code",
   "execution_count": 78,
   "id": "973deb05-bd79-4ac5-82f3-6f6cf0760d5d",
   "metadata": {},
   "outputs": [
    {
     "data": {
      "text/html": [
       "<div>\n",
       "<style scoped>\n",
       "    .dataframe tbody tr th:only-of-type {\n",
       "        vertical-align: middle;\n",
       "    }\n",
       "\n",
       "    .dataframe tbody tr th {\n",
       "        vertical-align: top;\n",
       "    }\n",
       "\n",
       "    .dataframe thead th {\n",
       "        text-align: right;\n",
       "    }\n",
       "</style>\n",
       "<table border=\"1\" class=\"dataframe\">\n",
       "  <thead>\n",
       "    <tr style=\"text-align: right;\">\n",
       "      <th></th>\n",
       "      <th>4</th>\n",
       "      <th>3</th>\n",
       "      <th>2</th>\n",
       "      <th>1</th>\n",
       "      <th>0</th>\n",
       "    </tr>\n",
       "  </thead>\n",
       "  <tbody>\n",
       "    <tr>\n",
       "      <th>0</th>\n",
       "      <td>0.717646</td>\n",
       "      <td>0.909436</td>\n",
       "      <td>0.559650</td>\n",
       "      <td>0.779639</td>\n",
       "      <td>0.500000</td>\n",
       "    </tr>\n",
       "    <tr>\n",
       "      <th>1</th>\n",
       "      <td>0.997212</td>\n",
       "      <td>0.131913</td>\n",
       "      <td>0.338949</td>\n",
       "      <td>0.702782</td>\n",
       "      <td>0.893185</td>\n",
       "    </tr>\n",
       "    <tr>\n",
       "      <th>2</th>\n",
       "      <td>0.042815</td>\n",
       "      <td>0.658269</td>\n",
       "      <td>0.096023</td>\n",
       "      <td>0.521812</td>\n",
       "      <td>0.501297</td>\n",
       "    </tr>\n",
       "    <tr>\n",
       "      <th>3</th>\n",
       "      <td>0.715370</td>\n",
       "      <td>0.463134</td>\n",
       "      <td>0.171786</td>\n",
       "      <td>0.393218</td>\n",
       "      <td>0.721650</td>\n",
       "    </tr>\n",
       "    <tr>\n",
       "      <th>4</th>\n",
       "      <td>0.110507</td>\n",
       "      <td>0.220085</td>\n",
       "      <td>0.188458</td>\n",
       "      <td>0.600996</td>\n",
       "      <td>0.448710</td>\n",
       "    </tr>\n",
       "    <tr>\n",
       "      <th>...</th>\n",
       "      <td>...</td>\n",
       "      <td>...</td>\n",
       "      <td>...</td>\n",
       "      <td>...</td>\n",
       "      <td>...</td>\n",
       "    </tr>\n",
       "    <tr>\n",
       "      <th>329</th>\n",
       "      <td>0.341904</td>\n",
       "      <td>0.130187</td>\n",
       "      <td>0.928888</td>\n",
       "      <td>0.835604</td>\n",
       "      <td>0.287965</td>\n",
       "    </tr>\n",
       "    <tr>\n",
       "      <th>330</th>\n",
       "      <td>0.324832</td>\n",
       "      <td>0.412287</td>\n",
       "      <td>0.179453</td>\n",
       "      <td>0.475514</td>\n",
       "      <td>0.130640</td>\n",
       "    </tr>\n",
       "    <tr>\n",
       "      <th>331</th>\n",
       "      <td>0.451827</td>\n",
       "      <td>0.438899</td>\n",
       "      <td>0.997208</td>\n",
       "      <td>0.887811</td>\n",
       "      <td>0.956184</td>\n",
       "    </tr>\n",
       "    <tr>\n",
       "      <th>332</th>\n",
       "      <td>0.054329</td>\n",
       "      <td>0.415454</td>\n",
       "      <td>0.693587</td>\n",
       "      <td>0.767511</td>\n",
       "      <td>0.103483</td>\n",
       "    </tr>\n",
       "    <tr>\n",
       "      <th>333</th>\n",
       "      <td>0.352966</td>\n",
       "      <td>0.641368</td>\n",
       "      <td>0.261894</td>\n",
       "      <td>0.044409</td>\n",
       "      <td>0.450112</td>\n",
       "    </tr>\n",
       "  </tbody>\n",
       "</table>\n",
       "<p>334 rows × 5 columns</p>\n",
       "</div>"
      ],
      "text/plain": [
       "            4         3         2         1         0\n",
       "0    0.717646  0.909436  0.559650  0.779639  0.500000\n",
       "1    0.997212  0.131913  0.338949  0.702782  0.893185\n",
       "2    0.042815  0.658269  0.096023  0.521812  0.501297\n",
       "3    0.715370  0.463134  0.171786  0.393218  0.721650\n",
       "4    0.110507  0.220085  0.188458  0.600996  0.448710\n",
       "..        ...       ...       ...       ...       ...\n",
       "329  0.341904  0.130187  0.928888  0.835604  0.287965\n",
       "330  0.324832  0.412287  0.179453  0.475514  0.130640\n",
       "331  0.451827  0.438899  0.997208  0.887811  0.956184\n",
       "332  0.054329  0.415454  0.693587  0.767511  0.103483\n",
       "333  0.352966  0.641368  0.261894  0.044409  0.450112\n",
       "\n",
       "[334 rows x 5 columns]"
      ]
     },
     "execution_count": 78,
     "metadata": {},
     "output_type": "execute_result"
    }
   ],
   "source": [
    "newdf.sort_index(axis=1, ascending=False)"
   ]
  },
  {
   "cell_type": "code",
   "execution_count": 80,
   "id": "d0eca2b9-198b-48ce-b423-82765183c713",
   "metadata": {},
   "outputs": [
    {
     "data": {
      "text/html": [
       "<div>\n",
       "<style scoped>\n",
       "    .dataframe tbody tr th:only-of-type {\n",
       "        vertical-align: middle;\n",
       "    }\n",
       "\n",
       "    .dataframe tbody tr th {\n",
       "        vertical-align: top;\n",
       "    }\n",
       "\n",
       "    .dataframe thead th {\n",
       "        text-align: right;\n",
       "    }\n",
       "</style>\n",
       "<table border=\"1\" class=\"dataframe\">\n",
       "  <thead>\n",
       "    <tr style=\"text-align: right;\">\n",
       "      <th></th>\n",
       "      <th>0</th>\n",
       "      <th>1</th>\n",
       "      <th>2</th>\n",
       "      <th>3</th>\n",
       "      <th>4</th>\n",
       "    </tr>\n",
       "  </thead>\n",
       "  <tbody>\n",
       "    <tr>\n",
       "      <th>0</th>\n",
       "      <td>0.500000</td>\n",
       "      <td>0.779639</td>\n",
       "      <td>0.559650</td>\n",
       "      <td>0.909436</td>\n",
       "      <td>0.717646</td>\n",
       "    </tr>\n",
       "    <tr>\n",
       "      <th>1</th>\n",
       "      <td>0.893185</td>\n",
       "      <td>0.702782</td>\n",
       "      <td>0.338949</td>\n",
       "      <td>0.131913</td>\n",
       "      <td>0.997212</td>\n",
       "    </tr>\n",
       "    <tr>\n",
       "      <th>2</th>\n",
       "      <td>0.501297</td>\n",
       "      <td>0.521812</td>\n",
       "      <td>0.096023</td>\n",
       "      <td>0.658269</td>\n",
       "      <td>0.042815</td>\n",
       "    </tr>\n",
       "    <tr>\n",
       "      <th>3</th>\n",
       "      <td>0.721650</td>\n",
       "      <td>0.393218</td>\n",
       "      <td>0.171786</td>\n",
       "      <td>0.463134</td>\n",
       "      <td>0.715370</td>\n",
       "    </tr>\n",
       "    <tr>\n",
       "      <th>4</th>\n",
       "      <td>0.448710</td>\n",
       "      <td>0.600996</td>\n",
       "      <td>0.188458</td>\n",
       "      <td>0.220085</td>\n",
       "      <td>0.110507</td>\n",
       "    </tr>\n",
       "  </tbody>\n",
       "</table>\n",
       "</div>"
      ],
      "text/plain": [
       "          0         1         2         3         4\n",
       "0  0.500000  0.779639  0.559650  0.909436  0.717646\n",
       "1  0.893185  0.702782  0.338949  0.131913  0.997212\n",
       "2  0.501297  0.521812  0.096023  0.658269  0.042815\n",
       "3  0.721650  0.393218  0.171786  0.463134  0.715370\n",
       "4  0.448710  0.600996  0.188458  0.220085  0.110507"
      ]
     },
     "execution_count": 80,
     "metadata": {},
     "output_type": "execute_result"
    }
   ],
   "source": [
    "newdf.head()"
   ]
  },
  {
   "cell_type": "code",
   "execution_count": 82,
   "id": "625f2789-153e-4169-95ea-8b0102c7a0a8",
   "metadata": {},
   "outputs": [
    {
     "data": {
      "text/plain": [
       "pandas.core.series.Series"
      ]
     },
     "execution_count": 82,
     "metadata": {},
     "output_type": "execute_result"
    }
   ],
   "source": [
    "type(newdf[0])"
   ]
  },
  {
   "cell_type": "code",
   "execution_count": 84,
   "id": "c9ada8cf-ca76-427d-b02f-80297d004dc3",
   "metadata": {},
   "outputs": [],
   "source": [
    "newdf2 =newdf.copy()"
   ]
  },
  {
   "cell_type": "code",
   "execution_count": 86,
   "id": "6d901674-5e15-48e0-9be5-5c1a08ecaac4",
   "metadata": {},
   "outputs": [
    {
     "name": "stderr",
     "output_type": "stream",
     "text": [
      "C:\\Users\\Shah\\AppData\\Local\\Temp\\ipykernel_6856\\570901836.py:1: FutureWarning: ChainedAssignmentError: behaviour will change in pandas 3.0!\n",
      "You are setting values through chained assignment. Currently this works in certain cases, but when using Copy-on-Write (which will become the default behaviour in pandas 3.0) this will never work to update the original DataFrame or Series, because the intermediate object on which we are setting values will behave as a copy.\n",
      "A typical example is when you are setting values in a column of a DataFrame, like:\n",
      "\n",
      "df[\"col\"][row_indexer] = value\n",
      "\n",
      "Use `df.loc[row_indexer, \"col\"] = values` instead, to perform the assignment in a single step and ensure this keeps updating the original `df`.\n",
      "\n",
      "See the caveats in the documentation: https://pandas.pydata.org/pandas-docs/stable/user_guide/indexing.html#returning-a-view-versus-a-copy\n",
      "\n",
      "  newdf2[0][0] = 9785\n"
     ]
    }
   ],
   "source": [
    "newdf2[0][0] = 9785"
   ]
  },
  {
   "cell_type": "code",
   "execution_count": 88,
   "id": "f09b156a-8260-4b95-b9d8-93514b0fca1c",
   "metadata": {},
   "outputs": [
    {
     "data": {
      "text/html": [
       "<div>\n",
       "<style scoped>\n",
       "    .dataframe tbody tr th:only-of-type {\n",
       "        vertical-align: middle;\n",
       "    }\n",
       "\n",
       "    .dataframe tbody tr th {\n",
       "        vertical-align: top;\n",
       "    }\n",
       "\n",
       "    .dataframe thead th {\n",
       "        text-align: right;\n",
       "    }\n",
       "</style>\n",
       "<table border=\"1\" class=\"dataframe\">\n",
       "  <thead>\n",
       "    <tr style=\"text-align: right;\">\n",
       "      <th></th>\n",
       "      <th>0</th>\n",
       "      <th>1</th>\n",
       "      <th>2</th>\n",
       "      <th>3</th>\n",
       "      <th>4</th>\n",
       "    </tr>\n",
       "  </thead>\n",
       "  <tbody>\n",
       "    <tr>\n",
       "      <th>0</th>\n",
       "      <td>0.500000</td>\n",
       "      <td>0.779639</td>\n",
       "      <td>0.559650</td>\n",
       "      <td>0.909436</td>\n",
       "      <td>0.717646</td>\n",
       "    </tr>\n",
       "    <tr>\n",
       "      <th>1</th>\n",
       "      <td>0.893185</td>\n",
       "      <td>0.702782</td>\n",
       "      <td>0.338949</td>\n",
       "      <td>0.131913</td>\n",
       "      <td>0.997212</td>\n",
       "    </tr>\n",
       "    <tr>\n",
       "      <th>2</th>\n",
       "      <td>0.501297</td>\n",
       "      <td>0.521812</td>\n",
       "      <td>0.096023</td>\n",
       "      <td>0.658269</td>\n",
       "      <td>0.042815</td>\n",
       "    </tr>\n",
       "    <tr>\n",
       "      <th>3</th>\n",
       "      <td>0.721650</td>\n",
       "      <td>0.393218</td>\n",
       "      <td>0.171786</td>\n",
       "      <td>0.463134</td>\n",
       "      <td>0.715370</td>\n",
       "    </tr>\n",
       "    <tr>\n",
       "      <th>4</th>\n",
       "      <td>0.448710</td>\n",
       "      <td>0.600996</td>\n",
       "      <td>0.188458</td>\n",
       "      <td>0.220085</td>\n",
       "      <td>0.110507</td>\n",
       "    </tr>\n",
       "    <tr>\n",
       "      <th>...</th>\n",
       "      <td>...</td>\n",
       "      <td>...</td>\n",
       "      <td>...</td>\n",
       "      <td>...</td>\n",
       "      <td>...</td>\n",
       "    </tr>\n",
       "    <tr>\n",
       "      <th>329</th>\n",
       "      <td>0.287965</td>\n",
       "      <td>0.835604</td>\n",
       "      <td>0.928888</td>\n",
       "      <td>0.130187</td>\n",
       "      <td>0.341904</td>\n",
       "    </tr>\n",
       "    <tr>\n",
       "      <th>330</th>\n",
       "      <td>0.130640</td>\n",
       "      <td>0.475514</td>\n",
       "      <td>0.179453</td>\n",
       "      <td>0.412287</td>\n",
       "      <td>0.324832</td>\n",
       "    </tr>\n",
       "    <tr>\n",
       "      <th>331</th>\n",
       "      <td>0.956184</td>\n",
       "      <td>0.887811</td>\n",
       "      <td>0.997208</td>\n",
       "      <td>0.438899</td>\n",
       "      <td>0.451827</td>\n",
       "    </tr>\n",
       "    <tr>\n",
       "      <th>332</th>\n",
       "      <td>0.103483</td>\n",
       "      <td>0.767511</td>\n",
       "      <td>0.693587</td>\n",
       "      <td>0.415454</td>\n",
       "      <td>0.054329</td>\n",
       "    </tr>\n",
       "    <tr>\n",
       "      <th>333</th>\n",
       "      <td>0.450112</td>\n",
       "      <td>0.044409</td>\n",
       "      <td>0.261894</td>\n",
       "      <td>0.641368</td>\n",
       "      <td>0.352966</td>\n",
       "    </tr>\n",
       "  </tbody>\n",
       "</table>\n",
       "<p>334 rows × 5 columns</p>\n",
       "</div>"
      ],
      "text/plain": [
       "            0         1         2         3         4\n",
       "0    0.500000  0.779639  0.559650  0.909436  0.717646\n",
       "1    0.893185  0.702782  0.338949  0.131913  0.997212\n",
       "2    0.501297  0.521812  0.096023  0.658269  0.042815\n",
       "3    0.721650  0.393218  0.171786  0.463134  0.715370\n",
       "4    0.448710  0.600996  0.188458  0.220085  0.110507\n",
       "..        ...       ...       ...       ...       ...\n",
       "329  0.287965  0.835604  0.928888  0.130187  0.341904\n",
       "330  0.130640  0.475514  0.179453  0.412287  0.324832\n",
       "331  0.956184  0.887811  0.997208  0.438899  0.451827\n",
       "332  0.103483  0.767511  0.693587  0.415454  0.054329\n",
       "333  0.450112  0.044409  0.261894  0.641368  0.352966\n",
       "\n",
       "[334 rows x 5 columns]"
      ]
     },
     "execution_count": 88,
     "metadata": {},
     "output_type": "execute_result"
    }
   ],
   "source": [
    "newdf"
   ]
  },
  {
   "cell_type": "code",
   "execution_count": 90,
   "id": "e89b4e07-f80c-4572-aa4c-762e68e270e0",
   "metadata": {},
   "outputs": [],
   "source": [
    "newdf.loc[0,0] = 654"
   ]
  },
  {
   "cell_type": "code",
   "execution_count": 92,
   "id": "fa7a5208-4332-4d65-bf76-ba793e11944b",
   "metadata": {},
   "outputs": [
    {
     "data": {
      "text/html": [
       "<div>\n",
       "<style scoped>\n",
       "    .dataframe tbody tr th:only-of-type {\n",
       "        vertical-align: middle;\n",
       "    }\n",
       "\n",
       "    .dataframe tbody tr th {\n",
       "        vertical-align: top;\n",
       "    }\n",
       "\n",
       "    .dataframe thead th {\n",
       "        text-align: right;\n",
       "    }\n",
       "</style>\n",
       "<table border=\"1\" class=\"dataframe\">\n",
       "  <thead>\n",
       "    <tr style=\"text-align: right;\">\n",
       "      <th></th>\n",
       "      <th>0</th>\n",
       "      <th>1</th>\n",
       "      <th>2</th>\n",
       "      <th>3</th>\n",
       "      <th>4</th>\n",
       "    </tr>\n",
       "  </thead>\n",
       "  <tbody>\n",
       "    <tr>\n",
       "      <th>0</th>\n",
       "      <td>654.000000</td>\n",
       "      <td>0.779639</td>\n",
       "      <td>0.559650</td>\n",
       "      <td>0.909436</td>\n",
       "      <td>0.717646</td>\n",
       "    </tr>\n",
       "    <tr>\n",
       "      <th>1</th>\n",
       "      <td>0.893185</td>\n",
       "      <td>0.702782</td>\n",
       "      <td>0.338949</td>\n",
       "      <td>0.131913</td>\n",
       "      <td>0.997212</td>\n",
       "    </tr>\n",
       "  </tbody>\n",
       "</table>\n",
       "</div>"
      ],
      "text/plain": [
       "            0         1         2         3         4\n",
       "0  654.000000  0.779639  0.559650  0.909436  0.717646\n",
       "1    0.893185  0.702782  0.338949  0.131913  0.997212"
      ]
     },
     "execution_count": 92,
     "metadata": {},
     "output_type": "execute_result"
    }
   ],
   "source": [
    "newdf.head(2)"
   ]
  },
  {
   "cell_type": "code",
   "execution_count": 94,
   "id": "24b99a62-a0ee-470e-901e-dd7df103d4e2",
   "metadata": {},
   "outputs": [],
   "source": [
    "newdf.columns = list(\"ABCDE\")"
   ]
  },
  {
   "cell_type": "code",
   "execution_count": 96,
   "id": "3ca4d80a-4541-4eee-8c4a-e87510dc04e8",
   "metadata": {},
   "outputs": [
    {
     "data": {
      "text/html": [
       "<div>\n",
       "<style scoped>\n",
       "    .dataframe tbody tr th:only-of-type {\n",
       "        vertical-align: middle;\n",
       "    }\n",
       "\n",
       "    .dataframe tbody tr th {\n",
       "        vertical-align: top;\n",
       "    }\n",
       "\n",
       "    .dataframe thead th {\n",
       "        text-align: right;\n",
       "    }\n",
       "</style>\n",
       "<table border=\"1\" class=\"dataframe\">\n",
       "  <thead>\n",
       "    <tr style=\"text-align: right;\">\n",
       "      <th></th>\n",
       "      <th>A</th>\n",
       "      <th>B</th>\n",
       "      <th>C</th>\n",
       "      <th>D</th>\n",
       "      <th>E</th>\n",
       "    </tr>\n",
       "  </thead>\n",
       "  <tbody>\n",
       "    <tr>\n",
       "      <th>0</th>\n",
       "      <td>654.000000</td>\n",
       "      <td>0.779639</td>\n",
       "      <td>0.559650</td>\n",
       "      <td>0.909436</td>\n",
       "      <td>0.717646</td>\n",
       "    </tr>\n",
       "    <tr>\n",
       "      <th>1</th>\n",
       "      <td>0.893185</td>\n",
       "      <td>0.702782</td>\n",
       "      <td>0.338949</td>\n",
       "      <td>0.131913</td>\n",
       "      <td>0.997212</td>\n",
       "    </tr>\n",
       "    <tr>\n",
       "      <th>2</th>\n",
       "      <td>0.501297</td>\n",
       "      <td>0.521812</td>\n",
       "      <td>0.096023</td>\n",
       "      <td>0.658269</td>\n",
       "      <td>0.042815</td>\n",
       "    </tr>\n",
       "    <tr>\n",
       "      <th>3</th>\n",
       "      <td>0.721650</td>\n",
       "      <td>0.393218</td>\n",
       "      <td>0.171786</td>\n",
       "      <td>0.463134</td>\n",
       "      <td>0.715370</td>\n",
       "    </tr>\n",
       "    <tr>\n",
       "      <th>4</th>\n",
       "      <td>0.448710</td>\n",
       "      <td>0.600996</td>\n",
       "      <td>0.188458</td>\n",
       "      <td>0.220085</td>\n",
       "      <td>0.110507</td>\n",
       "    </tr>\n",
       "    <tr>\n",
       "      <th>...</th>\n",
       "      <td>...</td>\n",
       "      <td>...</td>\n",
       "      <td>...</td>\n",
       "      <td>...</td>\n",
       "      <td>...</td>\n",
       "    </tr>\n",
       "    <tr>\n",
       "      <th>329</th>\n",
       "      <td>0.287965</td>\n",
       "      <td>0.835604</td>\n",
       "      <td>0.928888</td>\n",
       "      <td>0.130187</td>\n",
       "      <td>0.341904</td>\n",
       "    </tr>\n",
       "    <tr>\n",
       "      <th>330</th>\n",
       "      <td>0.130640</td>\n",
       "      <td>0.475514</td>\n",
       "      <td>0.179453</td>\n",
       "      <td>0.412287</td>\n",
       "      <td>0.324832</td>\n",
       "    </tr>\n",
       "    <tr>\n",
       "      <th>331</th>\n",
       "      <td>0.956184</td>\n",
       "      <td>0.887811</td>\n",
       "      <td>0.997208</td>\n",
       "      <td>0.438899</td>\n",
       "      <td>0.451827</td>\n",
       "    </tr>\n",
       "    <tr>\n",
       "      <th>332</th>\n",
       "      <td>0.103483</td>\n",
       "      <td>0.767511</td>\n",
       "      <td>0.693587</td>\n",
       "      <td>0.415454</td>\n",
       "      <td>0.054329</td>\n",
       "    </tr>\n",
       "    <tr>\n",
       "      <th>333</th>\n",
       "      <td>0.450112</td>\n",
       "      <td>0.044409</td>\n",
       "      <td>0.261894</td>\n",
       "      <td>0.641368</td>\n",
       "      <td>0.352966</td>\n",
       "    </tr>\n",
       "  </tbody>\n",
       "</table>\n",
       "<p>334 rows × 5 columns</p>\n",
       "</div>"
      ],
      "text/plain": [
       "              A         B         C         D         E\n",
       "0    654.000000  0.779639  0.559650  0.909436  0.717646\n",
       "1      0.893185  0.702782  0.338949  0.131913  0.997212\n",
       "2      0.501297  0.521812  0.096023  0.658269  0.042815\n",
       "3      0.721650  0.393218  0.171786  0.463134  0.715370\n",
       "4      0.448710  0.600996  0.188458  0.220085  0.110507\n",
       "..          ...       ...       ...       ...       ...\n",
       "329    0.287965  0.835604  0.928888  0.130187  0.341904\n",
       "330    0.130640  0.475514  0.179453  0.412287  0.324832\n",
       "331    0.956184  0.887811  0.997208  0.438899  0.451827\n",
       "332    0.103483  0.767511  0.693587  0.415454  0.054329\n",
       "333    0.450112  0.044409  0.261894  0.641368  0.352966\n",
       "\n",
       "[334 rows x 5 columns]"
      ]
     },
     "execution_count": 96,
     "metadata": {},
     "output_type": "execute_result"
    }
   ],
   "source": [
    "newdf"
   ]
  },
  {
   "cell_type": "code",
   "execution_count": 98,
   "id": "2c3ede3d-7484-44b5-a116-975a58ed3b9f",
   "metadata": {},
   "outputs": [],
   "source": [
    "newdf.loc[0,'A'] = 65434"
   ]
  },
  {
   "cell_type": "code",
   "execution_count": 100,
   "id": "f0d918ce-1bef-404a-8090-00d19eb4619a",
   "metadata": {},
   "outputs": [
    {
     "data": {
      "text/html": [
       "<div>\n",
       "<style scoped>\n",
       "    .dataframe tbody tr th:only-of-type {\n",
       "        vertical-align: middle;\n",
       "    }\n",
       "\n",
       "    .dataframe tbody tr th {\n",
       "        vertical-align: top;\n",
       "    }\n",
       "\n",
       "    .dataframe thead th {\n",
       "        text-align: right;\n",
       "    }\n",
       "</style>\n",
       "<table border=\"1\" class=\"dataframe\">\n",
       "  <thead>\n",
       "    <tr style=\"text-align: right;\">\n",
       "      <th></th>\n",
       "      <th>A</th>\n",
       "      <th>B</th>\n",
       "      <th>C</th>\n",
       "      <th>D</th>\n",
       "      <th>E</th>\n",
       "    </tr>\n",
       "  </thead>\n",
       "  <tbody>\n",
       "    <tr>\n",
       "      <th>0</th>\n",
       "      <td>65434.000000</td>\n",
       "      <td>0.779639</td>\n",
       "      <td>0.559650</td>\n",
       "      <td>0.909436</td>\n",
       "      <td>0.717646</td>\n",
       "    </tr>\n",
       "    <tr>\n",
       "      <th>1</th>\n",
       "      <td>0.893185</td>\n",
       "      <td>0.702782</td>\n",
       "      <td>0.338949</td>\n",
       "      <td>0.131913</td>\n",
       "      <td>0.997212</td>\n",
       "    </tr>\n",
       "    <tr>\n",
       "      <th>2</th>\n",
       "      <td>0.501297</td>\n",
       "      <td>0.521812</td>\n",
       "      <td>0.096023</td>\n",
       "      <td>0.658269</td>\n",
       "      <td>0.042815</td>\n",
       "    </tr>\n",
       "    <tr>\n",
       "      <th>3</th>\n",
       "      <td>0.721650</td>\n",
       "      <td>0.393218</td>\n",
       "      <td>0.171786</td>\n",
       "      <td>0.463134</td>\n",
       "      <td>0.715370</td>\n",
       "    </tr>\n",
       "    <tr>\n",
       "      <th>4</th>\n",
       "      <td>0.448710</td>\n",
       "      <td>0.600996</td>\n",
       "      <td>0.188458</td>\n",
       "      <td>0.220085</td>\n",
       "      <td>0.110507</td>\n",
       "    </tr>\n",
       "    <tr>\n",
       "      <th>...</th>\n",
       "      <td>...</td>\n",
       "      <td>...</td>\n",
       "      <td>...</td>\n",
       "      <td>...</td>\n",
       "      <td>...</td>\n",
       "    </tr>\n",
       "    <tr>\n",
       "      <th>329</th>\n",
       "      <td>0.287965</td>\n",
       "      <td>0.835604</td>\n",
       "      <td>0.928888</td>\n",
       "      <td>0.130187</td>\n",
       "      <td>0.341904</td>\n",
       "    </tr>\n",
       "    <tr>\n",
       "      <th>330</th>\n",
       "      <td>0.130640</td>\n",
       "      <td>0.475514</td>\n",
       "      <td>0.179453</td>\n",
       "      <td>0.412287</td>\n",
       "      <td>0.324832</td>\n",
       "    </tr>\n",
       "    <tr>\n",
       "      <th>331</th>\n",
       "      <td>0.956184</td>\n",
       "      <td>0.887811</td>\n",
       "      <td>0.997208</td>\n",
       "      <td>0.438899</td>\n",
       "      <td>0.451827</td>\n",
       "    </tr>\n",
       "    <tr>\n",
       "      <th>332</th>\n",
       "      <td>0.103483</td>\n",
       "      <td>0.767511</td>\n",
       "      <td>0.693587</td>\n",
       "      <td>0.415454</td>\n",
       "      <td>0.054329</td>\n",
       "    </tr>\n",
       "    <tr>\n",
       "      <th>333</th>\n",
       "      <td>0.450112</td>\n",
       "      <td>0.044409</td>\n",
       "      <td>0.261894</td>\n",
       "      <td>0.641368</td>\n",
       "      <td>0.352966</td>\n",
       "    </tr>\n",
       "  </tbody>\n",
       "</table>\n",
       "<p>334 rows × 5 columns</p>\n",
       "</div>"
      ],
      "text/plain": [
       "                A         B         C         D         E\n",
       "0    65434.000000  0.779639  0.559650  0.909436  0.717646\n",
       "1        0.893185  0.702782  0.338949  0.131913  0.997212\n",
       "2        0.501297  0.521812  0.096023  0.658269  0.042815\n",
       "3        0.721650  0.393218  0.171786  0.463134  0.715370\n",
       "4        0.448710  0.600996  0.188458  0.220085  0.110507\n",
       "..            ...       ...       ...       ...       ...\n",
       "329      0.287965  0.835604  0.928888  0.130187  0.341904\n",
       "330      0.130640  0.475514  0.179453  0.412287  0.324832\n",
       "331      0.956184  0.887811  0.997208  0.438899  0.451827\n",
       "332      0.103483  0.767511  0.693587  0.415454  0.054329\n",
       "333      0.450112  0.044409  0.261894  0.641368  0.352966\n",
       "\n",
       "[334 rows x 5 columns]"
      ]
     },
     "execution_count": 100,
     "metadata": {},
     "output_type": "execute_result"
    }
   ],
   "source": [
    "newdf"
   ]
  },
  {
   "cell_type": "code",
   "execution_count": 102,
   "id": "f032aa17-bba7-4d13-bcfd-f0670b888639",
   "metadata": {},
   "outputs": [
    {
     "ename": "KeyError",
     "evalue": "'[0] not found in axis'",
     "output_type": "error",
     "traceback": [
      "\u001b[1;31m---------------------------------------------------------------------------\u001b[0m",
      "\u001b[1;31mKeyError\u001b[0m                                  Traceback (most recent call last)",
      "Cell \u001b[1;32mIn[102], line 1\u001b[0m\n\u001b[1;32m----> 1\u001b[0m \u001b[43mnewdf\u001b[49m\u001b[38;5;241;43m.\u001b[39;49m\u001b[43mdrop\u001b[49m\u001b[43m(\u001b[49m\u001b[38;5;241;43m0\u001b[39;49m\u001b[43m,\u001b[49m\u001b[43m \u001b[49m\u001b[43maxis\u001b[49m\u001b[43m \u001b[49m\u001b[38;5;241;43m=\u001b[39;49m\u001b[43m \u001b[49m\u001b[38;5;241;43m1\u001b[39;49m\u001b[43m)\u001b[49m\n",
      "File \u001b[1;32m~\\anaconda3\\Lib\\site-packages\\pandas\\core\\frame.py:5581\u001b[0m, in \u001b[0;36mDataFrame.drop\u001b[1;34m(self, labels, axis, index, columns, level, inplace, errors)\u001b[0m\n\u001b[0;32m   5433\u001b[0m \u001b[38;5;28;01mdef\u001b[39;00m \u001b[38;5;21mdrop\u001b[39m(\n\u001b[0;32m   5434\u001b[0m     \u001b[38;5;28mself\u001b[39m,\n\u001b[0;32m   5435\u001b[0m     labels: IndexLabel \u001b[38;5;241m|\u001b[39m \u001b[38;5;28;01mNone\u001b[39;00m \u001b[38;5;241m=\u001b[39m \u001b[38;5;28;01mNone\u001b[39;00m,\n\u001b[1;32m   (...)\u001b[0m\n\u001b[0;32m   5442\u001b[0m     errors: IgnoreRaise \u001b[38;5;241m=\u001b[39m \u001b[38;5;124m\"\u001b[39m\u001b[38;5;124mraise\u001b[39m\u001b[38;5;124m\"\u001b[39m,\n\u001b[0;32m   5443\u001b[0m ) \u001b[38;5;241m-\u001b[39m\u001b[38;5;241m>\u001b[39m DataFrame \u001b[38;5;241m|\u001b[39m \u001b[38;5;28;01mNone\u001b[39;00m:\n\u001b[0;32m   5444\u001b[0m \u001b[38;5;250m    \u001b[39m\u001b[38;5;124;03m\"\"\"\u001b[39;00m\n\u001b[0;32m   5445\u001b[0m \u001b[38;5;124;03m    Drop specified labels from rows or columns.\u001b[39;00m\n\u001b[0;32m   5446\u001b[0m \n\u001b[1;32m   (...)\u001b[0m\n\u001b[0;32m   5579\u001b[0m \u001b[38;5;124;03m            weight  1.0     0.8\u001b[39;00m\n\u001b[0;32m   5580\u001b[0m \u001b[38;5;124;03m    \"\"\"\u001b[39;00m\n\u001b[1;32m-> 5581\u001b[0m     \u001b[38;5;28;01mreturn\u001b[39;00m \u001b[38;5;28;43msuper\u001b[39;49m\u001b[43m(\u001b[49m\u001b[43m)\u001b[49m\u001b[38;5;241;43m.\u001b[39;49m\u001b[43mdrop\u001b[49m\u001b[43m(\u001b[49m\n\u001b[0;32m   5582\u001b[0m \u001b[43m        \u001b[49m\u001b[43mlabels\u001b[49m\u001b[38;5;241;43m=\u001b[39;49m\u001b[43mlabels\u001b[49m\u001b[43m,\u001b[49m\n\u001b[0;32m   5583\u001b[0m \u001b[43m        \u001b[49m\u001b[43maxis\u001b[49m\u001b[38;5;241;43m=\u001b[39;49m\u001b[43maxis\u001b[49m\u001b[43m,\u001b[49m\n\u001b[0;32m   5584\u001b[0m \u001b[43m        \u001b[49m\u001b[43mindex\u001b[49m\u001b[38;5;241;43m=\u001b[39;49m\u001b[43mindex\u001b[49m\u001b[43m,\u001b[49m\n\u001b[0;32m   5585\u001b[0m \u001b[43m        \u001b[49m\u001b[43mcolumns\u001b[49m\u001b[38;5;241;43m=\u001b[39;49m\u001b[43mcolumns\u001b[49m\u001b[43m,\u001b[49m\n\u001b[0;32m   5586\u001b[0m \u001b[43m        \u001b[49m\u001b[43mlevel\u001b[49m\u001b[38;5;241;43m=\u001b[39;49m\u001b[43mlevel\u001b[49m\u001b[43m,\u001b[49m\n\u001b[0;32m   5587\u001b[0m \u001b[43m        \u001b[49m\u001b[43minplace\u001b[49m\u001b[38;5;241;43m=\u001b[39;49m\u001b[43minplace\u001b[49m\u001b[43m,\u001b[49m\n\u001b[0;32m   5588\u001b[0m \u001b[43m        \u001b[49m\u001b[43merrors\u001b[49m\u001b[38;5;241;43m=\u001b[39;49m\u001b[43merrors\u001b[49m\u001b[43m,\u001b[49m\n\u001b[0;32m   5589\u001b[0m \u001b[43m    \u001b[49m\u001b[43m)\u001b[49m\n",
      "File \u001b[1;32m~\\anaconda3\\Lib\\site-packages\\pandas\\core\\generic.py:4788\u001b[0m, in \u001b[0;36mNDFrame.drop\u001b[1;34m(self, labels, axis, index, columns, level, inplace, errors)\u001b[0m\n\u001b[0;32m   4786\u001b[0m \u001b[38;5;28;01mfor\u001b[39;00m axis, labels \u001b[38;5;129;01min\u001b[39;00m axes\u001b[38;5;241m.\u001b[39mitems():\n\u001b[0;32m   4787\u001b[0m     \u001b[38;5;28;01mif\u001b[39;00m labels \u001b[38;5;129;01mis\u001b[39;00m \u001b[38;5;129;01mnot\u001b[39;00m \u001b[38;5;28;01mNone\u001b[39;00m:\n\u001b[1;32m-> 4788\u001b[0m         obj \u001b[38;5;241m=\u001b[39m \u001b[43mobj\u001b[49m\u001b[38;5;241;43m.\u001b[39;49m\u001b[43m_drop_axis\u001b[49m\u001b[43m(\u001b[49m\u001b[43mlabels\u001b[49m\u001b[43m,\u001b[49m\u001b[43m \u001b[49m\u001b[43maxis\u001b[49m\u001b[43m,\u001b[49m\u001b[43m \u001b[49m\u001b[43mlevel\u001b[49m\u001b[38;5;241;43m=\u001b[39;49m\u001b[43mlevel\u001b[49m\u001b[43m,\u001b[49m\u001b[43m \u001b[49m\u001b[43merrors\u001b[49m\u001b[38;5;241;43m=\u001b[39;49m\u001b[43merrors\u001b[49m\u001b[43m)\u001b[49m\n\u001b[0;32m   4790\u001b[0m \u001b[38;5;28;01mif\u001b[39;00m inplace:\n\u001b[0;32m   4791\u001b[0m     \u001b[38;5;28mself\u001b[39m\u001b[38;5;241m.\u001b[39m_update_inplace(obj)\n",
      "File \u001b[1;32m~\\anaconda3\\Lib\\site-packages\\pandas\\core\\generic.py:4830\u001b[0m, in \u001b[0;36mNDFrame._drop_axis\u001b[1;34m(self, labels, axis, level, errors, only_slice)\u001b[0m\n\u001b[0;32m   4828\u001b[0m         new_axis \u001b[38;5;241m=\u001b[39m axis\u001b[38;5;241m.\u001b[39mdrop(labels, level\u001b[38;5;241m=\u001b[39mlevel, errors\u001b[38;5;241m=\u001b[39merrors)\n\u001b[0;32m   4829\u001b[0m     \u001b[38;5;28;01melse\u001b[39;00m:\n\u001b[1;32m-> 4830\u001b[0m         new_axis \u001b[38;5;241m=\u001b[39m \u001b[43maxis\u001b[49m\u001b[38;5;241;43m.\u001b[39;49m\u001b[43mdrop\u001b[49m\u001b[43m(\u001b[49m\u001b[43mlabels\u001b[49m\u001b[43m,\u001b[49m\u001b[43m \u001b[49m\u001b[43merrors\u001b[49m\u001b[38;5;241;43m=\u001b[39;49m\u001b[43merrors\u001b[49m\u001b[43m)\u001b[49m\n\u001b[0;32m   4831\u001b[0m     indexer \u001b[38;5;241m=\u001b[39m axis\u001b[38;5;241m.\u001b[39mget_indexer(new_axis)\n\u001b[0;32m   4833\u001b[0m \u001b[38;5;66;03m# Case for non-unique axis\u001b[39;00m\n\u001b[0;32m   4834\u001b[0m \u001b[38;5;28;01melse\u001b[39;00m:\n",
      "File \u001b[1;32m~\\anaconda3\\Lib\\site-packages\\pandas\\core\\indexes\\base.py:7070\u001b[0m, in \u001b[0;36mIndex.drop\u001b[1;34m(self, labels, errors)\u001b[0m\n\u001b[0;32m   7068\u001b[0m \u001b[38;5;28;01mif\u001b[39;00m mask\u001b[38;5;241m.\u001b[39many():\n\u001b[0;32m   7069\u001b[0m     \u001b[38;5;28;01mif\u001b[39;00m errors \u001b[38;5;241m!=\u001b[39m \u001b[38;5;124m\"\u001b[39m\u001b[38;5;124mignore\u001b[39m\u001b[38;5;124m\"\u001b[39m:\n\u001b[1;32m-> 7070\u001b[0m         \u001b[38;5;28;01mraise\u001b[39;00m \u001b[38;5;167;01mKeyError\u001b[39;00m(\u001b[38;5;124mf\u001b[39m\u001b[38;5;124m\"\u001b[39m\u001b[38;5;132;01m{\u001b[39;00mlabels[mask]\u001b[38;5;241m.\u001b[39mtolist()\u001b[38;5;132;01m}\u001b[39;00m\u001b[38;5;124m not found in axis\u001b[39m\u001b[38;5;124m\"\u001b[39m)\n\u001b[0;32m   7071\u001b[0m     indexer \u001b[38;5;241m=\u001b[39m indexer[\u001b[38;5;241m~\u001b[39mmask]\n\u001b[0;32m   7072\u001b[0m \u001b[38;5;28;01mreturn\u001b[39;00m \u001b[38;5;28mself\u001b[39m\u001b[38;5;241m.\u001b[39mdelete(indexer)\n",
      "\u001b[1;31mKeyError\u001b[0m: '[0] not found in axis'"
     ]
    }
   ],
   "source": [
    "newdf.drop(0, axis = 1)"
   ]
  },
  {
   "cell_type": "code",
   "execution_count": null,
   "id": "83ab20ce-3b65-4115-bf61-a7d18ab9b780",
   "metadata": {
    "scrolled": true
   },
   "outputs": [],
   "source": [
    "newdf.loc[[1,2], ['C','D']]"
   ]
  },
  {
   "cell_type": "code",
   "execution_count": null,
   "id": "5c1b5f71-f0d2-4735-b61d-16bf10abd29c",
   "metadata": {},
   "outputs": [],
   "source": [
    "newdf.head()"
   ]
  },
  {
   "cell_type": "code",
   "execution_count": null,
   "id": "318a25a9-4efc-4323-9239-cd096f0cce0b",
   "metadata": {},
   "outputs": [],
   "source": [
    "newdf.loc[:, ['C','D']]"
   ]
  },
  {
   "cell_type": "code",
   "execution_count": null,
   "id": "895fb1e2-296e-48cc-a2a7-39be12477053",
   "metadata": {},
   "outputs": [],
   "source": [
    "newdf.loc[[1,2], :]"
   ]
  },
  {
   "cell_type": "code",
   "execution_count": 103,
   "id": "a8f62dfb-b6fe-48ab-8c22-2f416ca9ba86",
   "metadata": {},
   "outputs": [
    {
     "data": {
      "text/html": [
       "<div>\n",
       "<style scoped>\n",
       "    .dataframe tbody tr th:only-of-type {\n",
       "        vertical-align: middle;\n",
       "    }\n",
       "\n",
       "    .dataframe tbody tr th {\n",
       "        vertical-align: top;\n",
       "    }\n",
       "\n",
       "    .dataframe thead th {\n",
       "        text-align: right;\n",
       "    }\n",
       "</style>\n",
       "<table border=\"1\" class=\"dataframe\">\n",
       "  <thead>\n",
       "    <tr style=\"text-align: right;\">\n",
       "      <th></th>\n",
       "      <th>A</th>\n",
       "      <th>B</th>\n",
       "      <th>C</th>\n",
       "      <th>D</th>\n",
       "      <th>E</th>\n",
       "    </tr>\n",
       "  </thead>\n",
       "  <tbody>\n",
       "    <tr>\n",
       "      <th>20</th>\n",
       "      <td>0.041215</td>\n",
       "      <td>0.692861</td>\n",
       "      <td>0.276760</td>\n",
       "      <td>0.086144</td>\n",
       "      <td>0.241263</td>\n",
       "    </tr>\n",
       "    <tr>\n",
       "      <th>25</th>\n",
       "      <td>0.181196</td>\n",
       "      <td>0.326241</td>\n",
       "      <td>0.677147</td>\n",
       "      <td>0.438217</td>\n",
       "      <td>0.276795</td>\n",
       "    </tr>\n",
       "    <tr>\n",
       "      <th>38</th>\n",
       "      <td>0.074883</td>\n",
       "      <td>0.504160</td>\n",
       "      <td>0.206040</td>\n",
       "      <td>0.305662</td>\n",
       "      <td>0.668633</td>\n",
       "    </tr>\n",
       "    <tr>\n",
       "      <th>39</th>\n",
       "      <td>0.157760</td>\n",
       "      <td>0.818533</td>\n",
       "      <td>0.709541</td>\n",
       "      <td>0.744972</td>\n",
       "      <td>0.813271</td>\n",
       "    </tr>\n",
       "    <tr>\n",
       "      <th>40</th>\n",
       "      <td>0.187072</td>\n",
       "      <td>0.939158</td>\n",
       "      <td>0.464356</td>\n",
       "      <td>0.539325</td>\n",
       "      <td>0.838368</td>\n",
       "    </tr>\n",
       "    <tr>\n",
       "      <th>...</th>\n",
       "      <td>...</td>\n",
       "      <td>...</td>\n",
       "      <td>...</td>\n",
       "      <td>...</td>\n",
       "      <td>...</td>\n",
       "    </tr>\n",
       "    <tr>\n",
       "      <th>320</th>\n",
       "      <td>0.079754</td>\n",
       "      <td>0.691244</td>\n",
       "      <td>0.968349</td>\n",
       "      <td>0.400433</td>\n",
       "      <td>0.225252</td>\n",
       "    </tr>\n",
       "    <tr>\n",
       "      <th>328</th>\n",
       "      <td>0.044837</td>\n",
       "      <td>0.412760</td>\n",
       "      <td>0.032135</td>\n",
       "      <td>0.291574</td>\n",
       "      <td>0.873793</td>\n",
       "    </tr>\n",
       "    <tr>\n",
       "      <th>329</th>\n",
       "      <td>0.287965</td>\n",
       "      <td>0.835604</td>\n",
       "      <td>0.928888</td>\n",
       "      <td>0.130187</td>\n",
       "      <td>0.341904</td>\n",
       "    </tr>\n",
       "    <tr>\n",
       "      <th>330</th>\n",
       "      <td>0.130640</td>\n",
       "      <td>0.475514</td>\n",
       "      <td>0.179453</td>\n",
       "      <td>0.412287</td>\n",
       "      <td>0.324832</td>\n",
       "    </tr>\n",
       "    <tr>\n",
       "      <th>332</th>\n",
       "      <td>0.103483</td>\n",
       "      <td>0.767511</td>\n",
       "      <td>0.693587</td>\n",
       "      <td>0.415454</td>\n",
       "      <td>0.054329</td>\n",
       "    </tr>\n",
       "  </tbody>\n",
       "</table>\n",
       "<p>102 rows × 5 columns</p>\n",
       "</div>"
      ],
      "text/plain": [
       "            A         B         C         D         E\n",
       "20   0.041215  0.692861  0.276760  0.086144  0.241263\n",
       "25   0.181196  0.326241  0.677147  0.438217  0.276795\n",
       "38   0.074883  0.504160  0.206040  0.305662  0.668633\n",
       "39   0.157760  0.818533  0.709541  0.744972  0.813271\n",
       "40   0.187072  0.939158  0.464356  0.539325  0.838368\n",
       "..        ...       ...       ...       ...       ...\n",
       "320  0.079754  0.691244  0.968349  0.400433  0.225252\n",
       "328  0.044837  0.412760  0.032135  0.291574  0.873793\n",
       "329  0.287965  0.835604  0.928888  0.130187  0.341904\n",
       "330  0.130640  0.475514  0.179453  0.412287  0.324832\n",
       "332  0.103483  0.767511  0.693587  0.415454  0.054329\n",
       "\n",
       "[102 rows x 5 columns]"
      ]
     },
     "execution_count": 103,
     "metadata": {},
     "output_type": "execute_result"
    }
   ],
   "source": [
    "newdf.loc[(newdf['A']<0.3)]"
   ]
  },
  {
   "cell_type": "code",
   "execution_count": 110,
   "id": "e78530e4-e45a-4f0f-9a00-9a9420c59fa1",
   "metadata": {},
   "outputs": [
    {
     "data": {
      "text/html": [
       "<div>\n",
       "<style scoped>\n",
       "    .dataframe tbody tr th:only-of-type {\n",
       "        vertical-align: middle;\n",
       "    }\n",
       "\n",
       "    .dataframe tbody tr th {\n",
       "        vertical-align: top;\n",
       "    }\n",
       "\n",
       "    .dataframe thead th {\n",
       "        text-align: right;\n",
       "    }\n",
       "</style>\n",
       "<table border=\"1\" class=\"dataframe\">\n",
       "  <thead>\n",
       "    <tr style=\"text-align: right;\">\n",
       "      <th></th>\n",
       "      <th>A</th>\n",
       "      <th>B</th>\n",
       "      <th>C</th>\n",
       "      <th>D</th>\n",
       "      <th>E</th>\n",
       "    </tr>\n",
       "  </thead>\n",
       "  <tbody>\n",
       "    <tr>\n",
       "      <th>20</th>\n",
       "      <td>0.041215</td>\n",
       "      <td>0.692861</td>\n",
       "      <td>0.276760</td>\n",
       "      <td>0.086144</td>\n",
       "      <td>0.241263</td>\n",
       "    </tr>\n",
       "    <tr>\n",
       "      <th>25</th>\n",
       "      <td>0.181196</td>\n",
       "      <td>0.326241</td>\n",
       "      <td>0.677147</td>\n",
       "      <td>0.438217</td>\n",
       "      <td>0.276795</td>\n",
       "    </tr>\n",
       "    <tr>\n",
       "      <th>38</th>\n",
       "      <td>0.074883</td>\n",
       "      <td>0.504160</td>\n",
       "      <td>0.206040</td>\n",
       "      <td>0.305662</td>\n",
       "      <td>0.668633</td>\n",
       "    </tr>\n",
       "    <tr>\n",
       "      <th>39</th>\n",
       "      <td>0.157760</td>\n",
       "      <td>0.818533</td>\n",
       "      <td>0.709541</td>\n",
       "      <td>0.744972</td>\n",
       "      <td>0.813271</td>\n",
       "    </tr>\n",
       "    <tr>\n",
       "      <th>40</th>\n",
       "      <td>0.187072</td>\n",
       "      <td>0.939158</td>\n",
       "      <td>0.464356</td>\n",
       "      <td>0.539325</td>\n",
       "      <td>0.838368</td>\n",
       "    </tr>\n",
       "    <tr>\n",
       "      <th>...</th>\n",
       "      <td>...</td>\n",
       "      <td>...</td>\n",
       "      <td>...</td>\n",
       "      <td>...</td>\n",
       "      <td>...</td>\n",
       "    </tr>\n",
       "    <tr>\n",
       "      <th>319</th>\n",
       "      <td>0.185636</td>\n",
       "      <td>0.359641</td>\n",
       "      <td>0.679850</td>\n",
       "      <td>0.817719</td>\n",
       "      <td>0.076903</td>\n",
       "    </tr>\n",
       "    <tr>\n",
       "      <th>320</th>\n",
       "      <td>0.079754</td>\n",
       "      <td>0.691244</td>\n",
       "      <td>0.968349</td>\n",
       "      <td>0.400433</td>\n",
       "      <td>0.225252</td>\n",
       "    </tr>\n",
       "    <tr>\n",
       "      <th>329</th>\n",
       "      <td>0.287965</td>\n",
       "      <td>0.835604</td>\n",
       "      <td>0.928888</td>\n",
       "      <td>0.130187</td>\n",
       "      <td>0.341904</td>\n",
       "    </tr>\n",
       "    <tr>\n",
       "      <th>330</th>\n",
       "      <td>0.130640</td>\n",
       "      <td>0.475514</td>\n",
       "      <td>0.179453</td>\n",
       "      <td>0.412287</td>\n",
       "      <td>0.324832</td>\n",
       "    </tr>\n",
       "    <tr>\n",
       "      <th>332</th>\n",
       "      <td>0.103483</td>\n",
       "      <td>0.767511</td>\n",
       "      <td>0.693587</td>\n",
       "      <td>0.415454</td>\n",
       "      <td>0.054329</td>\n",
       "    </tr>\n",
       "  </tbody>\n",
       "</table>\n",
       "<p>89 rows × 5 columns</p>\n",
       "</div>"
      ],
      "text/plain": [
       "            A         B         C         D         E\n",
       "20   0.041215  0.692861  0.276760  0.086144  0.241263\n",
       "25   0.181196  0.326241  0.677147  0.438217  0.276795\n",
       "38   0.074883  0.504160  0.206040  0.305662  0.668633\n",
       "39   0.157760  0.818533  0.709541  0.744972  0.813271\n",
       "40   0.187072  0.939158  0.464356  0.539325  0.838368\n",
       "..        ...       ...       ...       ...       ...\n",
       "319  0.185636  0.359641  0.679850  0.817719  0.076903\n",
       "320  0.079754  0.691244  0.968349  0.400433  0.225252\n",
       "329  0.287965  0.835604  0.928888  0.130187  0.341904\n",
       "330  0.130640  0.475514  0.179453  0.412287  0.324832\n",
       "332  0.103483  0.767511  0.693587  0.415454  0.054329\n",
       "\n",
       "[89 rows x 5 columns]"
      ]
     },
     "execution_count": 110,
     "metadata": {},
     "output_type": "execute_result"
    }
   ],
   "source": [
    "newdf.loc[(newdf['A']<0.3) & (newdf['C']>0.1)]"
   ]
  },
  {
   "cell_type": "code",
   "execution_count": 120,
   "id": "0e2d59f4-d6f2-4b2d-8279-b056e1686865",
   "metadata": {},
   "outputs": [
    {
     "data": {
      "text/html": [
       "<div>\n",
       "<style scoped>\n",
       "    .dataframe tbody tr th:only-of-type {\n",
       "        vertical-align: middle;\n",
       "    }\n",
       "\n",
       "    .dataframe tbody tr th {\n",
       "        vertical-align: top;\n",
       "    }\n",
       "\n",
       "    .dataframe thead th {\n",
       "        text-align: right;\n",
       "    }\n",
       "</style>\n",
       "<table border=\"1\" class=\"dataframe\">\n",
       "  <thead>\n",
       "    <tr style=\"text-align: right;\">\n",
       "      <th></th>\n",
       "      <th>A</th>\n",
       "      <th>B</th>\n",
       "      <th>C</th>\n",
       "      <th>D</th>\n",
       "      <th>E</th>\n",
       "    </tr>\n",
       "  </thead>\n",
       "  <tbody>\n",
       "    <tr>\n",
       "      <th>0</th>\n",
       "      <td>65434.000000</td>\n",
       "      <td>0.779639</td>\n",
       "      <td>0.559650</td>\n",
       "      <td>0.909436</td>\n",
       "      <td>0.717646</td>\n",
       "    </tr>\n",
       "    <tr>\n",
       "      <th>1</th>\n",
       "      <td>0.893185</td>\n",
       "      <td>0.702782</td>\n",
       "      <td>0.338949</td>\n",
       "      <td>0.131913</td>\n",
       "      <td>0.997212</td>\n",
       "    </tr>\n",
       "    <tr>\n",
       "      <th>2</th>\n",
       "      <td>0.501297</td>\n",
       "      <td>0.521812</td>\n",
       "      <td>0.096023</td>\n",
       "      <td>0.658269</td>\n",
       "      <td>0.042815</td>\n",
       "    </tr>\n",
       "    <tr>\n",
       "      <th>3</th>\n",
       "      <td>0.721650</td>\n",
       "      <td>0.393218</td>\n",
       "      <td>0.171786</td>\n",
       "      <td>0.463134</td>\n",
       "      <td>0.715370</td>\n",
       "    </tr>\n",
       "    <tr>\n",
       "      <th>4</th>\n",
       "      <td>0.448710</td>\n",
       "      <td>0.600996</td>\n",
       "      <td>0.188458</td>\n",
       "      <td>0.220085</td>\n",
       "      <td>0.110507</td>\n",
       "    </tr>\n",
       "  </tbody>\n",
       "</table>\n",
       "</div>"
      ],
      "text/plain": [
       "              A         B         C         D         E\n",
       "0  65434.000000  0.779639  0.559650  0.909436  0.717646\n",
       "1      0.893185  0.702782  0.338949  0.131913  0.997212\n",
       "2      0.501297  0.521812  0.096023  0.658269  0.042815\n",
       "3      0.721650  0.393218  0.171786  0.463134  0.715370\n",
       "4      0.448710  0.600996  0.188458  0.220085  0.110507"
      ]
     },
     "execution_count": 120,
     "metadata": {},
     "output_type": "execute_result"
    }
   ],
   "source": [
    "newdf.head()"
   ]
  },
  {
   "cell_type": "code",
   "execution_count": 122,
   "id": "ccedf21f-496a-47b2-9dee-9df257166ff6",
   "metadata": {},
   "outputs": [
    {
     "data": {
      "text/plain": [
       "0.7176455793032109"
      ]
     },
     "execution_count": 122,
     "metadata": {},
     "output_type": "execute_result"
    }
   ],
   "source": [
    "newdf.iloc[0,4]"
   ]
  },
  {
   "cell_type": "code",
   "execution_count": 124,
   "id": "6cf6d596-1030-4d54-8242-3f279ff12a01",
   "metadata": {},
   "outputs": [
    {
     "data": {
      "text/html": [
       "<div>\n",
       "<style scoped>\n",
       "    .dataframe tbody tr th:only-of-type {\n",
       "        vertical-align: middle;\n",
       "    }\n",
       "\n",
       "    .dataframe tbody tr th {\n",
       "        vertical-align: top;\n",
       "    }\n",
       "\n",
       "    .dataframe thead th {\n",
       "        text-align: right;\n",
       "    }\n",
       "</style>\n",
       "<table border=\"1\" class=\"dataframe\">\n",
       "  <thead>\n",
       "    <tr style=\"text-align: right;\">\n",
       "      <th></th>\n",
       "      <th>B</th>\n",
       "      <th>C</th>\n",
       "    </tr>\n",
       "  </thead>\n",
       "  <tbody>\n",
       "    <tr>\n",
       "      <th>0</th>\n",
       "      <td>0.779639</td>\n",
       "      <td>0.559650</td>\n",
       "    </tr>\n",
       "    <tr>\n",
       "      <th>1</th>\n",
       "      <td>0.702782</td>\n",
       "      <td>0.338949</td>\n",
       "    </tr>\n",
       "  </tbody>\n",
       "</table>\n",
       "</div>"
      ],
      "text/plain": [
       "          B         C\n",
       "0  0.779639  0.559650\n",
       "1  0.702782  0.338949"
      ]
     },
     "execution_count": 124,
     "metadata": {},
     "output_type": "execute_result"
    }
   ],
   "source": [
    "newdf.iloc[[0,1], [1,2]]"
   ]
  },
  {
   "cell_type": "code",
   "execution_count": 126,
   "id": "647171f1-a487-4f61-a008-afdf4edb8fc9",
   "metadata": {},
   "outputs": [
    {
     "data": {
      "text/html": [
       "<div>\n",
       "<style scoped>\n",
       "    .dataframe tbody tr th:only-of-type {\n",
       "        vertical-align: middle;\n",
       "    }\n",
       "\n",
       "    .dataframe tbody tr th {\n",
       "        vertical-align: top;\n",
       "    }\n",
       "\n",
       "    .dataframe thead th {\n",
       "        text-align: right;\n",
       "    }\n",
       "</style>\n",
       "<table border=\"1\" class=\"dataframe\">\n",
       "  <thead>\n",
       "    <tr style=\"text-align: right;\">\n",
       "      <th></th>\n",
       "      <th>A</th>\n",
       "      <th>B</th>\n",
       "      <th>C</th>\n",
       "      <th>D</th>\n",
       "      <th>E</th>\n",
       "    </tr>\n",
       "  </thead>\n",
       "  <tbody>\n",
       "    <tr>\n",
       "      <th>0</th>\n",
       "      <td>65434.000000</td>\n",
       "      <td>0.779639</td>\n",
       "      <td>0.559650</td>\n",
       "      <td>0.909436</td>\n",
       "      <td>0.717646</td>\n",
       "    </tr>\n",
       "    <tr>\n",
       "      <th>1</th>\n",
       "      <td>0.893185</td>\n",
       "      <td>0.702782</td>\n",
       "      <td>0.338949</td>\n",
       "      <td>0.131913</td>\n",
       "      <td>0.997212</td>\n",
       "    </tr>\n",
       "    <tr>\n",
       "      <th>2</th>\n",
       "      <td>0.501297</td>\n",
       "      <td>0.521812</td>\n",
       "      <td>0.096023</td>\n",
       "      <td>0.658269</td>\n",
       "      <td>0.042815</td>\n",
       "    </tr>\n",
       "  </tbody>\n",
       "</table>\n",
       "</div>"
      ],
      "text/plain": [
       "              A         B         C         D         E\n",
       "0  65434.000000  0.779639  0.559650  0.909436  0.717646\n",
       "1      0.893185  0.702782  0.338949  0.131913  0.997212\n",
       "2      0.501297  0.521812  0.096023  0.658269  0.042815"
      ]
     },
     "execution_count": 126,
     "metadata": {},
     "output_type": "execute_result"
    }
   ],
   "source": [
    "newdf.head(3)"
   ]
  },
  {
   "cell_type": "code",
   "execution_count": 128,
   "id": "a4642048-a706-4c2d-964f-4259223b18a8",
   "metadata": {},
   "outputs": [
    {
     "data": {
      "text/html": [
       "<div>\n",
       "<style scoped>\n",
       "    .dataframe tbody tr th:only-of-type {\n",
       "        vertical-align: middle;\n",
       "    }\n",
       "\n",
       "    .dataframe tbody tr th {\n",
       "        vertical-align: top;\n",
       "    }\n",
       "\n",
       "    .dataframe thead th {\n",
       "        text-align: right;\n",
       "    }\n",
       "</style>\n",
       "<table border=\"1\" class=\"dataframe\">\n",
       "  <thead>\n",
       "    <tr style=\"text-align: right;\">\n",
       "      <th></th>\n",
       "      <th>A</th>\n",
       "      <th>B</th>\n",
       "      <th>C</th>\n",
       "      <th>D</th>\n",
       "      <th>E</th>\n",
       "    </tr>\n",
       "  </thead>\n",
       "  <tbody>\n",
       "    <tr>\n",
       "      <th>1</th>\n",
       "      <td>0.893185</td>\n",
       "      <td>0.702782</td>\n",
       "      <td>0.338949</td>\n",
       "      <td>0.131913</td>\n",
       "      <td>0.997212</td>\n",
       "    </tr>\n",
       "    <tr>\n",
       "      <th>2</th>\n",
       "      <td>0.501297</td>\n",
       "      <td>0.521812</td>\n",
       "      <td>0.096023</td>\n",
       "      <td>0.658269</td>\n",
       "      <td>0.042815</td>\n",
       "    </tr>\n",
       "    <tr>\n",
       "      <th>3</th>\n",
       "      <td>0.721650</td>\n",
       "      <td>0.393218</td>\n",
       "      <td>0.171786</td>\n",
       "      <td>0.463134</td>\n",
       "      <td>0.715370</td>\n",
       "    </tr>\n",
       "    <tr>\n",
       "      <th>4</th>\n",
       "      <td>0.448710</td>\n",
       "      <td>0.600996</td>\n",
       "      <td>0.188458</td>\n",
       "      <td>0.220085</td>\n",
       "      <td>0.110507</td>\n",
       "    </tr>\n",
       "    <tr>\n",
       "      <th>5</th>\n",
       "      <td>0.697741</td>\n",
       "      <td>0.175737</td>\n",
       "      <td>0.959889</td>\n",
       "      <td>0.914644</td>\n",
       "      <td>0.687463</td>\n",
       "    </tr>\n",
       "    <tr>\n",
       "      <th>...</th>\n",
       "      <td>...</td>\n",
       "      <td>...</td>\n",
       "      <td>...</td>\n",
       "      <td>...</td>\n",
       "      <td>...</td>\n",
       "    </tr>\n",
       "    <tr>\n",
       "      <th>329</th>\n",
       "      <td>0.287965</td>\n",
       "      <td>0.835604</td>\n",
       "      <td>0.928888</td>\n",
       "      <td>0.130187</td>\n",
       "      <td>0.341904</td>\n",
       "    </tr>\n",
       "    <tr>\n",
       "      <th>330</th>\n",
       "      <td>0.130640</td>\n",
       "      <td>0.475514</td>\n",
       "      <td>0.179453</td>\n",
       "      <td>0.412287</td>\n",
       "      <td>0.324832</td>\n",
       "    </tr>\n",
       "    <tr>\n",
       "      <th>331</th>\n",
       "      <td>0.956184</td>\n",
       "      <td>0.887811</td>\n",
       "      <td>0.997208</td>\n",
       "      <td>0.438899</td>\n",
       "      <td>0.451827</td>\n",
       "    </tr>\n",
       "    <tr>\n",
       "      <th>332</th>\n",
       "      <td>0.103483</td>\n",
       "      <td>0.767511</td>\n",
       "      <td>0.693587</td>\n",
       "      <td>0.415454</td>\n",
       "      <td>0.054329</td>\n",
       "    </tr>\n",
       "    <tr>\n",
       "      <th>333</th>\n",
       "      <td>0.450112</td>\n",
       "      <td>0.044409</td>\n",
       "      <td>0.261894</td>\n",
       "      <td>0.641368</td>\n",
       "      <td>0.352966</td>\n",
       "    </tr>\n",
       "  </tbody>\n",
       "</table>\n",
       "<p>333 rows × 5 columns</p>\n",
       "</div>"
      ],
      "text/plain": [
       "            A         B         C         D         E\n",
       "1    0.893185  0.702782  0.338949  0.131913  0.997212\n",
       "2    0.501297  0.521812  0.096023  0.658269  0.042815\n",
       "3    0.721650  0.393218  0.171786  0.463134  0.715370\n",
       "4    0.448710  0.600996  0.188458  0.220085  0.110507\n",
       "5    0.697741  0.175737  0.959889  0.914644  0.687463\n",
       "..        ...       ...       ...       ...       ...\n",
       "329  0.287965  0.835604  0.928888  0.130187  0.341904\n",
       "330  0.130640  0.475514  0.179453  0.412287  0.324832\n",
       "331  0.956184  0.887811  0.997208  0.438899  0.451827\n",
       "332  0.103483  0.767511  0.693587  0.415454  0.054329\n",
       "333  0.450112  0.044409  0.261894  0.641368  0.352966\n",
       "\n",
       "[333 rows x 5 columns]"
      ]
     },
     "execution_count": 128,
     "metadata": {},
     "output_type": "execute_result"
    }
   ],
   "source": [
    "newdf.drop(0)"
   ]
  },
  {
   "cell_type": "code",
   "execution_count": 157,
   "id": "46d4c4d5-7bde-41e7-93ee-ae02e02234d6",
   "metadata": {},
   "outputs": [
    {
     "data": {
      "text/html": [
       "<div>\n",
       "<style scoped>\n",
       "    .dataframe tbody tr th:only-of-type {\n",
       "        vertical-align: middle;\n",
       "    }\n",
       "\n",
       "    .dataframe tbody tr th {\n",
       "        vertical-align: top;\n",
       "    }\n",
       "\n",
       "    .dataframe thead th {\n",
       "        text-align: right;\n",
       "    }\n",
       "</style>\n",
       "<table border=\"1\" class=\"dataframe\">\n",
       "  <thead>\n",
       "    <tr style=\"text-align: right;\">\n",
       "      <th></th>\n",
       "      <th>B</th>\n",
       "      <th>C</th>\n",
       "      <th>E</th>\n",
       "    </tr>\n",
       "  </thead>\n",
       "  <tbody>\n",
       "    <tr>\n",
       "      <th>0</th>\n",
       "      <td>0.779639</td>\n",
       "      <td>0.559650</td>\n",
       "      <td>0.717646</td>\n",
       "    </tr>\n",
       "    <tr>\n",
       "      <th>2</th>\n",
       "      <td>0.521812</td>\n",
       "      <td>0.096023</td>\n",
       "      <td>0.042815</td>\n",
       "    </tr>\n",
       "    <tr>\n",
       "      <th>3</th>\n",
       "      <td>0.393218</td>\n",
       "      <td>0.171786</td>\n",
       "      <td>0.715370</td>\n",
       "    </tr>\n",
       "  </tbody>\n",
       "</table>\n",
       "</div>"
      ],
      "text/plain": [
       "          B         C         E\n",
       "0  0.779639  0.559650  0.717646\n",
       "2  0.521812  0.096023  0.042815\n",
       "3  0.393218  0.171786  0.715370"
      ]
     },
     "execution_count": 157,
     "metadata": {},
     "output_type": "execute_result"
    }
   ],
   "source": [
    "newdf.head(3)"
   ]
  },
  {
   "cell_type": "code",
   "execution_count": 159,
   "id": "a686089f-bfe7-420d-b507-f81fa0b03f87",
   "metadata": {},
   "outputs": [],
   "source": [
    "newdf.reset_index(drop=True, inplace=True)"
   ]
  },
  {
   "cell_type": "code",
   "execution_count": 161,
   "id": "b1bc9182-1a0a-4749-b61d-81496939fa2d",
   "metadata": {},
   "outputs": [
    {
     "data": {
      "text/html": [
       "<div>\n",
       "<style scoped>\n",
       "    .dataframe tbody tr th:only-of-type {\n",
       "        vertical-align: middle;\n",
       "    }\n",
       "\n",
       "    .dataframe tbody tr th {\n",
       "        vertical-align: top;\n",
       "    }\n",
       "\n",
       "    .dataframe thead th {\n",
       "        text-align: right;\n",
       "    }\n",
       "</style>\n",
       "<table border=\"1\" class=\"dataframe\">\n",
       "  <thead>\n",
       "    <tr style=\"text-align: right;\">\n",
       "      <th></th>\n",
       "      <th>B</th>\n",
       "      <th>C</th>\n",
       "      <th>E</th>\n",
       "    </tr>\n",
       "  </thead>\n",
       "  <tbody>\n",
       "    <tr>\n",
       "      <th>0</th>\n",
       "      <td>0.779639</td>\n",
       "      <td>0.559650</td>\n",
       "      <td>0.717646</td>\n",
       "    </tr>\n",
       "    <tr>\n",
       "      <th>1</th>\n",
       "      <td>0.521812</td>\n",
       "      <td>0.096023</td>\n",
       "      <td>0.042815</td>\n",
       "    </tr>\n",
       "    <tr>\n",
       "      <th>2</th>\n",
       "      <td>0.393218</td>\n",
       "      <td>0.171786</td>\n",
       "      <td>0.715370</td>\n",
       "    </tr>\n",
       "  </tbody>\n",
       "</table>\n",
       "</div>"
      ],
      "text/plain": [
       "          B         C         E\n",
       "0  0.779639  0.559650  0.717646\n",
       "1  0.521812  0.096023  0.042815\n",
       "2  0.393218  0.171786  0.715370"
      ]
     },
     "execution_count": 161,
     "metadata": {},
     "output_type": "execute_result"
    }
   ],
   "source": [
    "newdf.head(3)"
   ]
  },
  {
   "cell_type": "code",
   "execution_count": 163,
   "id": "0ec33e81-2527-41ec-8766-d080cb368800",
   "metadata": {},
   "outputs": [
    {
     "data": {
      "text/plain": [
       "0      False\n",
       "1      False\n",
       "2      False\n",
       "3      False\n",
       "4      False\n",
       "       ...  \n",
       "327    False\n",
       "328    False\n",
       "329    False\n",
       "330    False\n",
       "331    False\n",
       "Name: B, Length: 332, dtype: bool"
      ]
     },
     "execution_count": 163,
     "metadata": {},
     "output_type": "execute_result"
    }
   ],
   "source": [
    "newdf['B'].isnull()"
   ]
  },
  {
   "cell_type": "code",
   "execution_count": 165,
   "id": "a4a0cf15-3895-4734-a9b9-3a15dce7b01b",
   "metadata": {},
   "outputs": [],
   "source": [
    "newdf['B'] = None"
   ]
  },
  {
   "cell_type": "code",
   "execution_count": 167,
   "id": "a23802c2-02e2-498b-8ce8-178166045047",
   "metadata": {},
   "outputs": [
    {
     "data": {
      "text/html": [
       "<div>\n",
       "<style scoped>\n",
       "    .dataframe tbody tr th:only-of-type {\n",
       "        vertical-align: middle;\n",
       "    }\n",
       "\n",
       "    .dataframe tbody tr th {\n",
       "        vertical-align: top;\n",
       "    }\n",
       "\n",
       "    .dataframe thead th {\n",
       "        text-align: right;\n",
       "    }\n",
       "</style>\n",
       "<table border=\"1\" class=\"dataframe\">\n",
       "  <thead>\n",
       "    <tr style=\"text-align: right;\">\n",
       "      <th></th>\n",
       "      <th>B</th>\n",
       "      <th>C</th>\n",
       "      <th>E</th>\n",
       "    </tr>\n",
       "  </thead>\n",
       "  <tbody>\n",
       "    <tr>\n",
       "      <th>0</th>\n",
       "      <td>None</td>\n",
       "      <td>0.559650</td>\n",
       "      <td>0.717646</td>\n",
       "    </tr>\n",
       "    <tr>\n",
       "      <th>1</th>\n",
       "      <td>None</td>\n",
       "      <td>0.096023</td>\n",
       "      <td>0.042815</td>\n",
       "    </tr>\n",
       "    <tr>\n",
       "      <th>2</th>\n",
       "      <td>None</td>\n",
       "      <td>0.171786</td>\n",
       "      <td>0.715370</td>\n",
       "    </tr>\n",
       "    <tr>\n",
       "      <th>3</th>\n",
       "      <td>None</td>\n",
       "      <td>0.188458</td>\n",
       "      <td>0.110507</td>\n",
       "    </tr>\n",
       "    <tr>\n",
       "      <th>4</th>\n",
       "      <td>None</td>\n",
       "      <td>0.741110</td>\n",
       "      <td>0.240107</td>\n",
       "    </tr>\n",
       "    <tr>\n",
       "      <th>...</th>\n",
       "      <td>...</td>\n",
       "      <td>...</td>\n",
       "      <td>...</td>\n",
       "    </tr>\n",
       "    <tr>\n",
       "      <th>327</th>\n",
       "      <td>None</td>\n",
       "      <td>0.928888</td>\n",
       "      <td>0.341904</td>\n",
       "    </tr>\n",
       "    <tr>\n",
       "      <th>328</th>\n",
       "      <td>None</td>\n",
       "      <td>0.179453</td>\n",
       "      <td>0.324832</td>\n",
       "    </tr>\n",
       "    <tr>\n",
       "      <th>329</th>\n",
       "      <td>None</td>\n",
       "      <td>0.997208</td>\n",
       "      <td>0.451827</td>\n",
       "    </tr>\n",
       "    <tr>\n",
       "      <th>330</th>\n",
       "      <td>None</td>\n",
       "      <td>0.693587</td>\n",
       "      <td>0.054329</td>\n",
       "    </tr>\n",
       "    <tr>\n",
       "      <th>331</th>\n",
       "      <td>None</td>\n",
       "      <td>0.261894</td>\n",
       "      <td>0.352966</td>\n",
       "    </tr>\n",
       "  </tbody>\n",
       "</table>\n",
       "<p>332 rows × 3 columns</p>\n",
       "</div>"
      ],
      "text/plain": [
       "        B         C         E\n",
       "0    None  0.559650  0.717646\n",
       "1    None  0.096023  0.042815\n",
       "2    None  0.171786  0.715370\n",
       "3    None  0.188458  0.110507\n",
       "4    None  0.741110  0.240107\n",
       "..    ...       ...       ...\n",
       "327  None  0.928888  0.341904\n",
       "328  None  0.179453  0.324832\n",
       "329  None  0.997208  0.451827\n",
       "330  None  0.693587  0.054329\n",
       "331  None  0.261894  0.352966\n",
       "\n",
       "[332 rows x 3 columns]"
      ]
     },
     "execution_count": 167,
     "metadata": {},
     "output_type": "execute_result"
    }
   ],
   "source": [
    "newdf"
   ]
  },
  {
   "cell_type": "code",
   "execution_count": 169,
   "id": "baefdcb9-af1d-4260-9d27-9caeb7544e33",
   "metadata": {},
   "outputs": [
    {
     "data": {
      "text/plain": [
       "0      True\n",
       "1      True\n",
       "2      True\n",
       "3      True\n",
       "4      True\n",
       "       ... \n",
       "327    True\n",
       "328    True\n",
       "329    True\n",
       "330    True\n",
       "331    True\n",
       "Name: B, Length: 332, dtype: bool"
      ]
     },
     "execution_count": 169,
     "metadata": {},
     "output_type": "execute_result"
    }
   ],
   "source": [
    "newdf['B'].isnull()"
   ]
  },
  {
   "cell_type": "code",
   "execution_count": 171,
   "id": "c7146e81-46d3-4141-af96-fcc0031f31e1",
   "metadata": {},
   "outputs": [],
   "source": [
    "newdf.loc[:,['B']] = None"
   ]
  },
  {
   "cell_type": "code",
   "execution_count": 173,
   "id": "a816ceea-7c46-4ab9-894e-6f98d5779f29",
   "metadata": {},
   "outputs": [
    {
     "data": {
      "text/html": [
       "<div>\n",
       "<style scoped>\n",
       "    .dataframe tbody tr th:only-of-type {\n",
       "        vertical-align: middle;\n",
       "    }\n",
       "\n",
       "    .dataframe tbody tr th {\n",
       "        vertical-align: top;\n",
       "    }\n",
       "\n",
       "    .dataframe thead th {\n",
       "        text-align: right;\n",
       "    }\n",
       "</style>\n",
       "<table border=\"1\" class=\"dataframe\">\n",
       "  <thead>\n",
       "    <tr style=\"text-align: right;\">\n",
       "      <th></th>\n",
       "      <th>B</th>\n",
       "      <th>C</th>\n",
       "      <th>E</th>\n",
       "    </tr>\n",
       "  </thead>\n",
       "  <tbody>\n",
       "    <tr>\n",
       "      <th>0</th>\n",
       "      <td>None</td>\n",
       "      <td>0.559650</td>\n",
       "      <td>0.717646</td>\n",
       "    </tr>\n",
       "    <tr>\n",
       "      <th>1</th>\n",
       "      <td>None</td>\n",
       "      <td>0.096023</td>\n",
       "      <td>0.042815</td>\n",
       "    </tr>\n",
       "    <tr>\n",
       "      <th>2</th>\n",
       "      <td>None</td>\n",
       "      <td>0.171786</td>\n",
       "      <td>0.715370</td>\n",
       "    </tr>\n",
       "    <tr>\n",
       "      <th>3</th>\n",
       "      <td>None</td>\n",
       "      <td>0.188458</td>\n",
       "      <td>0.110507</td>\n",
       "    </tr>\n",
       "    <tr>\n",
       "      <th>4</th>\n",
       "      <td>None</td>\n",
       "      <td>0.741110</td>\n",
       "      <td>0.240107</td>\n",
       "    </tr>\n",
       "    <tr>\n",
       "      <th>...</th>\n",
       "      <td>...</td>\n",
       "      <td>...</td>\n",
       "      <td>...</td>\n",
       "    </tr>\n",
       "    <tr>\n",
       "      <th>327</th>\n",
       "      <td>None</td>\n",
       "      <td>0.928888</td>\n",
       "      <td>0.341904</td>\n",
       "    </tr>\n",
       "    <tr>\n",
       "      <th>328</th>\n",
       "      <td>None</td>\n",
       "      <td>0.179453</td>\n",
       "      <td>0.324832</td>\n",
       "    </tr>\n",
       "    <tr>\n",
       "      <th>329</th>\n",
       "      <td>None</td>\n",
       "      <td>0.997208</td>\n",
       "      <td>0.451827</td>\n",
       "    </tr>\n",
       "    <tr>\n",
       "      <th>330</th>\n",
       "      <td>None</td>\n",
       "      <td>0.693587</td>\n",
       "      <td>0.054329</td>\n",
       "    </tr>\n",
       "    <tr>\n",
       "      <th>331</th>\n",
       "      <td>None</td>\n",
       "      <td>0.261894</td>\n",
       "      <td>0.352966</td>\n",
       "    </tr>\n",
       "  </tbody>\n",
       "</table>\n",
       "<p>332 rows × 3 columns</p>\n",
       "</div>"
      ],
      "text/plain": [
       "        B         C         E\n",
       "0    None  0.559650  0.717646\n",
       "1    None  0.096023  0.042815\n",
       "2    None  0.171786  0.715370\n",
       "3    None  0.188458  0.110507\n",
       "4    None  0.741110  0.240107\n",
       "..    ...       ...       ...\n",
       "327  None  0.928888  0.341904\n",
       "328  None  0.179453  0.324832\n",
       "329  None  0.997208  0.451827\n",
       "330  None  0.693587  0.054329\n",
       "331  None  0.261894  0.352966\n",
       "\n",
       "[332 rows x 3 columns]"
      ]
     },
     "execution_count": 173,
     "metadata": {},
     "output_type": "execute_result"
    }
   ],
   "source": [
    "newdf"
   ]
  },
  {
   "cell_type": "code",
   "execution_count": 193,
   "id": "db3c8d73-300a-4fe5-9218-0800b9155c33",
   "metadata": {},
   "outputs": [],
   "source": [
    "df = pd.DataFrame({\"name\": ['alfred', 'batman', 'alfred'],\n",
    "                   \"toy\": [np.nan, np.nan, np.nan],\n",
    "                   \"bron\": [pd.NaT, pd.Timestamp(\"1940-04-25\"),\n",
    "                                                 pd.NaT]})"
   ]
  },
  {
   "cell_type": "code",
   "execution_count": 195,
   "id": "b9b6d3a5-8c4f-4f7b-9327-71a70b9b0180",
   "metadata": {},
   "outputs": [
    {
     "data": {
      "text/html": [
       "<div>\n",
       "<style scoped>\n",
       "    .dataframe tbody tr th:only-of-type {\n",
       "        vertical-align: middle;\n",
       "    }\n",
       "\n",
       "    .dataframe tbody tr th {\n",
       "        vertical-align: top;\n",
       "    }\n",
       "\n",
       "    .dataframe thead th {\n",
       "        text-align: right;\n",
       "    }\n",
       "</style>\n",
       "<table border=\"1\" class=\"dataframe\">\n",
       "  <thead>\n",
       "    <tr style=\"text-align: right;\">\n",
       "      <th></th>\n",
       "      <th>name</th>\n",
       "      <th>toy</th>\n",
       "      <th>bron</th>\n",
       "    </tr>\n",
       "  </thead>\n",
       "  <tbody>\n",
       "    <tr>\n",
       "      <th>0</th>\n",
       "      <td>alfred</td>\n",
       "      <td>NaN</td>\n",
       "      <td>NaT</td>\n",
       "    </tr>\n",
       "    <tr>\n",
       "      <th>1</th>\n",
       "      <td>batman</td>\n",
       "      <td>NaN</td>\n",
       "      <td>1940-04-25</td>\n",
       "    </tr>\n",
       "    <tr>\n",
       "      <th>2</th>\n",
       "      <td>alfred</td>\n",
       "      <td>NaN</td>\n",
       "      <td>NaT</td>\n",
       "    </tr>\n",
       "  </tbody>\n",
       "</table>\n",
       "</div>"
      ],
      "text/plain": [
       "     name  toy       bron\n",
       "0  alfred  NaN        NaT\n",
       "1  batman  NaN 1940-04-25\n",
       "2  alfred  NaN        NaT"
      ]
     },
     "execution_count": 195,
     "metadata": {},
     "output_type": "execute_result"
    }
   ],
   "source": [
    "df.head()"
   ]
  },
  {
   "cell_type": "code",
   "execution_count": 197,
   "id": "31d20ba5-7170-4fc6-87c5-a5203e0908c7",
   "metadata": {},
   "outputs": [
    {
     "data": {
      "text/html": [
       "<div>\n",
       "<style scoped>\n",
       "    .dataframe tbody tr th:only-of-type {\n",
       "        vertical-align: middle;\n",
       "    }\n",
       "\n",
       "    .dataframe tbody tr th {\n",
       "        vertical-align: top;\n",
       "    }\n",
       "\n",
       "    .dataframe thead th {\n",
       "        text-align: right;\n",
       "    }\n",
       "</style>\n",
       "<table border=\"1\" class=\"dataframe\">\n",
       "  <thead>\n",
       "    <tr style=\"text-align: right;\">\n",
       "      <th></th>\n",
       "      <th>name</th>\n",
       "      <th>bron</th>\n",
       "    </tr>\n",
       "  </thead>\n",
       "  <tbody>\n",
       "    <tr>\n",
       "      <th>0</th>\n",
       "      <td>alfred</td>\n",
       "      <td>NaT</td>\n",
       "    </tr>\n",
       "    <tr>\n",
       "      <th>1</th>\n",
       "      <td>batman</td>\n",
       "      <td>1940-04-25</td>\n",
       "    </tr>\n",
       "    <tr>\n",
       "      <th>2</th>\n",
       "      <td>alfred</td>\n",
       "      <td>NaT</td>\n",
       "    </tr>\n",
       "  </tbody>\n",
       "</table>\n",
       "</div>"
      ],
      "text/plain": [
       "     name       bron\n",
       "0  alfred        NaT\n",
       "1  batman 1940-04-25\n",
       "2  alfred        NaT"
      ]
     },
     "execution_count": 197,
     "metadata": {},
     "output_type": "execute_result"
    }
   ],
   "source": [
    "df.dropna(how='all', axis=1)"
   ]
  },
  {
   "cell_type": "code",
   "execution_count": 199,
   "id": "99394360-bd1e-4229-b843-b45039ec116f",
   "metadata": {},
   "outputs": [
    {
     "data": {
      "text/html": [
       "<div>\n",
       "<style scoped>\n",
       "    .dataframe tbody tr th:only-of-type {\n",
       "        vertical-align: middle;\n",
       "    }\n",
       "\n",
       "    .dataframe tbody tr th {\n",
       "        vertical-align: top;\n",
       "    }\n",
       "\n",
       "    .dataframe thead th {\n",
       "        text-align: right;\n",
       "    }\n",
       "</style>\n",
       "<table border=\"1\" class=\"dataframe\">\n",
       "  <thead>\n",
       "    <tr style=\"text-align: right;\">\n",
       "      <th></th>\n",
       "      <th>name</th>\n",
       "      <th>toy</th>\n",
       "      <th>bron</th>\n",
       "    </tr>\n",
       "  </thead>\n",
       "  <tbody>\n",
       "    <tr>\n",
       "      <th>0</th>\n",
       "      <td>alfred</td>\n",
       "      <td>NaN</td>\n",
       "      <td>NaT</td>\n",
       "    </tr>\n",
       "    <tr>\n",
       "      <th>1</th>\n",
       "      <td>batman</td>\n",
       "      <td>NaN</td>\n",
       "      <td>1940-04-25</td>\n",
       "    </tr>\n",
       "  </tbody>\n",
       "</table>\n",
       "</div>"
      ],
      "text/plain": [
       "     name  toy       bron\n",
       "0  alfred  NaN        NaT\n",
       "1  batman  NaN 1940-04-25"
      ]
     },
     "execution_count": 199,
     "metadata": {},
     "output_type": "execute_result"
    }
   ],
   "source": [
    "df.drop_duplicates(subset= ['name'])"
   ]
  },
  {
   "cell_type": "code",
   "execution_count": 203,
   "id": "cfee1ce5-e604-476f-836f-7f1f508e7709",
   "metadata": {},
   "outputs": [
    {
     "data": {
      "text/html": [
       "<div>\n",
       "<style scoped>\n",
       "    .dataframe tbody tr th:only-of-type {\n",
       "        vertical-align: middle;\n",
       "    }\n",
       "\n",
       "    .dataframe tbody tr th {\n",
       "        vertical-align: top;\n",
       "    }\n",
       "\n",
       "    .dataframe thead th {\n",
       "        text-align: right;\n",
       "    }\n",
       "</style>\n",
       "<table border=\"1\" class=\"dataframe\">\n",
       "  <thead>\n",
       "    <tr style=\"text-align: right;\">\n",
       "      <th></th>\n",
       "      <th>name</th>\n",
       "      <th>toy</th>\n",
       "      <th>bron</th>\n",
       "    </tr>\n",
       "  </thead>\n",
       "  <tbody>\n",
       "    <tr>\n",
       "      <th>0</th>\n",
       "      <td>alfred</td>\n",
       "      <td>NaN</td>\n",
       "      <td>NaT</td>\n",
       "    </tr>\n",
       "    <tr>\n",
       "      <th>1</th>\n",
       "      <td>batman</td>\n",
       "      <td>NaN</td>\n",
       "      <td>1940-04-25</td>\n",
       "    </tr>\n",
       "  </tbody>\n",
       "</table>\n",
       "</div>"
      ],
      "text/plain": [
       "     name  toy       bron\n",
       "0  alfred  NaN        NaT\n",
       "1  batman  NaN 1940-04-25"
      ]
     },
     "execution_count": 203,
     "metadata": {},
     "output_type": "execute_result"
    }
   ],
   "source": [
    "df.drop_duplicates(subset= ['name'], keep='first')"
   ]
  },
  {
   "cell_type": "code",
   "execution_count": 205,
   "id": "fe970dd0-fc16-4eb5-9f63-ae0cfc33b9a8",
   "metadata": {},
   "outputs": [
    {
     "data": {
      "text/html": [
       "<div>\n",
       "<style scoped>\n",
       "    .dataframe tbody tr th:only-of-type {\n",
       "        vertical-align: middle;\n",
       "    }\n",
       "\n",
       "    .dataframe tbody tr th {\n",
       "        vertical-align: top;\n",
       "    }\n",
       "\n",
       "    .dataframe thead th {\n",
       "        text-align: right;\n",
       "    }\n",
       "</style>\n",
       "<table border=\"1\" class=\"dataframe\">\n",
       "  <thead>\n",
       "    <tr style=\"text-align: right;\">\n",
       "      <th></th>\n",
       "      <th>name</th>\n",
       "      <th>toy</th>\n",
       "      <th>bron</th>\n",
       "    </tr>\n",
       "  </thead>\n",
       "  <tbody>\n",
       "    <tr>\n",
       "      <th>1</th>\n",
       "      <td>batman</td>\n",
       "      <td>NaN</td>\n",
       "      <td>1940-04-25</td>\n",
       "    </tr>\n",
       "    <tr>\n",
       "      <th>2</th>\n",
       "      <td>alfred</td>\n",
       "      <td>NaN</td>\n",
       "      <td>NaT</td>\n",
       "    </tr>\n",
       "  </tbody>\n",
       "</table>\n",
       "</div>"
      ],
      "text/plain": [
       "     name  toy       bron\n",
       "1  batman  NaN 1940-04-25\n",
       "2  alfred  NaN        NaT"
      ]
     },
     "execution_count": 205,
     "metadata": {},
     "output_type": "execute_result"
    }
   ],
   "source": [
    "df.drop_duplicates(subset= ['name'], keep='last')"
   ]
  },
  {
   "cell_type": "code",
   "execution_count": 207,
   "id": "42cf6888-449c-4265-babe-1d5656488466",
   "metadata": {},
   "outputs": [
    {
     "data": {
      "text/html": [
       "<div>\n",
       "<style scoped>\n",
       "    .dataframe tbody tr th:only-of-type {\n",
       "        vertical-align: middle;\n",
       "    }\n",
       "\n",
       "    .dataframe tbody tr th {\n",
       "        vertical-align: top;\n",
       "    }\n",
       "\n",
       "    .dataframe thead th {\n",
       "        text-align: right;\n",
       "    }\n",
       "</style>\n",
       "<table border=\"1\" class=\"dataframe\">\n",
       "  <thead>\n",
       "    <tr style=\"text-align: right;\">\n",
       "      <th></th>\n",
       "      <th>name</th>\n",
       "      <th>toy</th>\n",
       "      <th>bron</th>\n",
       "    </tr>\n",
       "  </thead>\n",
       "  <tbody>\n",
       "    <tr>\n",
       "      <th>1</th>\n",
       "      <td>batman</td>\n",
       "      <td>NaN</td>\n",
       "      <td>1940-04-25</td>\n",
       "    </tr>\n",
       "  </tbody>\n",
       "</table>\n",
       "</div>"
      ],
      "text/plain": [
       "     name  toy       bron\n",
       "1  batman  NaN 1940-04-25"
      ]
     },
     "execution_count": 207,
     "metadata": {},
     "output_type": "execute_result"
    }
   ],
   "source": [
    "df.drop_duplicates(subset= ['name'], keep=False)"
   ]
  },
  {
   "cell_type": "code",
   "execution_count": 211,
   "id": "c010ae15-83bc-4b1d-9b09-221da6d4c030",
   "metadata": {},
   "outputs": [
    {
     "name": "stdout",
     "output_type": "stream",
     "text": [
      "<class 'pandas.core.frame.DataFrame'>\n",
      "RangeIndex: 3 entries, 0 to 2\n",
      "Data columns (total 3 columns):\n",
      " #   Column  Non-Null Count  Dtype         \n",
      "---  ------  --------------  -----         \n",
      " 0   name    3 non-null      object        \n",
      " 1   toy     0 non-null      float64       \n",
      " 2   bron    1 non-null      datetime64[ns]\n",
      "dtypes: datetime64[ns](1), float64(1), object(1)\n",
      "memory usage: 204.0+ bytes\n"
     ]
    }
   ],
   "source": [
    "df.info()"
   ]
  },
  {
   "cell_type": "code",
   "execution_count": 213,
   "id": "8ad2bcbc-4adf-43f2-bb14-d76aa71db759",
   "metadata": {},
   "outputs": [
    {
     "data": {
      "text/plain": [
       "name\n",
       "alfred    2\n",
       "batman    1\n",
       "Name: count, dtype: int64"
      ]
     },
     "execution_count": 213,
     "metadata": {},
     "output_type": "execute_result"
    }
   ],
   "source": [
    "df['name'].value_counts(dropna=False)"
   ]
  },
  {
   "cell_type": "code",
   "execution_count": 215,
   "id": "2e418b1d-a1d2-4a59-839a-569f223df5f1",
   "metadata": {},
   "outputs": [
    {
     "data": {
      "text/plain": [
       "toy\n",
       "NaN    3\n",
       "Name: count, dtype: int64"
      ]
     },
     "execution_count": 215,
     "metadata": {},
     "output_type": "execute_result"
    }
   ],
   "source": [
    "df['toy'].value_counts(dropna=False)"
   ]
  },
  {
   "cell_type": "code",
   "execution_count": 217,
   "id": "e88b6c9a-3c3c-4cb6-af65-d928c05a91b2",
   "metadata": {},
   "outputs": [
    {
     "data": {
      "text/plain": [
       "name\n",
       "alfred    2\n",
       "batman    1\n",
       "Name: count, dtype: int64"
      ]
     },
     "execution_count": 217,
     "metadata": {},
     "output_type": "execute_result"
    }
   ],
   "source": [
    "df['name'].value_counts(dropna=True)"
   ]
  },
  {
   "cell_type": "code",
   "execution_count": 219,
   "id": "c7fb7168-4899-4195-88fb-5c1b9037438d",
   "metadata": {},
   "outputs": [
    {
     "data": {
      "text/html": [
       "<div>\n",
       "<style scoped>\n",
       "    .dataframe tbody tr th:only-of-type {\n",
       "        vertical-align: middle;\n",
       "    }\n",
       "\n",
       "    .dataframe tbody tr th {\n",
       "        vertical-align: top;\n",
       "    }\n",
       "\n",
       "    .dataframe thead th {\n",
       "        text-align: right;\n",
       "    }\n",
       "</style>\n",
       "<table border=\"1\" class=\"dataframe\">\n",
       "  <thead>\n",
       "    <tr style=\"text-align: right;\">\n",
       "      <th></th>\n",
       "      <th>name</th>\n",
       "      <th>toy</th>\n",
       "      <th>bron</th>\n",
       "    </tr>\n",
       "  </thead>\n",
       "  <tbody>\n",
       "    <tr>\n",
       "      <th>0</th>\n",
       "      <td>False</td>\n",
       "      <td>True</td>\n",
       "      <td>True</td>\n",
       "    </tr>\n",
       "    <tr>\n",
       "      <th>1</th>\n",
       "      <td>False</td>\n",
       "      <td>True</td>\n",
       "      <td>False</td>\n",
       "    </tr>\n",
       "    <tr>\n",
       "      <th>2</th>\n",
       "      <td>False</td>\n",
       "      <td>True</td>\n",
       "      <td>True</td>\n",
       "    </tr>\n",
       "  </tbody>\n",
       "</table>\n",
       "</div>"
      ],
      "text/plain": [
       "    name   toy   bron\n",
       "0  False  True   True\n",
       "1  False  True  False\n",
       "2  False  True   True"
      ]
     },
     "execution_count": 219,
     "metadata": {},
     "output_type": "execute_result"
    }
   ],
   "source": [
    "df.isnull()"
   ]
  },
  {
   "cell_type": "code",
   "execution_count": 221,
   "id": "24687cf5-2ea0-4da7-9810-bab09cc654cd",
   "metadata": {},
   "outputs": [
    {
     "data": {
      "text/html": [
       "<div>\n",
       "<style scoped>\n",
       "    .dataframe tbody tr th:only-of-type {\n",
       "        vertical-align: middle;\n",
       "    }\n",
       "\n",
       "    .dataframe tbody tr th {\n",
       "        vertical-align: top;\n",
       "    }\n",
       "\n",
       "    .dataframe thead th {\n",
       "        text-align: right;\n",
       "    }\n",
       "</style>\n",
       "<table border=\"1\" class=\"dataframe\">\n",
       "  <thead>\n",
       "    <tr style=\"text-align: right;\">\n",
       "      <th></th>\n",
       "      <th>name</th>\n",
       "      <th>toy</th>\n",
       "      <th>bron</th>\n",
       "    </tr>\n",
       "  </thead>\n",
       "  <tbody>\n",
       "    <tr>\n",
       "      <th>0</th>\n",
       "      <td>True</td>\n",
       "      <td>False</td>\n",
       "      <td>False</td>\n",
       "    </tr>\n",
       "    <tr>\n",
       "      <th>1</th>\n",
       "      <td>True</td>\n",
       "      <td>False</td>\n",
       "      <td>True</td>\n",
       "    </tr>\n",
       "    <tr>\n",
       "      <th>2</th>\n",
       "      <td>True</td>\n",
       "      <td>False</td>\n",
       "      <td>False</td>\n",
       "    </tr>\n",
       "  </tbody>\n",
       "</table>\n",
       "</div>"
      ],
      "text/plain": [
       "   name    toy   bron\n",
       "0  True  False  False\n",
       "1  True  False   True\n",
       "2  True  False  False"
      ]
     },
     "execution_count": 221,
     "metadata": {},
     "output_type": "execute_result"
    }
   ],
   "source": [
    "df.notnull()"
   ]
  },
  {
   "cell_type": "code",
   "execution_count": 233,
   "id": "7349c740-a264-423e-a24a-aaa93cc24776",
   "metadata": {},
   "outputs": [],
   "source": [
    "df = pd.DataFrame ({\n",
    "    'Column1': [1, 2, 3],  \n",
    "    'Column2': [4, 5, 6]  \n",
    "})"
   ]
  },
  {
   "cell_type": "code",
   "execution_count": 235,
   "id": "951c1fed-3c54-473f-b674-5394381fe9b0",
   "metadata": {},
   "outputs": [
    {
     "data": {
      "text/html": [
       "<div>\n",
       "<style scoped>\n",
       "    .dataframe tbody tr th:only-of-type {\n",
       "        vertical-align: middle;\n",
       "    }\n",
       "\n",
       "    .dataframe tbody tr th {\n",
       "        vertical-align: top;\n",
       "    }\n",
       "\n",
       "    .dataframe thead th {\n",
       "        text-align: right;\n",
       "    }\n",
       "</style>\n",
       "<table border=\"1\" class=\"dataframe\">\n",
       "  <thead>\n",
       "    <tr style=\"text-align: right;\">\n",
       "      <th></th>\n",
       "      <th>Column1</th>\n",
       "      <th>Column2</th>\n",
       "    </tr>\n",
       "  </thead>\n",
       "  <tbody>\n",
       "    <tr>\n",
       "      <th>0</th>\n",
       "      <td>1</td>\n",
       "      <td>4</td>\n",
       "    </tr>\n",
       "    <tr>\n",
       "      <th>1</th>\n",
       "      <td>2</td>\n",
       "      <td>5</td>\n",
       "    </tr>\n",
       "    <tr>\n",
       "      <th>2</th>\n",
       "      <td>3</td>\n",
       "      <td>6</td>\n",
       "    </tr>\n",
       "  </tbody>\n",
       "</table>\n",
       "</div>"
      ],
      "text/plain": [
       "   Column1  Column2\n",
       "0        1        4\n",
       "1        2        5\n",
       "2        3        6"
      ]
     },
     "execution_count": 235,
     "metadata": {},
     "output_type": "execute_result"
    }
   ],
   "source": [
    "df.head()"
   ]
  },
  {
   "cell_type": "code",
   "execution_count": 237,
   "id": "6d43ff1e-2d0d-4619-ae42-c0848f8ce0f9",
   "metadata": {},
   "outputs": [
    {
     "data": {
      "text/html": [
       "<div>\n",
       "<style scoped>\n",
       "    .dataframe tbody tr th:only-of-type {\n",
       "        vertical-align: middle;\n",
       "    }\n",
       "\n",
       "    .dataframe tbody tr th {\n",
       "        vertical-align: top;\n",
       "    }\n",
       "\n",
       "    .dataframe thead th {\n",
       "        text-align: right;\n",
       "    }\n",
       "</style>\n",
       "<table border=\"1\" class=\"dataframe\">\n",
       "  <thead>\n",
       "    <tr style=\"text-align: right;\">\n",
       "      <th></th>\n",
       "      <th>Column1</th>\n",
       "      <th>Column2</th>\n",
       "    </tr>\n",
       "  </thead>\n",
       "  <tbody>\n",
       "    <tr>\n",
       "      <th>count</th>\n",
       "      <td>3.0</td>\n",
       "      <td>3.0</td>\n",
       "    </tr>\n",
       "    <tr>\n",
       "      <th>mean</th>\n",
       "      <td>2.0</td>\n",
       "      <td>5.0</td>\n",
       "    </tr>\n",
       "    <tr>\n",
       "      <th>std</th>\n",
       "      <td>1.0</td>\n",
       "      <td>1.0</td>\n",
       "    </tr>\n",
       "    <tr>\n",
       "      <th>min</th>\n",
       "      <td>1.0</td>\n",
       "      <td>4.0</td>\n",
       "    </tr>\n",
       "    <tr>\n",
       "      <th>25%</th>\n",
       "      <td>1.5</td>\n",
       "      <td>4.5</td>\n",
       "    </tr>\n",
       "    <tr>\n",
       "      <th>50%</th>\n",
       "      <td>2.0</td>\n",
       "      <td>5.0</td>\n",
       "    </tr>\n",
       "    <tr>\n",
       "      <th>75%</th>\n",
       "      <td>2.5</td>\n",
       "      <td>5.5</td>\n",
       "    </tr>\n",
       "    <tr>\n",
       "      <th>max</th>\n",
       "      <td>3.0</td>\n",
       "      <td>6.0</td>\n",
       "    </tr>\n",
       "  </tbody>\n",
       "</table>\n",
       "</div>"
      ],
      "text/plain": [
       "       Column1  Column2\n",
       "count      3.0      3.0\n",
       "mean       2.0      5.0\n",
       "std        1.0      1.0\n",
       "min        1.0      4.0\n",
       "25%        1.5      4.5\n",
       "50%        2.0      5.0\n",
       "75%        2.5      5.5\n",
       "max        3.0      6.0"
      ]
     },
     "execution_count": 237,
     "metadata": {},
     "output_type": "execute_result"
    }
   ],
   "source": [
    "df.describe()"
   ]
  },
  {
   "cell_type": "code",
   "execution_count": 239,
   "id": "7d38a650-1d8c-4cc8-bd18-66c820c26ae6",
   "metadata": {},
   "outputs": [
    {
     "data": {
      "text/plain": [
       "Column1    2.0\n",
       "Column2    5.0\n",
       "dtype: float64"
      ]
     },
     "execution_count": 239,
     "metadata": {},
     "output_type": "execute_result"
    }
   ],
   "source": [
    "df.mean()"
   ]
  },
  {
   "cell_type": "code",
   "execution_count": 243,
   "id": "c6c5fcd2-aa8d-4a97-8d2d-a6bae7476ed3",
   "metadata": {},
   "outputs": [
    {
     "data": {
      "text/html": [
       "<div>\n",
       "<style scoped>\n",
       "    .dataframe tbody tr th:only-of-type {\n",
       "        vertical-align: middle;\n",
       "    }\n",
       "\n",
       "    .dataframe tbody tr th {\n",
       "        vertical-align: top;\n",
       "    }\n",
       "\n",
       "    .dataframe thead th {\n",
       "        text-align: right;\n",
       "    }\n",
       "</style>\n",
       "<table border=\"1\" class=\"dataframe\">\n",
       "  <thead>\n",
       "    <tr style=\"text-align: right;\">\n",
       "      <th></th>\n",
       "      <th>Column1</th>\n",
       "      <th>Column2</th>\n",
       "    </tr>\n",
       "  </thead>\n",
       "  <tbody>\n",
       "    <tr>\n",
       "      <th>Column1</th>\n",
       "      <td>1.0</td>\n",
       "      <td>1.0</td>\n",
       "    </tr>\n",
       "    <tr>\n",
       "      <th>Column2</th>\n",
       "      <td>1.0</td>\n",
       "      <td>1.0</td>\n",
       "    </tr>\n",
       "  </tbody>\n",
       "</table>\n",
       "</div>"
      ],
      "text/plain": [
       "         Column1  Column2\n",
       "Column1      1.0      1.0\n",
       "Column2      1.0      1.0"
      ]
     },
     "execution_count": 243,
     "metadata": {},
     "output_type": "execute_result"
    }
   ],
   "source": [
    "df.corr()"
   ]
  },
  {
   "cell_type": "code",
   "execution_count": 245,
   "id": "436eeea6-920c-49f7-b9ca-68a90b018249",
   "metadata": {},
   "outputs": [
    {
     "data": {
      "text/plain": [
       "Column1    3\n",
       "Column2    3\n",
       "dtype: int64"
      ]
     },
     "execution_count": 245,
     "metadata": {},
     "output_type": "execute_result"
    }
   ],
   "source": [
    "df.count()"
   ]
  },
  {
   "cell_type": "code",
   "execution_count": 247,
   "id": "86d49c5e-1977-44bd-81fc-84b1caf01900",
   "metadata": {},
   "outputs": [
    {
     "data": {
      "text/plain": [
       "Column1    3\n",
       "Column2    6\n",
       "dtype: int64"
      ]
     },
     "execution_count": 247,
     "metadata": {},
     "output_type": "execute_result"
    }
   ],
   "source": [
    "df.max()"
   ]
  },
  {
   "cell_type": "code",
   "execution_count": 249,
   "id": "6bc5655f-f335-4860-aa5e-1b36a11b8d4d",
   "metadata": {},
   "outputs": [
    {
     "data": {
      "text/plain": [
       "Column1    1\n",
       "Column2    4\n",
       "dtype: int64"
      ]
     },
     "execution_count": 249,
     "metadata": {},
     "output_type": "execute_result"
    }
   ],
   "source": [
    "df.min()"
   ]
  },
  {
   "cell_type": "code",
   "execution_count": 251,
   "id": "2e2b705c-336d-43c7-8bc3-0691503d0be2",
   "metadata": {},
   "outputs": [
    {
     "data": {
      "text/plain": [
       "Column1    2.0\n",
       "Column2    5.0\n",
       "dtype: float64"
      ]
     },
     "execution_count": 251,
     "metadata": {},
     "output_type": "execute_result"
    }
   ],
   "source": [
    "df.median()"
   ]
  },
  {
   "cell_type": "code",
   "execution_count": 253,
   "id": "21603c88-919e-4fc8-bbc4-41eb64c95f70",
   "metadata": {},
   "outputs": [
    {
     "data": {
      "text/plain": [
       "Column1    1.0\n",
       "Column2    1.0\n",
       "dtype: float64"
      ]
     },
     "execution_count": 253,
     "metadata": {},
     "output_type": "execute_result"
    }
   ],
   "source": [
    "df.std()"
   ]
  },
  {
   "cell_type": "code",
   "execution_count": 278,
   "id": "c8493700-f43f-4160-920c-d8aa080c0568",
   "metadata": {},
   "outputs": [],
   "source": [
    "data = pd.read_excel('data.xlsm')"
   ]
  },
  {
   "cell_type": "code",
   "execution_count": 276,
   "id": "97efd67d-a67f-4dfb-af39-a71daa392687",
   "metadata": {},
   "outputs": [
    {
     "data": {
      "text/html": [
       "<div>\n",
       "<style scoped>\n",
       "    .dataframe tbody tr th:only-of-type {\n",
       "        vertical-align: middle;\n",
       "    }\n",
       "\n",
       "    .dataframe tbody tr th {\n",
       "        vertical-align: top;\n",
       "    }\n",
       "\n",
       "    .dataframe thead th {\n",
       "        text-align: right;\n",
       "    }\n",
       "</style>\n",
       "<table border=\"1\" class=\"dataframe\">\n",
       "  <thead>\n",
       "    <tr style=\"text-align: right;\">\n",
       "      <th></th>\n",
       "      <th>Unnamed: 0.3</th>\n",
       "      <th>Unnamed: 0.2</th>\n",
       "      <th>Unnamed: 0.1</th>\n",
       "      <th>Unnamed: 0</th>\n",
       "      <th>name</th>\n",
       "      <th>mark</th>\n",
       "      <th>city</th>\n",
       "    </tr>\n",
       "  </thead>\n",
       "  <tbody>\n",
       "    <tr>\n",
       "      <th>1st</th>\n",
       "      <td>0</td>\n",
       "      <td>0</td>\n",
       "      <td>0</td>\n",
       "      <td>0</td>\n",
       "      <td>harry</td>\n",
       "      <td>99</td>\n",
       "      <td>dhaka</td>\n",
       "    </tr>\n",
       "    <tr>\n",
       "      <th>2nd</th>\n",
       "      <td>1</td>\n",
       "      <td>1</td>\n",
       "      <td>1</td>\n",
       "      <td>1</td>\n",
       "      <td>rohan</td>\n",
       "      <td>34</td>\n",
       "      <td>khulna</td>\n",
       "    </tr>\n",
       "    <tr>\n",
       "      <th>3rd</th>\n",
       "      <td>2</td>\n",
       "      <td>2</td>\n",
       "      <td>2</td>\n",
       "      <td>2</td>\n",
       "      <td>skillf</td>\n",
       "      <td>24</td>\n",
       "      <td>kushtia</td>\n",
       "    </tr>\n",
       "    <tr>\n",
       "      <th>4th</th>\n",
       "      <td>3</td>\n",
       "      <td>3</td>\n",
       "      <td>3</td>\n",
       "      <td>3</td>\n",
       "      <td>shubh</td>\n",
       "      <td>17</td>\n",
       "      <td>kolkata</td>\n",
       "    </tr>\n",
       "  </tbody>\n",
       "</table>\n",
       "</div>"
      ],
      "text/plain": [
       "     Unnamed: 0.3  Unnamed: 0.2  Unnamed: 0.1  Unnamed: 0    name  mark  \\\n",
       "1st             0             0             0           0   harry    99   \n",
       "2nd             1             1             1           1   rohan    34   \n",
       "3rd             2             2             2           2  skillf    24   \n",
       "4th             3             3             3           3   shubh    17   \n",
       "\n",
       "        city  \n",
       "1st    dhaka  \n",
       "2nd   khulna  \n",
       "3rd  kushtia  \n",
       "4th  kolkata  "
      ]
     },
     "execution_count": 276,
     "metadata": {},
     "output_type": "execute_result"
    }
   ],
   "source": [
    "shah"
   ]
  },
  {
   "cell_type": "code",
   "execution_count": 288,
   "id": "7c01d7db-e24c-43a7-94a0-30d61b2f70b6",
   "metadata": {},
   "outputs": [
    {
     "name": "stdout",
     "output_type": "stream",
     "text": [
      "Index(['name', 'mark', 'city'], dtype='object')\n"
     ]
    }
   ],
   "source": [
    "print(data.columns)\n",
    "\n",
    "columns_to_drop = ['Unnamed: 0.3', 'Unnamed: 0.2', 'Unnamed: 0.1', 'Unnamed: 0']\n",
    "\n",
    "\n",
    "columns_to_drop = [col for col in columns_to_drop if col in data.columns]\n",
    "\n",
    "\n",
    "data.drop(columns=columns_to_drop, axis=1, inplace=True)"
   ]
  },
  {
   "cell_type": "code",
   "execution_count": 290,
   "id": "7ded6bda-ded1-41ad-bc83-3750beb0e4f3",
   "metadata": {},
   "outputs": [
    {
     "data": {
      "text/html": [
       "<div>\n",
       "<style scoped>\n",
       "    .dataframe tbody tr th:only-of-type {\n",
       "        vertical-align: middle;\n",
       "    }\n",
       "\n",
       "    .dataframe tbody tr th {\n",
       "        vertical-align: top;\n",
       "    }\n",
       "\n",
       "    .dataframe thead th {\n",
       "        text-align: right;\n",
       "    }\n",
       "</style>\n",
       "<table border=\"1\" class=\"dataframe\">\n",
       "  <thead>\n",
       "    <tr style=\"text-align: right;\">\n",
       "      <th></th>\n",
       "      <th>Column1</th>\n",
       "      <th>Column2</th>\n",
       "    </tr>\n",
       "  </thead>\n",
       "  <tbody>\n",
       "    <tr>\n",
       "      <th>0</th>\n",
       "      <td>1</td>\n",
       "      <td>4</td>\n",
       "    </tr>\n",
       "    <tr>\n",
       "      <th>1</th>\n",
       "      <td>2</td>\n",
       "      <td>5</td>\n",
       "    </tr>\n",
       "    <tr>\n",
       "      <th>2</th>\n",
       "      <td>3</td>\n",
       "      <td>6</td>\n",
       "    </tr>\n",
       "  </tbody>\n",
       "</table>\n",
       "</div>"
      ],
      "text/plain": [
       "   Column1  Column2\n",
       "0        1        4\n",
       "1        2        5\n",
       "2        3        6"
      ]
     },
     "execution_count": 290,
     "metadata": {},
     "output_type": "execute_result"
    }
   ],
   "source": [
    "df.head()"
   ]
  },
  {
   "cell_type": "code",
   "execution_count": 303,
   "id": "089913cf-7294-4769-8d6b-cac0db67ff91",
   "metadata": {},
   "outputs": [],
   "source": [
    "data = pd.read_excel('data.xlsm',sheet_name='Sheet 1')"
   ]
  },
  {
   "cell_type": "code",
   "execution_count": 307,
   "id": "4cc1c974-fef8-467f-bab1-da976478eb5b",
   "metadata": {},
   "outputs": [
    {
     "data": {
      "text/html": [
       "<div>\n",
       "<style scoped>\n",
       "    .dataframe tbody tr th:only-of-type {\n",
       "        vertical-align: middle;\n",
       "    }\n",
       "\n",
       "    .dataframe tbody tr th {\n",
       "        vertical-align: top;\n",
       "    }\n",
       "\n",
       "    .dataframe thead th {\n",
       "        text-align: right;\n",
       "    }\n",
       "</style>\n",
       "<table border=\"1\" class=\"dataframe\">\n",
       "  <thead>\n",
       "    <tr style=\"text-align: right;\">\n",
       "      <th></th>\n",
       "      <th>name</th>\n",
       "      <th>mark</th>\n",
       "      <th>city</th>\n",
       "    </tr>\n",
       "  </thead>\n",
       "  <tbody>\n",
       "    <tr>\n",
       "      <th>0</th>\n",
       "      <td>harry</td>\n",
       "      <td>56</td>\n",
       "      <td>dhaka</td>\n",
       "    </tr>\n",
       "    <tr>\n",
       "      <th>1</th>\n",
       "      <td>rohan</td>\n",
       "      <td>84</td>\n",
       "      <td>khulna</td>\n",
       "    </tr>\n",
       "    <tr>\n",
       "      <th>2</th>\n",
       "      <td>skillf</td>\n",
       "      <td>54</td>\n",
       "      <td>kushtia</td>\n",
       "    </tr>\n",
       "    <tr>\n",
       "      <th>3</th>\n",
       "      <td>shubh</td>\n",
       "      <td>97</td>\n",
       "      <td>kolkata</td>\n",
       "    </tr>\n",
       "  </tbody>\n",
       "</table>\n",
       "</div>"
      ],
      "text/plain": [
       "     name  mark     city\n",
       "0   harry    56    dhaka\n",
       "1   rohan    84   khulna\n",
       "2  skillf    54  kushtia\n",
       "3   shubh    97  kolkata"
      ]
     },
     "execution_count": 307,
     "metadata": {},
     "output_type": "execute_result"
    }
   ],
   "source": [
    "data"
   ]
  },
  {
   "cell_type": "code",
   "execution_count": 311,
   "id": "e06d4e8c-1b6b-4a71-af18-ec51662a1e69",
   "metadata": {},
   "outputs": [],
   "source": [
    "data = pd.read_excel('data.xlsm', sheet_name='Sheet2')"
   ]
  },
  {
   "cell_type": "code",
   "execution_count": 313,
   "id": "17631550-857d-4f54-916a-90874740ca3c",
   "metadata": {},
   "outputs": [
    {
     "data": {
      "text/html": [
       "<div>\n",
       "<style scoped>\n",
       "    .dataframe tbody tr th:only-of-type {\n",
       "        vertical-align: middle;\n",
       "    }\n",
       "\n",
       "    .dataframe tbody tr th {\n",
       "        vertical-align: top;\n",
       "    }\n",
       "\n",
       "    .dataframe thead th {\n",
       "        text-align: right;\n",
       "    }\n",
       "</style>\n",
       "<table border=\"1\" class=\"dataframe\">\n",
       "  <thead>\n",
       "    <tr style=\"text-align: right;\">\n",
       "      <th></th>\n",
       "      <th>name2</th>\n",
       "      <th>mark2</th>\n",
       "      <th>city2</th>\n",
       "    </tr>\n",
       "  </thead>\n",
       "  <tbody>\n",
       "    <tr>\n",
       "      <th>0</th>\n",
       "      <td>harry2</td>\n",
       "      <td>56</td>\n",
       "      <td>dhaka2</td>\n",
       "    </tr>\n",
       "    <tr>\n",
       "      <th>1</th>\n",
       "      <td>rohan2</td>\n",
       "      <td>84</td>\n",
       "      <td>khulna2</td>\n",
       "    </tr>\n",
       "    <tr>\n",
       "      <th>2</th>\n",
       "      <td>skillf2</td>\n",
       "      <td>54</td>\n",
       "      <td>kushtia2</td>\n",
       "    </tr>\n",
       "    <tr>\n",
       "      <th>3</th>\n",
       "      <td>shubh2</td>\n",
       "      <td>97</td>\n",
       "      <td>kolkata2</td>\n",
       "    </tr>\n",
       "  </tbody>\n",
       "</table>\n",
       "</div>"
      ],
      "text/plain": [
       "     name2  mark2     city2\n",
       "0   harry2     56    dhaka2\n",
       "1   rohan2     84   khulna2\n",
       "2  skillf2     54  kushtia2\n",
       "3   shubh2     97  kolkata2"
      ]
     },
     "execution_count": 313,
     "metadata": {},
     "output_type": "execute_result"
    }
   ],
   "source": [
    "data"
   ]
  },
  {
   "cell_type": "code",
   "execution_count": 315,
   "id": "44bc7d33-c762-4578-8c2e-eeac0cad6a44",
   "metadata": {},
   "outputs": [],
   "source": [
    "data.iloc[0,0] = 34"
   ]
  },
  {
   "cell_type": "code",
   "execution_count": 317,
   "id": "bab7a69b-7e9e-4f07-99ee-9529c71ef10a",
   "metadata": {},
   "outputs": [
    {
     "data": {
      "text/html": [
       "<div>\n",
       "<style scoped>\n",
       "    .dataframe tbody tr th:only-of-type {\n",
       "        vertical-align: middle;\n",
       "    }\n",
       "\n",
       "    .dataframe tbody tr th {\n",
       "        vertical-align: top;\n",
       "    }\n",
       "\n",
       "    .dataframe thead th {\n",
       "        text-align: right;\n",
       "    }\n",
       "</style>\n",
       "<table border=\"1\" class=\"dataframe\">\n",
       "  <thead>\n",
       "    <tr style=\"text-align: right;\">\n",
       "      <th></th>\n",
       "      <th>name2</th>\n",
       "      <th>mark2</th>\n",
       "      <th>city2</th>\n",
       "    </tr>\n",
       "  </thead>\n",
       "  <tbody>\n",
       "    <tr>\n",
       "      <th>0</th>\n",
       "      <td>34</td>\n",
       "      <td>56</td>\n",
       "      <td>dhaka2</td>\n",
       "    </tr>\n",
       "    <tr>\n",
       "      <th>1</th>\n",
       "      <td>rohan2</td>\n",
       "      <td>84</td>\n",
       "      <td>khulna2</td>\n",
       "    </tr>\n",
       "    <tr>\n",
       "      <th>2</th>\n",
       "      <td>skillf2</td>\n",
       "      <td>54</td>\n",
       "      <td>kushtia2</td>\n",
       "    </tr>\n",
       "    <tr>\n",
       "      <th>3</th>\n",
       "      <td>shubh2</td>\n",
       "      <td>97</td>\n",
       "      <td>kolkata2</td>\n",
       "    </tr>\n",
       "  </tbody>\n",
       "</table>\n",
       "</div>"
      ],
      "text/plain": [
       "     name2  mark2     city2\n",
       "0       34     56    dhaka2\n",
       "1   rohan2     84   khulna2\n",
       "2  skillf2     54  kushtia2\n",
       "3   shubh2     97  kolkata2"
      ]
     },
     "execution_count": 317,
     "metadata": {},
     "output_type": "execute_result"
    }
   ],
   "source": [
    "data"
   ]
  },
  {
   "cell_type": "code",
   "execution_count": 325,
   "id": "d64f791d-76a7-4406-8842-b80c678ae020",
   "metadata": {},
   "outputs": [],
   "source": [
    "data.to_excel('data.xlsm', sheet_name='Sheet2')"
   ]
  },
  {
   "cell_type": "code",
   "execution_count": 327,
   "id": "7f9225fa-9615-4086-9b31-3217a93fec6c",
   "metadata": {},
   "outputs": [
    {
     "data": {
      "text/html": [
       "<div>\n",
       "<style scoped>\n",
       "    .dataframe tbody tr th:only-of-type {\n",
       "        vertical-align: middle;\n",
       "    }\n",
       "\n",
       "    .dataframe tbody tr th {\n",
       "        vertical-align: top;\n",
       "    }\n",
       "\n",
       "    .dataframe thead th {\n",
       "        text-align: right;\n",
       "    }\n",
       "</style>\n",
       "<table border=\"1\" class=\"dataframe\">\n",
       "  <thead>\n",
       "    <tr style=\"text-align: right;\">\n",
       "      <th></th>\n",
       "      <th>name2</th>\n",
       "      <th>mark2</th>\n",
       "      <th>city2</th>\n",
       "    </tr>\n",
       "  </thead>\n",
       "  <tbody>\n",
       "    <tr>\n",
       "      <th>0</th>\n",
       "      <td>34</td>\n",
       "      <td>56</td>\n",
       "      <td>dhaka2</td>\n",
       "    </tr>\n",
       "    <tr>\n",
       "      <th>1</th>\n",
       "      <td>rohan2</td>\n",
       "      <td>84</td>\n",
       "      <td>khulna2</td>\n",
       "    </tr>\n",
       "    <tr>\n",
       "      <th>2</th>\n",
       "      <td>skillf2</td>\n",
       "      <td>54</td>\n",
       "      <td>kushtia2</td>\n",
       "    </tr>\n",
       "    <tr>\n",
       "      <th>3</th>\n",
       "      <td>shubh2</td>\n",
       "      <td>97</td>\n",
       "      <td>kolkata2</td>\n",
       "    </tr>\n",
       "  </tbody>\n",
       "</table>\n",
       "</div>"
      ],
      "text/plain": [
       "     name2  mark2     city2\n",
       "0       34     56    dhaka2\n",
       "1   rohan2     84   khulna2\n",
       "2  skillf2     54  kushtia2\n",
       "3   shubh2     97  kolkata2"
      ]
     },
     "execution_count": 327,
     "metadata": {},
     "output_type": "execute_result"
    }
   ],
   "source": [
    "data"
   ]
  },
  {
   "cell_type": "code",
   "execution_count": null,
   "id": "1ad24db2-0f2e-4fc1-9d7e-0425123601bb",
   "metadata": {},
   "outputs": [],
   "source": []
  }
 ],
 "metadata": {
  "kernelspec": {
   "display_name": "Python 3 (ipykernel)",
   "language": "python",
   "name": "python3"
  },
  "language_info": {
   "codemirror_mode": {
    "name": "ipython",
    "version": 3
   },
   "file_extension": ".py",
   "mimetype": "text/x-python",
   "name": "python",
   "nbconvert_exporter": "python",
   "pygments_lexer": "ipython3",
   "version": "3.12.4"
  }
 },
 "nbformat": 4,
 "nbformat_minor": 5
}
